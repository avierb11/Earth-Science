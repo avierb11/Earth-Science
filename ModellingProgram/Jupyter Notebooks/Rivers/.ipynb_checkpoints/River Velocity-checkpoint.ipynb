{
 "cells": [
  {
   "cell_type": "markdown",
   "metadata": {},
   "source": [
    "# River Velocity Equations\n",
    "<p> This notebook aims to put various equations relating to the velocity of a river into forms that can be used for computation</p>\n",
    "\n",
    "## Things to add\n",
    "- Functions relating each of the averaged velocity equations to each other"
   ]
  },
  {
   "cell_type": "markdown",
   "metadata": {},
   "source": [
    "## The Law of the Wall\n",
    "<p> The Law of the Wall describes flow velocity in a channel as a function of depth, a characteristic turbulent length, and shear velocity\n",
    "</p>\n",
    "\n",
    "$\\bar{U} = \\frac{u_{*}}{k}\\ln(\\frac{z}{z_{0}})$\n",
    "\n",
    "<p> Where $\\bar{U}$ is velocity, $u_{*}$ is shear velocity, $k$ is the von Karman constant, which is equal to .4, $z$ is an arbitrary river height (with 0 at the bottom), and $z_{0}$ is the characteristic roughness term.\n",
    "</p>\n",
    "\n",
    "<p>Shear velocity can be calculated as $u_{*} = \\sqrt{\\frac{\\tau_{0}}{\\rho}}$</p>\n",
    "    \n",
    "<p>Where $\\tau_{0} = \\rho g h S$ </p>\n",
    "\n",
    "<p>From these equations, the Law of the Wall can be reduced to the equation that I use in my equations, $\\frac{\\sqrt{g h S}}{k} ln(\\frac{z}{z_{0}})$ </p>\n",
    "    \n",
    "    \n",
    "#### Things to add to the section\n",
    "- Equation that uses a general equation of shear velocity"
   ]
  },
  {
   "cell_type": "code",
   "execution_count": 1,
   "metadata": {},
   "outputs": [],
   "source": [
    "def wallU(h, S, z, z0):\n",
    "    '''\n",
    "    Returns the velocity according to the Law of the Wall by calculating the shear velocity\n",
    "    '''\n",
    "    return ((9.81 * h * S) / .4) * np.log(z/z0)\n",
    "\n",
    "def wallU2(u, z, z0):\n",
    "    '''\n",
    "    Returns the velocity according to the Law of the Wall using a given shear velocity\n",
    "    '''\n",
    "    return (u / .4) * np.log(z/z0)"
   ]
  },
  {
   "cell_type": "markdown",
   "metadata": {},
   "source": [
    "### Average Values\n",
    "<p> For certain calculations, the average value of the velocity over a given point may be more useful. To get the average value, use the mean value theorem to solve for the equation: \\n $\\bar{U} = h (ln(\\frac{h}{z_{0}}) - 1)$\n",
    "    \n",
    " This equation is somewhat simplified in that some terms involving $z_{0}$ are ignored because they have a negligible impact on velocity, therefore reducing the calculation price. Solving for the height at which the river velocity is equal to the average velocity gives a value of .37h, so at essentially 40% from the bottom of the river.</p>\n",
    " \n",
    " \n",
    " #### Remaining parts for this section\n",
    " - Point value that does NOT simplify terms\n",
    " - Definition that uses general shear veloctiy term"
   ]
  },
  {
   "cell_type": "code",
   "execution_count": 1,
   "metadata": {},
   "outputs": [],
   "source": [
    "def averageWallU(h, S, z0):\n",
    "    '''\n",
    "    Calculates the average velocity over a given point\n",
    "    '''\n",
    "    return (math.sqrt(9.81 * S  * h)/ (.4) )* (np.log(h/z0) - 1)\n",
    "\n",
    "\n",
    "def averageWallU2(u, h, z0):\n",
    "    '''\n",
    "    returns the average velocity at a point using a given shear velocity rather than a calculated one\n",
    "    '''\n",
    "    return (u / .4) * (np.log(h/z0) - 1)"
   ]
  },
  {
   "cell_type": "markdown",
   "metadata": {},
   "source": [
    "## Manning's Equation\n",
    "\n",
    "<p> Another equation used to describe the average velocity in a channel.</p>\n",
    "$U_{a} = a \\frac{R_{h}^{2/3}S^{1/2}}{n}$\n",
    "\n",
    "<p>Where $R_{h}$* is the hydraulic perimeter, $S$ is slope, $n$ is Manning's roughness coefficient, and $a$ is a dimensionless constant that is 1.0 in SI units.\n",
    "    \n",
    "*$R_{h} = \\frac{A}{P} = \\frac{W H}{W + 2H}$ where $W$ is the width of the channel and $H$ is the height of the channel.</p>\n",
    "\n",
    "<p>For many systems, W >> H, so the hydraulic radius is essentially H, by the above equation.</p>"
   ]
  },
  {
   "cell_type": "code",
   "execution_count": null,
   "metadata": {},
   "outputs": [],
   "source": [
    "def manningU(R, S, n, a=1.0):\n",
    "    '''\n",
    "    Returns the Manning velocity, assumes a = 1\n",
    "    '''\n",
    "    return a * ((R**(2/3) * S**.5)/n)\n",
    "\n",
    "def hydraulicRadius(w, h):\n",
    "    '''\n",
    "    Returns the hydraulic radius of a channel after\n",
    "    assuming the channel has a rectangular cross section.\n",
    "    '''\n",
    "    return (W*H)/ (W + 2*H)"
   ]
  },
  {
   "cell_type": "markdown",
   "metadata": {},
   "source": [
    "## Chezy Formula\n",
    "<p>Another formula for determining mean flow velocity</p>\n",
    "$U_{a} = C (R_{h} S)^{1/2}$\n",
    "<p> Where C is the Chezy coefficient<p>"
   ]
  },
  {
   "cell_type": "code",
   "execution_count": 9,
   "metadata": {},
   "outputs": [],
   "source": [
    "def chezyU(C, R, S):\n",
    "    '''\n",
    "    Calculates U based on the Chezy formula\n",
    "    '''\n",
    "    return C * np.sqrt(R * S)"
   ]
  },
  {
   "cell_type": "markdown",
   "metadata": {},
   "source": [
    "## Darcy-Weisbach Equation\n",
    "<p>Another equation describing average flow velocity</p>\n",
    "$U_{a} = \\frac{1}{f} (g H S)^{1/2}$\n",
    "Where $f$ is the Darcy-Weisbach friction factor."
   ]
  },
  {
   "cell_type": "code",
   "execution_count": 10,
   "metadata": {},
   "outputs": [],
   "source": [
    "def darcyWeisbachU(f, H, S):\n",
    "    '''\n",
    "    Returns U based on the Darcy-Weisbach equation\n",
    "    '''\n",
    "    return (1/f)*np.sqrt(g*H*S)"
   ]
  },
  {
   "cell_type": "markdown",
   "metadata": {},
   "source": [
    "# Salt Tracer\n",
    "<p> By measuing the transport of a salt tracer, the average velocity of a river can be determined using the following equation: </p>\n",
    "$Q_{0} = \\frac{M_{s}}{\\int_0^T C_{1} - C_{0} dt}$\n",
    "<p>Where $M_{s}$ is the mass of salt in the system, ${C1}$ is the measured concentration of water, and $C_{0}$ is the salt concentration of the ambient water. In order to get an accurate value of the discharge, the concentration must be measured until it reaches ambient levels again.</p>\n",
    "\n",
    "<p>The equation used in practice, however relies on measuring the conductivity of the water rather than the salt concentration directly: </p>\n",
    "$Q_{0} = \\frac{M_{s}}{\\alpha\\int_0^T (c_{1} - c_{0}) dt}$\n",
    "<p>Where $\\alpha$ = 2140 (kg/m^3)(uS/cm) and $c$ is conductivity in micro-Siemens per cm</p>"
   ]
  },
  {
   "cell_type": "code",
   "execution_count": null,
   "metadata": {},
   "outputs": [],
   "source": [
    "def saltConcDischarge(M, T, C1, C0):\n",
    "    '''\n",
    "    This equation is somewhat complicated because C1 is constantly decreasing\n",
    "    '''\n",
    "    pass"
   ]
  }
 ],
 "metadata": {
  "kernelspec": {
   "display_name": "Python 3",
   "language": "python",
   "name": "python3"
  },
  "language_info": {
   "codemirror_mode": {
    "name": "ipython",
    "version": 3
   },
   "file_extension": ".py",
   "mimetype": "text/x-python",
   "name": "python",
   "nbconvert_exporter": "python",
   "pygments_lexer": "ipython3",
   "version": "3.7.3"
  }
 },
 "nbformat": 4,
 "nbformat_minor": 4
}
