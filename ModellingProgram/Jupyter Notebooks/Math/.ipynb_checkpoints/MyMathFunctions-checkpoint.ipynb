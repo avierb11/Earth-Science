{
 "cells": [
  {
   "cell_type": "markdown",
   "metadata": {},
   "source": [
    "# Integration"
   ]
  },
  {
   "cell_type": "code",
   "execution_count": 1,
   "metadata": {},
   "outputs": [],
   "source": [
    "def integrate(function, x, x_final):\n",
    "    '''\n",
    "    Integrates a function over the given value range\n",
    "    '''\n",
    "    total = 0\n",
    "    while x_initial < x_final:\n",
    "        total += function(x)\n",
    "        x+= .0001\n",
    "    return total\n",
    "    "
   ]
  },
  {
   "cell_type": "markdown",
   "metadata": {},
   "source": [
    "# Derivatives"
   ]
  },
  {
   "cell_type": "code",
   "execution_count": 1,
   "metadata": {},
   "outputs": [],
   "source": [
    "def firstDeriv(arr, pos, scale = 1):\n",
    "    '''\n",
    "    Returns the derivative by taking the average slope\n",
    "    across the points on either side\n",
    "    '''\n",
    "    return (arr[pos+1] - arr[pos-1])/(2*scale)\n",
    "\n",
    "def secondDeriv(arr, pos, scale = 1):\n",
    "    '''\n",
    "    Returns the second derivative by calculating the derivative on \n",
    "    either side of the given point and averages those\n",
    "    '''\n",
    "    high = (arr[pos+2] - arr[pos])/(2*scale)\n",
    "    low = (arr[pos] - arr[pos-2])/(2*scale)\n",
    "    return (high-low)/(2*scale)"
   ]
  },
  {
   "cell_type": "markdown",
   "metadata": {},
   "source": [
    "# Linear Regression\n",
    "<p>The equation for linear regression is: </p>\n",
    "<h3><center>$\\hat{c} = (X^{T}X)^{-1}X^{T}\\hat{y}$</center></h3>\n",
    "<p>In this equation, $\\hat{c}$ is the array of multipliers for a Taylor Polynomial, X is the matrix of X values, and $\\hat{y}$ is the matrix of y-values.</p>"
   ]
  },
  {
   "cell_type": "code",
   "execution_count": 32,
   "metadata": {},
   "outputs": [],
   "source": [
    "import numpy as np\n",
    "import matplotlib.pyplot as plt\n",
    "\n",
    "def linearFit(x,y):\n",
    "    A = np.array([x,np.ones(x.size)]).T\n",
    "    return np.linalg.inv(A.T@A)@A.T@y\n",
    "\n",
    "\n",
    "def accurateFit(x,y):\n",
    "    A = np.array([x**8, x**7, x**6,x**5,x**4,x**3,x**2,x, np.ones(x.size)]).T\n",
    "    return np.linalg.inv(A.T@A)@A.T@y\n",
    "\n",
    "def secondFit(x,y):\n",
    "    A = np.array([x**2, x, np.ones(x.size)]).T\n",
    "    return np.linalg.inv(A.T@A)@A.T@y\n",
    "\n",
    "def yPrimeAccurate(mult, x):\n",
    "    yPrime= np.zeros(x.size)\n",
    "    for i in range(8,0,-1):\n",
    "        yPrime += mult[i]*x**i\n",
    "    yPrime += b\n",
    "    return yPrime\n"
   ]
  },
  {
   "cell_type": "code",
   "execution_count": 33,
   "metadata": {},
   "outputs": [
    {
     "ename": "NameError",
     "evalue": "name 'val' is not defined",
     "output_type": "error",
     "traceback": [
      "\u001b[1;31m---------------------------------------------------------------------------\u001b[0m",
      "\u001b[1;31mNameError\u001b[0m                                 Traceback (most recent call last)",
      "\u001b[1;32m<ipython-input-33-c519315d8978>\u001b[0m in \u001b[0;36m<module>\u001b[1;34m\u001b[0m\n\u001b[0;32m      7\u001b[0m \u001b[1;31m#yPrime2 = m1*x**2 + m2*x**2 + b\u001b[0m\u001b[1;33m\u001b[0m\u001b[1;33m\u001b[0m\u001b[1;33m\u001b[0m\u001b[0m\n\u001b[0;32m      8\u001b[0m \u001b[1;33m\u001b[0m\u001b[0m\n\u001b[1;32m----> 9\u001b[1;33m \u001b[0myPrimeAcc\u001b[0m \u001b[1;33m=\u001b[0m \u001b[0myPrimeAccurate\u001b[0m\u001b[1;33m(\u001b[0m\u001b[0maccurateFit\u001b[0m\u001b[1;33m(\u001b[0m\u001b[0mx\u001b[0m\u001b[1;33m,\u001b[0m\u001b[0my\u001b[0m\u001b[1;33m)\u001b[0m\u001b[1;33m,\u001b[0m\u001b[0mx\u001b[0m\u001b[1;33m)\u001b[0m\u001b[1;33m\u001b[0m\u001b[1;33m\u001b[0m\u001b[0m\n\u001b[0m\u001b[0;32m     10\u001b[0m \u001b[1;33m\u001b[0m\u001b[0m\n\u001b[0;32m     11\u001b[0m \u001b[0mplt\u001b[0m\u001b[1;33m.\u001b[0m\u001b[0mplot\u001b[0m\u001b[1;33m(\u001b[0m\u001b[0mx\u001b[0m\u001b[1;33m,\u001b[0m\u001b[0my\u001b[0m\u001b[1;33m)\u001b[0m\u001b[1;33m\u001b[0m\u001b[1;33m\u001b[0m\u001b[0m\n",
      "\u001b[1;32m<ipython-input-32-daf6cbe3c1e5>\u001b[0m in \u001b[0;36myPrimeAccurate\u001b[1;34m(mult, x)\u001b[0m\n\u001b[0;32m     18\u001b[0m     \u001b[0myPrime\u001b[0m\u001b[1;33m=\u001b[0m \u001b[0mnp\u001b[0m\u001b[1;33m.\u001b[0m\u001b[0mzeros\u001b[0m\u001b[1;33m(\u001b[0m\u001b[0mx\u001b[0m\u001b[1;33m.\u001b[0m\u001b[0msize\u001b[0m\u001b[1;33m)\u001b[0m\u001b[1;33m\u001b[0m\u001b[1;33m\u001b[0m\u001b[0m\n\u001b[0;32m     19\u001b[0m     \u001b[1;32mfor\u001b[0m \u001b[0mi\u001b[0m \u001b[1;32min\u001b[0m \u001b[0mrange\u001b[0m\u001b[1;33m(\u001b[0m\u001b[1;36m8\u001b[0m\u001b[1;33m,\u001b[0m\u001b[1;36m0\u001b[0m\u001b[1;33m,\u001b[0m\u001b[1;33m-\u001b[0m\u001b[1;36m1\u001b[0m\u001b[1;33m)\u001b[0m\u001b[1;33m:\u001b[0m\u001b[1;33m\u001b[0m\u001b[1;33m\u001b[0m\u001b[0m\n\u001b[1;32m---> 20\u001b[1;33m         \u001b[0myPrime\u001b[0m \u001b[1;33m+=\u001b[0m \u001b[0mval\u001b[0m\u001b[1;33m[\u001b[0m\u001b[0mi\u001b[0m\u001b[1;33m]\u001b[0m\u001b[1;33m*\u001b[0m\u001b[0mx\u001b[0m\u001b[1;33m**\u001b[0m\u001b[0mi\u001b[0m\u001b[1;33m\u001b[0m\u001b[1;33m\u001b[0m\u001b[0m\n\u001b[0m\u001b[0;32m     21\u001b[0m     \u001b[0myPrime\u001b[0m \u001b[1;33m+=\u001b[0m \u001b[0mb\u001b[0m\u001b[1;33m\u001b[0m\u001b[1;33m\u001b[0m\u001b[0m\n\u001b[0;32m     22\u001b[0m     \u001b[1;32mreturn\u001b[0m \u001b[0myPrime\u001b[0m\u001b[1;33m\u001b[0m\u001b[1;33m\u001b[0m\u001b[0m\n",
      "\u001b[1;31mNameError\u001b[0m: name 'val' is not defined"
     ]
    }
   ],
   "source": [
    "x = np.linspace(0,10,100)\n",
    "y = 3*np.sin(x) + .005*x**3 -.1*x + 1.1*np.cos(x/2.45 - 2)\n",
    "[m,b] = linearFit(x,y)\n",
    "yPrime = m*x + b\n",
    "\n",
    "#[m1,m2,b] = secondFit(x,y)\n",
    "#yPrime2 = m1*x**2 + m2*x**2 + b\n",
    "\n",
    "yPrimeAcc = yPrimeAccurate(accurateFit(x,y),x)\n",
    "\n",
    "plt.plot(x,y)\n",
    "plt.plot(x,yPrime,'r--')\n",
    "plt.plot(x,yPrimeAcc, 'g--')\n",
    "plt.show()"
   ]
  },
  {
   "cell_type": "code",
   "execution_count": null,
   "metadata": {},
   "outputs": [],
   "source": []
  }
 ],
 "metadata": {
  "kernelspec": {
   "display_name": "Python 3",
   "language": "python",
   "name": "python3"
  },
  "language_info": {
   "codemirror_mode": {
    "name": "ipython",
    "version": 3
   },
   "file_extension": ".py",
   "mimetype": "text/x-python",
   "name": "python",
   "nbconvert_exporter": "python",
   "pygments_lexer": "ipython3",
   "version": "3.7.3"
  }
 },
 "nbformat": 4,
 "nbformat_minor": 2
}
