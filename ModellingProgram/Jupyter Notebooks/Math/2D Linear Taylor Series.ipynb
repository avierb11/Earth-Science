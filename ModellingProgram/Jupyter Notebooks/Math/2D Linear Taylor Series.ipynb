{
 "cells": [
  {
   "cell_type": "markdown",
   "metadata": {},
   "source": [
    "# Taylor Series\n",
    "<p>Taylor series are used for approximating functions. In the 1D sense, this is frequently used as linear regression, but the fit for the curves can be any number of dimensions. The general function for the mutlipliers is :</p>\n",
    "<h3><center>$A = \\frac{X^{T}y}{(X^{T}X)^{-1}}$</center></h3>\n",
    "<p>Now I don't really know how to fit a Taylor series to this. I do know that the second degree Taylor expansion for a 2D function is quite long:</p>\n",
    "<h3><center>$T = c_{0} + c_{1}X + c_{2}Y + c_{3}X^{2} + c_{4}Y^{2} + c_{5}XY$</center></h3>\n",
    "<p>for a linear approximation only, the function would look like:</p>\n",
    "<h3><center>$T = c_{0} + c_{1}X + c_{Y}$</center></h3>\n",
    "<p>This function is much less scary now and maybe not that difficult to implement.</p>"
   ]
  },
  {
   "cell_type": "code",
   "execution_count": 1,
   "metadata": {},
   "outputs": [],
   "source": [
    "import numpy as np\n",
    "import matplotlib.pyplot as plt"
   ]
  }
 ],
 "metadata": {
  "kernelspec": {
   "display_name": "Python 3",
   "language": "python",
   "name": "python3"
  },
  "language_info": {
   "codemirror_mode": {
    "name": "ipython",
    "version": 3
   },
   "file_extension": ".py",
   "mimetype": "text/x-python",
   "name": "python",
   "nbconvert_exporter": "python",
   "pygments_lexer": "ipython3",
   "version": "3.8.3"
  }
 },
 "nbformat": 4,
 "nbformat_minor": 4
}
