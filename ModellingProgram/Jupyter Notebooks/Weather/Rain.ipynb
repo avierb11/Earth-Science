{
 "cells": [
  {
   "cell_type": "markdown",
   "metadata": {},
   "source": [
    "# Rain\n",
    "<p>This notebook aims to develop some functions for dealing with precipitation in the model. In this notebook, I will cover:</p>\n",
    "<p>\n",
    "- Rain duration and total water volume<br>\n",
    "- Rain infiltration into the ground<br>\n",
    "- Overland flow<br>\n",
    "- Predict hydrograph\n",
    "</p>"
   ]
  },
  {
   "cell_type": "markdown",
   "metadata": {},
   "source": [
    "## A bit about rain\n",
    "<p>Since rainfall occurrence and amount is so variable, I can not easily create functions that would mimic any particular system. Rain is related to weather and climate, and often changes from year to year. Because of that, my model will use only isolated rain events initially.</p>\n",
    "<p>Water infiltration into the ground is related to the hydraulic conductivity of the underlying material. Water can only infiltrate as fast as the conductivity allows. Any more than that will pile up on the surface. The first thing I would like to do is develop a function that gives the downward flow of water. As I use so often, I believe that the vertical rate of motion is determined by the hydraulic head differenc and vertical hydraulic conductivity (which is ususally much smaller than the horizontal). So, the governing equation for this function will be Darcy's Law:</p>\n",
    "<h3><center>$Q = kA\\frac{dh}{dL}$</center></h3>\n"
   ]
  },
  {
   "cell_type": "code",
   "execution_count": 1,
   "metadata": {},
   "outputs": [],
   "source": [
    "def verticalDischarge(k2, h1, h2, L, x, y):\n",
    "    '''\n",
    "    Determines the discharge between vertical elements\n",
    "    - k: hydraulic conductivity\n",
    "    - h1,h2: hydraulic head of lower and upper elements\n",
    "    - L: vertical length of the elements, effectively the distance between points\n",
    "    - x,y: horizontal dimensions of the elements, A = x*y\n",
    "    '''\n",
    "    return k*x*y*(h2-h1)/L"
   ]
  },
  {
   "cell_type": "markdown",
   "metadata": {},
   "source": [
    "## A simple rainstorm\n",
    "<p>For the simplest rainstorm, I will use a constant rainfall rate. The rain begins falling at a constant rate and maintains that constant rate until the end, when the rain stops completely. A graph of the rainstorm would appear like the following:</p>"
   ]
  },
  {
   "cell_type": "code",
   "execution_count": 3,
   "metadata": {},
   "outputs": [
    {
     "data": {
      "image/png": "[encoded data removed]",
      "text/plain": [
       "<Figure size 432x288 with 1 Axes>"
      ]
     },
     "metadata": {
      "needs_background": "light"
     },
     "output_type": "display_data"
    }
   ],
   "source": [
    "import numpy as np\n",
    "import matplotlib.pyplot as plt\n",
    "rate = np.zeros((10,1))\n",
    "rate[3:7] = 1\n",
    "plt.plot(rate)\n",
    "plt.title(\"Rainfall rate vs time\")\n",
    "plt.xlabel(\"Time (units don't matter)\")\n",
    "plt.ylabel(\"Rainfall rate (units don't matter)\")\n",
    "plt.show()"
   ]
  },
  {
   "cell_type": "markdown",
   "metadata": {},
   "source": [
    "<p>This should be a perfect step function, but whatever. The total amount of rain per unit area can be determined easily be integrating the function, but that's not really the important part here. What I want now is to model just a single square column and its response to rainfall. The column will have 10 layers for now, and each will have a finite volume of 1. I'll ust a hydraulic conductivity of .01 for now. The precipitation rate is larger than the infiltration rate, so the water should pile up on top of the square. What I don't know, however, is how that will affect the rate of infiltration below. For now, I'll just use it as .\n",
    "<br>\n",
    "This model is discretized, so I'll need a time step. Since this isn't a super quantitative model, the time step doesn't matter a whole lot. I'll just use a value of .1. Using the time step, I can calculate the amount of water that can be stored within a cube. I'll just set the total volume of a cube to 1.\n",
    "</p>"
   ]
  },
  {
   "cell_type": "markdown",
   "metadata": {},
   "source": [
    "### Set the initial column, top value, and queue to all zeros"
   ]
  },
  {
   "cell_type": "code",
   "execution_count": 18,
   "metadata": {},
   "outputs": [],
   "source": [
    "column = np.zeros(10)\n",
    "queue = np.zeros(10)\n",
    "openWater = 0"
   ]
  },
  {
   "cell_type": "markdown",
   "metadata": {},
   "source": [
    "### Initialize the other parameters"
   ]
  },
  {
   "cell_type": "code",
   "execution_count": 19,
   "metadata": {},
   "outputs": [],
   "source": [
    "volume = 1\n",
    "timeStep = .1\n",
    "area = 1\n",
    "k = .01\n",
    "L = .1"
   ]
  },
  {
   "cell_type": "markdown",
   "metadata": {},
   "source": [
    "### Set up rainfall rate"
   ]
  },
  {
   "cell_type": "code",
   "execution_count": 20,
   "metadata": {},
   "outputs": [],
   "source": [
    "rainfallRate = .1"
   ]
  },
  {
   "cell_type": "markdown",
   "metadata": {},
   "source": [
    "### Compute the top value"
   ]
  },
  {
   "cell_type": "code",
   "execution_count": 21,
   "metadata": {},
   "outputs": [],
   "source": [
    "openWater += rainfallRate"
   ]
  },
  {
   "cell_type": "markdown",
   "metadata": {},
   "source": [
    "### Compute flow to top element"
   ]
  },
  {
   "cell_type": "code",
   "execution_count": 22,
   "metadata": {},
   "outputs": [],
   "source": [
    "dH = openWater - column[0]\n",
    "waterChange = k*area*(dH/L)*timeStep\n",
    "if (waterChange + column[0] > volume):\n",
    "    column[0] = volume\n",
    "    openWater -= (column[0]-waterChange)\n",
    "else:\n",
    "    column[0] += waterChange\n",
    "    openWater -= waterChange"
   ]
  },
  {
   "cell_type": "markdown",
   "metadata": {},
   "source": [
    "### Flow to the rest of the values"
   ]
  },
  {
   "cell_type": "code",
   "execution_count": 23,
   "metadata": {},
   "outputs": [
    {
     "name": "stdout",
     "output_type": "stream",
     "text": [
      "[-0.001  0.001  0.     0.     0.     0.     0.     0.     0.     0.   ]\n"
     ]
    }
   ],
   "source": [
    "# First\n",
    "queue[0] += (column[1] - column[0])*area*k*timeStep/L\n",
    "if queue[0] + column[0] > volume:\n",
    "    queue[0] = 1-column[0]\n",
    "if column[0] = 1:\n",
    "    queue[0] = 0\n",
    "\n",
    "for i in range(1,9):\n",
    "    queue[i] += (column[i + 1] - column[i])*area*k*timeStep/L\n",
    "    queue[i] += (column[i - 1] - column[i])*area*k*timeStep/L\n",
    "    if queue[i] + column[i] > volum:\n",
    "        queue[i] = 1-column[i]\n",
    "    if column[i] = 1:\n",
    "        queue[i] = 0\n",
    "    \n",
    "# Last\n",
    "queue[9] += (column[8] - column[9])*area*k*timeStep/L\n",
    "if queue[9] + column[9] > volumn:\n",
    "    queue[9] = 1-column[9]\n",
    "if column[9] = 1:\n",
    "    queue[9] = 0"
   ]
  },
  {
   "cell_type": "markdown",
   "metadata": {},
   "source": [
    "### Add queue to column and reset queue"
   ]
  },
  {
   "cell_type": "code",
   "execution_count": 24,
   "metadata": {},
   "outputs": [],
   "source": [
    "column += queue\n",
    "queue = np.zeros(10)"
   ]
  },
  {
   "cell_type": "markdown",
   "metadata": {},
   "source": [
    "### Now, create a function to do all this"
   ]
  },
  {
   "cell_type": "code",
   "execution_count": 82,
   "metadata": {},
   "outputs": [],
   "source": [
    "def updateColumn(column, k, L, timeStep, openWater, rainfallRate, volume, openVals):\n",
    "    queue = np.zeros(column.size)\n",
    "    length = column.size\n",
    "    \n",
    "    # Update open water\n",
    "    openWater += rainfallRate\n",
    "    \n",
    "    # Top\n",
    "    flow1 = (openWater - column[0])*(timeStep*k)/L\n",
    "    if (column[0] <= volume):\n",
    "        if (column[0] + flow1 > volume):\n",
    "            flow1 = volume - column[0]\n",
    "            openWater -= flow1\n",
    "            queue[0] += flow1\n",
    "        else:\n",
    "            openWater -= flow1\n",
    "            queue[0] += flow1\n",
    "            \n",
    "    # Middle\n",
    "    for i in range(1,length-1):\n",
    "        if column[i] <= volume:\n",
    "            flowUp = (column[i + 1] - column[i]) * (timeStep*k)/L\n",
    "            if (flowUp + column[i] > volume):\n",
    "                flowUp = volume - column[i]\n",
    "            else:\n",
    "                queue[i] += flowUp\n",
    "            flowDown = (column[i - 1] - column[i]) * (timeStep*k)/L\n",
    "            queue[i] += flowDown\n",
    "    \n",
    "    # Bottom\n",
    "    flow2 = (column[-2] - column[-1])*(timeStep*k)/L\n",
    "    if (bottom <= volume):\n",
    "        if (column[-1] + flow2 > volume):\n",
    "            flow2 = volume - column[-1]\n",
    "            queue[-2] -= flow2\n",
    "            queue[-1] += flow2\n",
    "        else:\n",
    "            queue[-1] += flow2\n",
    "            queue[-2] -= flow2\n",
    "        \n",
    "    column += queue\n",
    "        \n",
    "    openVals.append(openWater)\n",
    "    return column, openVals, openWater\n",
    "    "
   ]
  },
  {
   "cell_type": "markdown",
   "metadata": {},
   "source": [
    "### Reset values and run function a lot"
   ]
  },
  {
   "cell_type": "code",
   "execution_count": 49,
   "metadata": {},
   "outputs": [
    {
     "name": "stdout",
     "output_type": "stream",
     "text": [
      "[0.06295772 0.06075709 0.06456052 0.06815015 0.0633409  0.06180471\n",
      " 0.06580368 0.06742569 0.07443665 0.0738089 ]\n"
     ]
    }
   ],
   "source": [
    "column = np.zeros(10)\n",
    "queue = np.zeros(10)\n",
    "k = .1\n",
    "volume = 1\n",
    "openWater = 0\n",
    "openVals = []\n",
    "for i in range(100):\n",
    "    openVals.append(updateColumn(column, queue, k, L, area, timeStep, openWater, rainfallRate,volume))\n",
    "\n",
    "print(column)"
   ]
  },
  {
   "cell_type": "markdown",
   "metadata": {},
   "source": [
    "### Plot Results"
   ]
  },
  {
   "cell_type": "code",
   "execution_count": 44,
   "metadata": {},
   "outputs": [
    {
     "data": {
      "image/png": "[encoded data removed]",
      "text/plain": [
       "<Figure size 432x288 with 1 Axes>"
      ]
     },
     "metadata": {
      "needs_background": "light"
     },
     "output_type": "display_data"
    }
   ],
   "source": [
    "plt.plot(openVals)\n",
    "plt.show()"
   ]
  },
  {
   "cell_type": "code",
   "execution_count": 61,
   "metadata": {},
   "outputs": [
    {
     "name": "stdout",
     "output_type": "stream",
     "text": [
      "4.025699037511075\n",
      "0.9976845668683078\n",
      "0.9766163956206203\n"
     ]
    }
   ],
   "source": [
    "L = .1\n",
    "k = .1\n",
    "timeStep = .1\n",
    "volume = 1\n",
    "openWater = 0\n",
    "rainfallRate = .1\n",
    "top = 0\n",
    "topQ = 0\n",
    "bottom = 0\n",
    "bottomQ = 0\n",
    "\n",
    "openVals = []\n",
    "\n",
    "for i in range(60):\n",
    "    # Update open water\n",
    "    openWater += rainfallRate\n",
    "    \n",
    "    # Flow 1\n",
    "    flow1 = (openWater - top)*(timeStep*k)/L\n",
    "    if (top <= 1):\n",
    "        if (top + flow1 > volume):\n",
    "            flow1 = volume - top\n",
    "            openWater -= flow1\n",
    "            topQ += flow1\n",
    "        else:\n",
    "            openWater -= flow1\n",
    "            topQ += flow1\n",
    "    \n",
    "    # Flow 2\n",
    "    flow2 = (top - bottom)*(timeStep*k)/L\n",
    "    if (bottom <= 1):\n",
    "        if (bottom + flow2 > volume):\n",
    "            flow2 = volume - bottom\n",
    "            topQ -= flow2\n",
    "            bottomQ += flow2\n",
    "        else:\n",
    "            bottomQ += flow2\n",
    "            topQ -= flow2\n",
    "        \n",
    "    top += topQ\n",
    "    bottom += bottomQ\n",
    "    \n",
    "    topQ = 0\n",
    "    bottomQ = 0\n",
    "        \n",
    "    openVals.append(openWater)\n",
    "    \n",
    "print(openWater)\n",
    "print(top)\n",
    "print(bottom)"
   ]
  },
  {
   "cell_type": "code",
   "execution_count": 88,
   "metadata": {},
   "outputs": [],
   "source": [
    "column = np.zeros(100)\n",
    "openVals = []\n",
    "openWater = 0\n",
    "for i in range(200):\n",
    "    column, openVals, openWater = updateColumn(column, 10, L, timeStep, openWater, rainfallRate, volume, openVals)\n",
    "#print(column)"
   ]
  },
  {
   "cell_type": "code",
   "execution_count": 89,
   "metadata": {},
   "outputs": [
    {
     "data": {
      "image/png": "[encoded data removed]",
      "text/plain": [
       "<Figure size 432x288 with 1 Axes>"
      ]
     },
     "metadata": {
      "needs_background": "light"
     },
     "output_type": "display_data"
    }
   ],
   "source": [
    "plt.plot(openVals)\n",
    "plt.show()"
   ]
  },
  {
   "cell_type": "markdown",
   "metadata": {},
   "source": [
    "## Current Progress\n",
    "<p>At the moment, I don't think that this function is working greatly: honestly, I don't really know how accurate it is. At the moment, this is just a constant input of rainfall, which does not really reflect reality.<br>\n",
    "On the agenda:<br>\n",
    "- Set the water input at a constant value and the rainfall rate is dependent upon the timeStep. A larger time step would mean a greater input at each step, while a smaller one indicates a smaller one.<br>\n",
    "- \n",
    "</p>"
   ]
  },
  {
   "cell_type": "code",
   "execution_count": null,
   "metadata": {},
   "outputs": [],
   "source": []
  }
 ],
 "metadata": {
  "kernelspec": {
   "display_name": "Python 3",
   "language": "python",
   "name": "python3"
  },
  "language_info": {
   "codemirror_mode": {
    "name": "ipython",
    "version": 3
   },
   "file_extension": ".py",
   "mimetype": "text/x-python",
   "name": "python",
   "nbconvert_exporter": "python",
   "pygments_lexer": "ipython3",
   "version": "3.7.3"
  }
 },
 "nbformat": 4,
 "nbformat_minor": 2
}
