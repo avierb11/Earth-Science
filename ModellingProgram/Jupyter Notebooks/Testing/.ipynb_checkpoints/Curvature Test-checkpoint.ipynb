{
 "cells": [
  {
   "cell_type": "code",
   "execution_count": 2,
   "metadata": {},
   "outputs": [],
   "source": [
    "import numpy as np\n",
    "import matplotlib.pyplot as plt"
   ]
  },
  {
   "cell_type": "markdown",
   "metadata": {},
   "source": [
    "## Curvature\n",
    "<p> According to a website, the curvature of a function can be expressed as: </p>\n",
    " <h2><center>$\\kappa = \\frac{|x'y\" - y'x\"|}{[(x')^{2} + (y')^{2}]^{3/2}}$</center></h2>"
   ]
  },
  {
   "cell_type": "code",
   "execution_count": null,
   "metadata": {},
   "outputs": [],
   "source": [
    "def firstDeriv(arr, pos, scale = 1):\n",
    "    '''\n",
    "    Returns the derivative by taking the average slope\n",
    "    across the points on either side\n",
    "    '''\n",
    "    return (arr[pos+1] + arr[pos-1])/(2*scale)\n",
    "\n",
    "def secondDeriv(arr, pos, scale = 1):\n",
    "    '''\n",
    "    Returns the second derivative by calculating the derivative on \n",
    "    either side of the given point and averages those\n",
    "    '''\n",
    "    high = (arr[pos+2] + arr[pos])/(2*scale)\n",
    "    low = (arr[pos] + arr[pos-2])/(2*scale)\n",
    "    return (high-low)/(2*scale)\n",
    "    "
   ]
  }
 ],
 "metadata": {
  "kernelspec": {
   "display_name": "Python 3",
   "language": "python",
   "name": "python3"
  },
  "language_info": {
   "codemirror_mode": {
    "name": "ipython",
    "version": 3
   },
   "file_extension": ".py",
   "mimetype": "text/x-python",
   "name": "python",
   "nbconvert_exporter": "python",
   "pygments_lexer": "ipython3",
   "version": "3.7.3"
  }
 },
 "nbformat": 4,
 "nbformat_minor": 2
}
