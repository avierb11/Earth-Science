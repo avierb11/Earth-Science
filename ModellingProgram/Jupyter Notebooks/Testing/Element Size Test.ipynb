{
 "cells": [
  {
   "cell_type": "markdown",
   "metadata": {},
   "source": [
    "# Element Size\n",
    "<p>In this notebook, I will test whether and how the size of the discretization element affects flow at a certain point. Specifically, I would like to tell whether or not I can substitute in a larger element for a smaller one near the middle of a larger part.</p>\n",
    "<p>Because this model is pretty simplistic and this is just a first test, I will use 1-dimensional flow. Also, I assume that conductivity and specific storage are equal to 1 and also constant all over.</p>"
   ]
  },
  {
   "cell_type": "code",
   "execution_count": 39,
   "metadata": {},
   "outputs": [],
   "source": [
    "import numpy as np\n",
    "import matplotlib.pyplot as plt\n",
    "\n",
    "def flow1D(heads,lengths):\n",
    "    queue = np.zeros(heads.size)\n",
    "    \n",
    "    queue[:-1] += (heads[1:] - heads[:-1])/lengths[:-1]\n",
    "    queue[1: ] += (heads[:-1] - heads[1:])/lengths[1:]\n",
    "    heads += .1*queue\n",
    "    return heads"
   ]
  },
  {
   "cell_type": "markdown",
   "metadata": {},
   "source": [
    "<p>Now, I will test a system with total length 100. The first model will have 100 elements with equal length. The first element will be set to a constant head of 10, while the final will be set to a constant of 0. I will record the amount that flows into the final element as the metric.</p>"
   ]
  },
  {
   "cell_type": "code",
   "execution_count": 51,
   "metadata": {},
   "outputs": [],
   "source": [
    "iters = 10000\n",
    "\n",
    "firstHeads = np.zeros(100)\n",
    "lengths1 = np.ones(100)\n",
    "firstHeads[0] = 10\n",
    "firstData = []\n",
    "\n",
    "#print(\"Length of trial 1:\",np.sum(lengths1))\n",
    "\n",
    "for i in range(iters):\n",
    "    firstHeads = flow1D(firstHeads,lengths1)\n",
    "    firstData.append(firstHeads[-1])\n",
    "    firstHeads[0] = 10\n",
    "    firstHeads[-1] = 0\n",
    "\n",
    "#------------------------------------------------\n",
    "    \n",
    "secondHeads = np.zeros(91)\n",
    "secondHeads[0] = 10\n",
    "lengths2 = np.ones(91)\n",
    "lengths2[45] = 10\n",
    "secondData = []\n",
    "\n",
    "#print(\"Length of trial 2:\",np.sum(lengths2))\n",
    "\n",
    "for i in range(iters):\n",
    "    secondHeads = flow1D(secondHeads, lengths2)\n",
    "    secondData.append(secondHeads[-1])\n",
    "    secondHeads[0] = 10\n",
    "    secondHeads[-1] = 0\n",
    "    \n",
    "#-------------------------------------------------\n",
    "\n",
    "thirdHeads = np.zeros(95)\n",
    "thirdHeads[0] = 10\n",
    "lengths3 = np.ones(95)\n",
    "lengths3[46] = 6\n",
    "thirdData = []\n",
    "\n",
    "#print(\"Length of trial 3:\",np.sum(lengths3))\n",
    "\n",
    "for i in range(iters):\n",
    "    thirdHeads = flow1D(thirdHeads,lengths3)\n",
    "    thirdData.append(thirdHeads[-1])\n",
    "    thirdHeads[-1] = 0\n",
    "    thirdHeads[0] = 10\n"
   ]
  },
  {
   "cell_type": "markdown",
   "metadata": {},
   "source": [
    "### Now, plot data and show results"
   ]
  },
  {
   "cell_type": "code",
   "execution_count": 52,
   "metadata": {},
   "outputs": [
    {
     "data": {
      "image/png": "[encoded data removed]",
      "text/plain": [
       "<Figure size 432x288 with 1 Axes>"
      ]
     },
     "metadata": {
      "needs_background": "light"
     },
     "output_type": "display_data"
    }
   ],
   "source": [
    "plt.xlabel(\"Flow steps\")\n",
    "plt.ylabel(\"Water to final element\")\n",
    "plt.title(\"Error stuff\")\n",
    "plt.plot(firstData, color = 'blue')\n",
    "plt.plot(secondData, color = 'red')\n",
    "plt.plot(thirdData, color = 'green')\n",
    "plt.show()"
   ]
  },
  {
   "cell_type": "markdown",
   "metadata": {},
   "source": [
    "## Some more error analysis things\n",
    "<p>I'll find the difference between the models for multiple numbers of iterations</p>"
   ]
  },
  {
   "cell_type": "code",
   "execution_count": 71,
   "metadata": {},
   "outputs": [
    {
     "name": "stdout",
     "output_type": "stream",
     "text": [
      "2.639253237560441\n",
      "4285\n",
      "Average error per iteration for 4285 iterations: 0.0006159284101657972\n"
     ]
    }
   ],
   "source": [
    "error = 0\n",
    "totalCount = 0\n",
    "\n",
    "for i in range(iters):\n",
    "    if (firstData[i] > 10e-4) or (secondData[i] > 10e-4):\n",
    "        totalCount += 1\n",
    "        error += abs(firstData[i]-secondData[i])\n",
    "    else:\n",
    "        continue\n",
    "        \n",
    "print(error)\n",
    "print(totalCount)\n",
    "\n",
    "print('Average error per iteration for',totalCount,'iterations:',error/totalCount)\n"
   ]
  },
  {
   "cell_type": "markdown",
   "metadata": {},
   "source": [
    "## Some analysis\n",
    "<p>So, this model proves that even using a single large box in the model to represent a group of other boxes <u>does</u>, in fact, have an impact on an element further down the line. Above, I measure the error quantitatively by averaging the total difference between the two models only when one had a nonzero value, and dividing by the total number of iterations that 1 of the values was greater than zero. Really, I only checked if the value that flowed to the final element was >= 10e-7. Really, this is not a large number. Using this amount as the threshold, the average error between the two models was .00038. This is not a huge amount. As to how this translates to reality, I cannot comment yet. If I increase the threshold to 10e-4, the error rises to .00062, which still is not large. But, it does represent ~20% of the value flowing into the final element.</p>"
   ]
  },
  {
   "cell_type": "code",
   "execution_count": null,
   "metadata": {},
   "outputs": [],
   "source": []
  }
 ],
 "metadata": {
  "kernelspec": {
   "display_name": "Python 3",
   "language": "python",
   "name": "python3"
  },
  "language_info": {
   "codemirror_mode": {
    "name": "ipython",
    "version": 3
   },
   "file_extension": ".py",
   "mimetype": "text/x-python",
   "name": "python",
   "nbconvert_exporter": "python",
   "pygments_lexer": "ipython3",
   "version": "3.8.3"
  }
 },
 "nbformat": 4,
 "nbformat_minor": 4
}
