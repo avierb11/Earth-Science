{
 "cells": [
  {
   "cell_type": "markdown",
   "metadata": {},
   "source": [
    "# Element Size\n",
    "<p>In this notebook, I will test whether and how the size of the discretization element affects flow at a certain point. Specifically, I would like to tell whether or not I can substitute in a larger element for a smaller one near the middle of a larger part.</p>\n",
    "<p>Because this model is pretty simplistic and this is just a first test, I will use 1-dimensional flow. Also, I assume that conductivity and specific storage are equal to 1 and also constant all over.</p>"
   ]
  },
  {
   "cell_type": "code",
   "execution_count": 3,
   "metadata": {},
   "outputs": [],
   "source": [
    "import numpy as np\n",
    "import matplotlib.pyplot as plt\n",
    "\n",
    "def flow1D(heads,lengths):\n",
    "    queue = np.zeros(heads.size)\n",
    "    \n",
    "    queue[:-1] += (heads[1:] - heads[:-1])/lengths[:-1]\n",
    "    queue[1: ] += (heads[:-1] - heads[1:])/lengths[1:]\n",
    "    heads += .1*queue"
   ]
  },
  {
   "cell_type": "markdown",
   "metadata": {},
   "source": [
    "<p>Now, I will test a system with total length 100. The first model will have 100 elements with equal length. The first element will be set to a constant head of 10, while the final will be set to a constant of 0. I will record the amount that flows into the final element as the metric.</p>"
   ]
  },
  {
   "cell_type": "code",
   "execution_count": 2,
   "metadata": {},
   "outputs": [],
   "source": [
    "iters = 10000\n",
    "\n",
    "firstHeads = np.zeros(100)\n",
    "lengths1 = np.ones(100)\n",
    "firstHeads[0] = 10\n",
    "firstData = []\n",
    "\n",
    "#print(\"Length of trial 1:\",np.sum(lengths1))\n",
    "\n",
    "for i in range(iters):\n",
    "    firstHeads = flow1D(firstHeads,lengths1)\n",
    "    firstData.append(firstHeads[-1])\n",
    "    firstHeads[0] = 10\n",
    "    firstHeads[-1] = 0\n",
    "\n",
    "#------------------------------------------------\n",
    "    \n",
    "secondHeads = np.zeros(91)\n",
    "secondHeads[0] = 10\n",
    "lengths2 = np.ones(91)\n",
    "lengths2[45] = 10\n",
    "secondData = []\n",
    "\n",
    "#print(\"Length of trial 2:\",np.sum(lengths2))\n",
    "\n",
    "for i in range(iters):\n",
    "    secondHeads = flow1D(secondHeads, lengths2)\n",
    "    secondData.append(secondHeads[-1])\n",
    "    secondHeads[0] = 10\n",
    "    secondHeads[-1] = 0\n",
    "    \n",
    "#-------------------------------------------------\n",
    "\n",
    "thirdHeads = np.zeros(95)\n",
    "thirdHeads[0] = 10\n",
    "lengths3 = np.ones(95)\n",
    "lengths3[46] = 6\n",
    "thirdData = []\n",
    "\n",
    "#print(\"Length of trial 3:\",np.sum(lengths3))\n",
    "\n",
    "for i in range(iters):\n",
    "    thirdHeads = flow1D(thirdHeads,lengths3)\n",
    "    thirdData.append(thirdHeads[-1])\n",
    "    thirdHeads[-1] = 0\n",
    "    thirdHeads[0] = 10\n"
   ]
  },
  {
   "cell_type": "markdown",
   "metadata": {},
   "source": [
    "### Now, plot data and show results"
   ]
  },
  {
   "cell_type": "code",
   "execution_count": 52,
   "metadata": {},
   "outputs": [
    {
     "data": {
      "image/png": "[encoded data removed]",
      "text/plain": [
       "<Figure size 432x288 with 1 Axes>"
      ]
     },
     "metadata": {
      "needs_background": "light"
     },
     "output_type": "display_data"
    }
   ],
   "source": [
    "plt.xlabel(\"Flow steps\")\n",
    "plt.ylabel(\"Water to final element\")\n",
    "plt.title(\"Error stuff\")\n",
    "plt.plot(firstData, color = 'blue')\n",
    "plt.plot(secondData, color = 'red')\n",
    "plt.plot(thirdData, color = 'green')\n",
    "plt.show()"
   ]
  },
  {
   "cell_type": "markdown",
   "metadata": {},
   "source": [
    "## Some more error analysis things\n",
    "<p>I'll find the difference between the models for multiple numbers of iterations</p>"
   ]
  },
  {
   "cell_type": "code",
   "execution_count": 71,
   "metadata": {},
   "outputs": [
    {
     "name": "stdout",
     "output_type": "stream",
     "text": [
      "2.639253237560441\n",
      "4285\n",
      "Average error per iteration for 4285 iterations: 0.0006159284101657972\n"
     ]
    }
   ],
   "source": [
    "error = 0\n",
    "totalCount = 0\n",
    "\n",
    "for i in range(iters):\n",
    "    if (firstData[i] > 10e-4) or (secondData[i] > 10e-4):\n",
    "        totalCount += 1\n",
    "        error += abs(firstData[i]-secondData[i])\n",
    "    else:\n",
    "        continue\n",
    "        \n",
    "print(error)\n",
    "print(totalCount)\n",
    "\n",
    "print('Average error per iteration for',totalCount,'iterations:',error/totalCount)\n"
   ]
  },
  {
   "cell_type": "markdown",
   "metadata": {},
   "source": [
    "## Some analysis\n",
    "<p>So, this model proves that even using a single large box in the model to represent a group of other boxes <u>does</u>, in fact, have an impact on an element further down the line. Above, I measure the error quantitatively by averaging the total difference between the two models only when one had a nonzero value, and dividing by the total number of iterations that 1 of the values was greater than zero. Really, I only checked if the value that flowed to the final element was >= 10e-7. Really, this is not a large number. Using this amount as the threshold, the average error between the two models was .00038. This is not a huge amount. As to how this translates to reality, I cannot comment yet. If I increase the threshold to 10e-4, the error rises to .00062, which still is not large. But, it does represent ~20% of the value flowing into the final element.</p>"
   ]
  },
  {
   "cell_type": "markdown",
   "metadata": {},
   "source": [
    "# Another Test\n",
    "<p>I'll do another test now that varies all of the elements instead of combining multiple boxes into a single</p>"
   ]
  },
  {
   "cell_type": "code",
   "execution_count": 15,
   "metadata": {},
   "outputs": [],
   "source": [
    "large = np.zeros(10)\n",
    "large[0] = 10\n",
    "large[-1] = 0\n",
    "largeLengths = np.full(10,100)\n",
    "largeTotal = np.linspace(0,1000,10)\n",
    "\n",
    "mid = np.zeros(100)\n",
    "mid[0] = 10\n",
    "mid[-1] = 0\n",
    "midLengths = np.full(100,10)\n",
    "midTotal = np.linspace(0,1000,100)\n",
    "\n",
    "small = np.zeros(1000)\n",
    "small[0] = 10\n",
    "small[-1] = 0\n",
    "smallLengths = np.full(1000,1)\n",
    "smallTotal = np.linspace(0,1000,1000)\n",
    "\n",
    "for i in range(100000):\n",
    "    large[0] = 10\n",
    "    large[-1] = 0\n",
    "    mid[0] = 10\n",
    "    mid[-1] = 0\n",
    "    small[0] = 10\n",
    "    small[-1] = 0\n",
    "    flow1D(large,largeLengths)\n",
    "    flow1D(mid,midLengths)\n",
    "    flow1D(small,smallLengths)\n",
    "    "
   ]
  },
  {
   "cell_type": "code",
   "execution_count": 17,
   "metadata": {},
   "outputs": [
    {
     "data": {
      "image/png": "[encoded data removed]",
      "text/plain": [
       "<Figure size 432x288 with 1 Axes>"
      ]
     },
     "metadata": {
      "needs_background": "light"
     },
     "output_type": "display_data"
    }
   ],
   "source": [
    "%matplotlib inline\n",
    "plt.plot(largeTotal, large, color = 'blue')\n",
    "plt.plot(midTotal,mid, color = 'orange')\n",
    "plt.plot(smallTotal,small, color = 'green')\n",
    "plt.xlabel('Horizontal Length')\n",
    "plt.ylabel('Heads')\n",
    "plt.title('Some comparisons')\n",
    "plt.show()"
   ]
  },
  {
   "cell_type": "markdown",
   "metadata": {},
   "source": [
    "## Model Analysis\n",
    "<p>My models all represented 1000 units of length. The blue model represents a model with 10 elements of 100 length each, the orange model represents a model with 100 units of 10 length each, and the green line represents a model with 1000 elements of length 1 each. As this shows, the model with many elements take significantly longer to reach steady state. This could be a potential point where a GPU could be used. I'd be pretty grateful if this is actually true because I'd really like to put a use to my GPU and the time spent somewhat learning CUDA and C++.</p>"
   ]
  },
  {
   "cell_type": "markdown",
   "metadata": {},
   "source": [
    "## 2D Model\n",
    "<p>I'll try a 2D model now and see how that works.</p>"
   ]
  },
  {
   "cell_type": "code",
   "execution_count": 54,
   "metadata": {},
   "outputs": [],
   "source": [
    "def flow2D(heads, lengths):\n",
    "    queue = np.zeros(heads.shape)\n",
    "    \n",
    "    queue[1: , :] += (heads[:-1, :] - heads[1: , :])\n",
    "    queue[:-1, :] += (heads[1: , :] - heads[:-1, :])\n",
    "    queue[:, 1: ] += (heads[:, :-1] - heads[:, 1: ])\n",
    "    queue[:, :-1] += (heads[:, 1: ] - heads[:, :-1])\n",
    "    heads += queue*.1\n",
    "    del queue"
   ]
  },
  {
   "cell_type": "code",
   "execution_count": 81,
   "metadata": {},
   "outputs": [
    {
     "name": "stdout",
     "output_type": "stream",
     "text": [
      "Wall time: 6min 24s\n"
     ]
    }
   ],
   "source": [
    "%%time\n",
    "\n",
    "large = np.zeros((10,10))\n",
    "largeLengths = np.full((10,10),100)\n",
    "\n",
    "mid = np.full((100,100), .5)\n",
    "midLengths = np.full((100,100),1)\n",
    "\n",
    "small = np.zeros((1000,1000))\n",
    "smallLenghts = np.full((1000,1000),1)\n",
    "\n",
    "benchmarks = []\n",
    "\n",
    "for j in range(5):\n",
    "    for i in range(200000):\n",
    "        #large[0,0] = 0\n",
    "        #large[-1,-1] = 10\n",
    "        mid[0,0] = 0\n",
    "        mid[-1,-1] = 10\n",
    "        #small[0,0] = 0\n",
    "        #small[-1,-1] = 10\n",
    "        #flow2D(large, largeLengths)\n",
    "        flow2D(mid, midLengths)\n",
    "        #flow2D(small,smallLengths)\n",
    "        \n",
    "    benchmarks.append(np.copy(mid))\n",
    "    "
   ]
  },
  {
   "cell_type": "code",
   "execution_count": 82,
   "metadata": {},
   "outputs": [
    {
     "data": {
      "image/png": "[encoded data removed]",
      "text/plain": [
       "<Figure size 1296x288 with 5 Axes>"
      ]
     },
     "metadata": {
      "needs_background": "light"
     },
     "output_type": "display_data"
    }
   ],
   "source": [
    "%matplotlib inline\n",
    "\n",
    "fig, (ax1,ax2,ax3,ax4,ax5) = plt.subplots(1,5)\n",
    "ax1.pcolormesh(benchmarks[0], vmin = 0, vmax = 10, cmap = 'Pastel1')\n",
    "ax2.pcolormesh(benchmarks[1], vmin = 0, vmax = 10, cmap = 'Pastel1')\n",
    "ax3.pcolormesh(benchmarks[2], vmin = 0, vmax = 10, cmap = 'Pastel1')\n",
    "ax4.pcolormesh(benchmarks[3], vmin = 0, vmax = 10, cmap = 'Pastel1')\n",
    "ax5.pcolormesh(benchmarks[4], vmin = 0, vmax = 10, cmap = 'Pastel1')\n",
    "ax1.set_title('200,000 iterations')\n",
    "ax2.set_title('400,000 iterations')\n",
    "ax3.set_title('600,000 iterations')\n",
    "ax4.set_title('800,000 iterations')\n",
    "ax5.set_title('1,000,000 iterations')\n",
    "fig.set_figwidth(18)\n",
    "fig.set_figheight(4)\n",
    "\n",
    "plt.show()"
   ]
  },
  {
   "cell_type": "markdown",
   "metadata": {},
   "source": [
    "## Model Analysis\n",
    "<p>This model is really starting to take some time. Even just using a 100x100 grid, 100,000 flow iterations does not reach steady state. I originally had the 1000x1000 grid, but I soon realized that that was going to take wayyyyyyyy too long, so I cut it down to just the 100x100, and even that is taking a very long time.</p>\n",
    "<p>Update: I've tried 200,000 iterations, and even that is taking a very long time. I think I just need to jump ahead and try 1,000,000 and see if that will get me to some kind of steady state. I may just take a sample at each 250,0000 benchmark to see how the progress is going.</p>\n",
    "<p>Instead of that, I did 1,000,000 iterations total and took samples at each 200,000 benchmark. According to those samples, it seems as if the system reaches steady state somewhere between 400,000 and 600,000 iterations. That's quite a lot. With a grid that is 1000x1000 blocks, that would take an obscene amount of time. Even using a GPU, I think this would take quite a lot of time, but perhaps not so much that it would take weeks to reach a point. One thing, I believe, that severely slows down the model is that all cells begin at zero. If the cells began with an estimated amount, it may speed things up a whole lot. Above, I'll plot the same test if each cell began with .5.</p>\n",
    "<p>So, this new model seems to work somewhat faster than the previous type, but not by much. It makes some difference, but not a whole lot.</p>"
   ]
  }
 ],
 "metadata": {
  "kernelspec": {
   "display_name": "Python 3",
   "language": "python",
   "name": "python3"
  },
  "language_info": {
   "codemirror_mode": {
    "name": "ipython",
    "version": 3
   },
   "file_extension": ".py",
   "mimetype": "text/x-python",
   "name": "python",
   "nbconvert_exporter": "python",
   "pygments_lexer": "ipython3",
   "version": "3.7.3"
  }
 },
 "nbformat": 4,
 "nbformat_minor": 4
}
