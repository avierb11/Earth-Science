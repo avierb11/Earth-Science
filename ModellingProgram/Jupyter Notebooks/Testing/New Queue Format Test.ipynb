{
 "cells": [
  {
   "cell_type": "code",
   "execution_count": 1,
   "metadata": {},
   "outputs": [],
   "source": [
    "import numpy as np"
   ]
  },
  {
   "cell_type": "markdown",
   "metadata": {},
   "source": [
    "## New queue format\n",
    "<p>In this notebook, I try a new format for getting the queue"
   ]
  },
  {
   "cell_type": "code",
   "execution_count": 8,
   "metadata": {},
   "outputs": [],
   "source": [
    "def q1(heads, mult):\n",
    "    '''My original function'''\n",
    "    queue = np.zeros(heads.size)\n",
    "    queue[:-1] = mult*(heads[1: ] - heads[:-1])\n",
    "    queue[1: ] = mult*(heads[:-1] - heads[1: ])\n",
    "    heads += queue\n",
    "    del queue\n",
    "    \n",
    "def q2(heads, mult):\n",
    "    queue = mult*(heads[:-1] - heads[1: ])\n",
    "    heads[1:]  += queue\n",
    "    heads[:-1] += -queue\n",
    "    del queue"
   ]
  },
  {
   "cell_type": "markdown",
   "metadata": {},
   "source": [
    "### Define variables"
   ]
  },
  {
   "cell_type": "code",
   "execution_count": 51,
   "metadata": {},
   "outputs": [],
   "source": [
    "heads = np.zeros(5)\n",
    "heads[0] = 1\n",
    "heads2 = np.zeros(5)\n",
    "heads2[0] = 1\n",
    "mult = .1\n",
    "iters = 100"
   ]
  },
  {
   "cell_type": "markdown",
   "metadata": {},
   "source": [
    "### Test function 1"
   ]
  },
  {
   "cell_type": "code",
   "execution_count": 52,
   "metadata": {},
   "outputs": [
    {
     "name": "stdout",
     "output_type": "stream",
     "text": [
      "Wall time: 8.03 ms\n"
     ]
    }
   ],
   "source": [
    "%%time\n",
    "\n",
    "for i in range(iters):\n",
    "    q1(heads,mult)"
   ]
  },
  {
   "cell_type": "markdown",
   "metadata": {},
   "source": [
    "### Test function 2"
   ]
  },
  {
   "cell_type": "code",
   "execution_count": 53,
   "metadata": {},
   "outputs": [
    {
     "name": "stdout",
     "output_type": "stream",
     "text": [
      "Wall time: 0 ns\n"
     ]
    }
   ],
   "source": [
    "%%time\n",
    "\n",
    "for i in range(iters):\n",
    "    q2(heads2,mult)\n",
    "    "
   ]
  },
  {
   "cell_type": "code",
   "execution_count": 56,
   "metadata": {},
   "outputs": [
    {
     "name": "stdout",
     "output_type": "stream",
     "text": [
      "Sum 1: 2.4980285540510834\n",
      "Sum 2: 1.0\n"
     ]
    }
   ],
   "source": [
    "print(\"Sum 1:\",np.sum(heads))\n",
    "print(\"Sum 2:\",np.sum(heads2))"
   ]
  }
 ],
 "metadata": {
  "kernelspec": {
   "display_name": "Python 3",
   "language": "python",
   "name": "python3"
  },
  "language_info": {
   "codemirror_mode": {
    "name": "ipython",
    "version": 3
   },
   "file_extension": ".py",
   "mimetype": "text/x-python",
   "name": "python",
   "nbconvert_exporter": "python",
   "pygments_lexer": "ipython3",
   "version": "3.7.3"
  }
 },
 "nbformat": 4,
 "nbformat_minor": 2
}
