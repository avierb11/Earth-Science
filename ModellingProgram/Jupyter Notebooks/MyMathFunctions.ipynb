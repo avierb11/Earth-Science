{
 "cells": [
  {
   "cell_type": "markdown",
   "metadata": {},
   "source": [
    "# Integration"
   ]
  },
  {
   "cell_type": "code",
   "execution_count": 1,
   "metadata": {},
   "outputs": [],
   "source": [
    "def integrate(function, x, x_final):\n",
    "    '''\n",
    "    Integrates a function over the given value range\n",
    "    '''\n",
    "    total = 0\n",
    "    while x_initial < x_final:\n",
    "        total += function(x)\n",
    "        x+= .0001\n",
    "    return total\n",
    "    "
   ]
  },
  {
   "cell_type": "markdown",
   "metadata": {},
   "source": [
    "# Derivatives"
   ]
  },
  {
   "cell_type": "code",
   "execution_count": null,
   "metadata": {},
   "outputs": [],
   "source": [
    "def firstDeriv(arr, pos, scale = 1):\n",
    "    '''\n",
    "    Returns the derivative by taking the average slope\n",
    "    across the points on either side\n",
    "    '''\n",
    "    return (arr[pos+1] - arr[pos-1])/(2*scale)\n",
    "\n",
    "def secondDeriv(arr, pos, scale = 1):\n",
    "    '''\n",
    "    Returns the second derivative by calculating the derivative on \n",
    "    either side of the given point and averages those\n",
    "    '''\n",
    "    high = (arr[pos+2] - arr[pos])/(2*scale)\n",
    "    low = (arr[pos] - arr[pos-2])/(2*scale)\n",
    "    return (high-low)/(2*scale)"
   ]
  }
 ],
 "metadata": {
  "kernelspec": {
   "display_name": "Python 3",
   "language": "python",
   "name": "python3"
  },
  "language_info": {
   "codemirror_mode": {
    "name": "ipython",
    "version": 3
   },
   "file_extension": ".py",
   "mimetype": "text/x-python",
   "name": "python",
   "nbconvert_exporter": "python",
   "pygments_lexer": "ipython3",
   "version": "3.7.3"
  }
 },
 "nbformat": 4,
 "nbformat_minor": 2
}
