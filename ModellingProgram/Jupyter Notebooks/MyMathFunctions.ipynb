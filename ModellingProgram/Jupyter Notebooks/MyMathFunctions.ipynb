{
 "cells": [
  {
   "cell_type": "markdown",
   "metadata": {},
   "source": [
    "# Integration"
   ]
  },
  {
   "cell_type": "code",
   "execution_count": 1,
   "metadata": {},
   "outputs": [],
   "source": [
    "def integrate(function, x, x_final):\n",
    "    '''\n",
    "    Integrates a function over the given value range\n",
    "    '''\n",
    "    total = 0\n",
    "    while x_initial < x_final:\n",
    "        total += function(x)\n",
    "        x+= .0001\n",
    "    return total\n",
    "    "
   ]
  },
  {
   "cell_type": "markdown",
   "metadata": {},
   "source": [
    "# Derivatives"
   ]
  },
  {
   "cell_type": "code",
   "execution_count": 1,
   "metadata": {},
   "outputs": [],
   "source": [
    "def firstDeriv(arr, pos, scale = 1):\n",
    "    '''\n",
    "    Returns the derivative by taking the average slope\n",
    "    across the points on either side\n",
    "    '''\n",
    "    return (arr[pos+1] - arr[pos-1])/(2*scale)\n",
    "\n",
    "def secondDeriv(arr, pos, scale = 1):\n",
    "    '''\n",
    "    Returns the second derivative by calculating the derivative on \n",
    "    either side of the given point and averages those\n",
    "    '''\n",
    "    high = (arr[pos+2] - arr[pos])/(2*scale)\n",
    "    low = (arr[pos] - arr[pos-2])/(2*scale)\n",
    "    return (high-low)/(2*scale)"
   ]
  },
  {
   "cell_type": "markdown",
   "metadata": {},
   "source": [
    "# Linear Regression\n",
    "<p>The equation for linear regression is: </p>\n",
    "<h3><center>$\\hat{c} = (X^{T}X)^{-1}X^{T}\\hat{y}$</center></h3>\n",
    "<p>In this equation, $\\hat{c}$ is the array of multipliers for a Taylor Polynomial, X is the matrix of X values, and $\\hat{y}$ is the matrix of y-values.</p>"
   ]
  },
  {
   "cell_type": "code",
   "execution_count": 34,
   "metadata": {},
   "outputs": [],
   "source": [
    "import numpy as np\n",
    "import matplotlib.pyplot as plt\n",
    "\n",
    "def linearFit(x,y):\n",
    "    '''\n",
    "    This is just a simple linear fit.\n",
    "    '''\n",
    "    A = np.array([x,np.ones(x.size)]).T\n",
    "    return np.linalg.inv(A.T@A)@A.T@y\n",
    "\n",
    "\n",
    "def accurateFit(x,y):\n",
    "    A = np.array([x**8, x**7, x**6,x**5,x**4,x**3,x**2,x, np.ones(x.size)]).T\n",
    "    return np.linalg.inv(A.T@A)@A.T@y\n",
    "\n",
    "def secondFit(x,y):\n",
    "    A = np.array([x**2, x, np.ones(x.size)]).T\n",
    "    return np.linalg.inv(A.T@A)@A.T@y\n",
    "\n",
    "\n",
    "\n",
    "def yPrimeAccurate(mult, x):\n",
    "    yPrime= np.zeros(x.size)\n",
    "    for i in range(8,0,-1):\n",
    "        yPrime += mult[i]*x**i\n",
    "    yPrime += b\n",
    "    return yPrime\n"
   ]
  },
  {
   "cell_type": "code",
   "execution_count": 40,
   "metadata": {},
   "outputs": [
    {
     "data": {
      "image/png": "[encoded data removed]",
      "text/plain": [
       "<Figure size 432x288 with 1 Axes>"
      ]
     },
     "metadata": {
      "needs_background": "light"
     },
     "output_type": "display_data"
    }
   ],
   "source": [
    "x = np.linspace(0,10,1000)\n",
    "y = 3*np.sin(x) + .005*x**3 -.1*x + 1.1*np.cos(x/2.45 - 2)\n",
    "[m,b] = linearFit(x,y)\n",
    "yPrime = m*x + b\n",
    "\n",
    "[m1,m2,b] = secondFit(x,y)\n",
    "yPrime2 = m1*x**2 + m2*x**2 + b\n",
    "\n",
    "#yPrimeAcc = yPrimeAccurate(accurateFit(x,y),x)\n",
    "\n",
    "plt.plot(x,y)\n",
    "plt.plot(x,yPrime,'r--')\n",
    "plt.plot(x,yPrime2, 'g--')\n",
    "plt.show()"
   ]
  },
  {
   "cell_type": "code",
   "execution_count": 42,
   "metadata": {},
   "outputs": [
    {
     "name": "stdout",
     "output_type": "stream",
     "text": [
      "None\n"
     ]
    }
   ],
   "source": [
    "print(linearFit.__doc__)"
   ]
  },
  {
   "cell_type": "code",
   "execution_count": null,
   "metadata": {},
   "outputs": [],
   "source": []
  }
 ],
 "metadata": {
  "kernelspec": {
   "display_name": "Python 3",
   "language": "python",
   "name": "python3"
  },
  "language_info": {
   "codemirror_mode": {
    "name": "ipython",
    "version": 3
   },
   "file_extension": ".py",
   "mimetype": "text/x-python",
   "name": "python",
   "nbconvert_exporter": "python",
   "pygments_lexer": "ipython3",
   "version": "3.7.3"
  }
 },
 "nbformat": 4,
 "nbformat_minor": 2
}
