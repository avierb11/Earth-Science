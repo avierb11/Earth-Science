{
 "cells": [
  {
   "cell_type": "markdown",
   "metadata": {},
   "source": [
    "# Modelling Class\n",
    "<p>In this notebook, I am going to try to unify many of the hydrogeology concepts that I have already created. I'll create a <b>FlowModel</b> class to keep things a whole lot more organized. For now, it's just 1D.</p>"
   ]
  },
  {
   "cell_type": "code",
   "execution_count": 1,
   "metadata": {},
   "outputs": [],
   "source": [
    "class FlowModel:\n",
    "    def __init__(self, length, conductivity = .1):\n",
    "        import matplotlib.pyplot as plt\n",
    "        import numpy as np\n",
    "        self.length = length\n",
    "        self.heads = np.zeros(heads)\n",
    "        \n",
    "    def flow(self):\n",
    "        '''\n",
    "        Normal flow function\n",
    "        '''\n",
    "        pass\n",
    "    \n",
    "    def concentrationChange(self):\n",
    "    '''\n",
    "    Dissolved solute transport\n",
    "    '''\n",
    "    pass\n",
    "\n",
    "    def showModel(self):\n",
    "        plt.plot(self.heads)\n",
    "        plt.xlabel(\"Element number\")\n",
    "        plt.ylabel(\"Head\")\n",
    "        plt.show()"
   ]
  }
 ],
 "metadata": {
  "kernelspec": {
   "display_name": "Python 3",
   "language": "python",
   "name": "python3"
  },
  "language_info": {
   "codemirror_mode": {
    "name": "ipython",
    "version": 3
   },
   "file_extension": ".py",
   "mimetype": "text/x-python",
   "name": "python",
   "nbconvert_exporter": "python",
   "pygments_lexer": "ipython3",
   "version": "3.7.3"
  }
 },
 "nbformat": 4,
 "nbformat_minor": 2
}
