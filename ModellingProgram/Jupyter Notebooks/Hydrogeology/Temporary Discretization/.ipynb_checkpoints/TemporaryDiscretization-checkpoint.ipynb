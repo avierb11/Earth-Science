{
 "cells": [
  {
   "cell_type": "markdown",
   "metadata": {},
   "source": [
    "# Temporary Discretization\n",
    "<p>This notebook will explore the use of temporarily discretizing an array to simulate a higher resolution of flow. If it works, this method would save a lot of memory.</p>"
   ]
  },
  {
   "cell_type": "markdown",
   "metadata": {},
   "source": [
    "## Taylor Series\n",
    "<p>The crux of this method hinges on describing the shape of the heads between 2 values as a Taylor Series. For now, it will be a 1D series, but it could easily be expanded to have more terms and become nonlinear.</p>\n",
    "<p>Linear regression formula:</p>\n",
    "<h3><center>$A = \\frac{X^{T}y}{(X^{T}X)^{-1}}$</center></h3>\n",
    "<p>Where $A$ is a vector of multipliers. For the linear example, it will contain m and b from y = mx + b</p>"
   ]
  },
  {
   "cell_type": "code",
   "execution_count": 2,
   "metadata": {},
   "outputs": [],
   "source": [
    "import numpy as np\n",
    "import matplotlib.pyplot as plt\n",
    "\n",
    "def linearize(xs,ys):\n",
    "    '''\n",
    "    Returns an array with 2 elements: m and b.\n",
    "    '''\n",
    "    X = np.array([xs,np.ones(xs.size)]).T\n",
    "    return np.linalg.inv((X.T@X))@X.T@ys\n",
    "\n",
    "def quadrizeMultipliers(xs,ys):\n",
    "    X = np.array([xs**2,xs,np.ones(xs.size)]).T\n",
    "    return np.linalg.inv((X.T@X))@X.T@ys\n",
    "\n",
    "def quadrize(xs,ys):\n",
    "    X = np.array([xs**2,xs,np.ones(xs.size)]).T\n",
    "    m = np.linalg.inv((X.T@X))@X.T@ys\n",
    "    return m[0]*xs**2 + m[1]*xs + m[2]\n",
    "\n",
    "def cubize(xs,ys):\n",
    "    X = np.array([xs**3,xs**2,xs,np.ones(xs.size)]).T\n",
    "    m = np.linalg.inv((X.T@X))@X.T@ys\n",
    "    return m[0]*xs**3 + m[1]*xs**2 + m[2]*xs + m[3]\n",
    "\n",
    "def taylor(xs,ys,degree = 1):\n",
    "    X = np.array([xs**deg for deg in range(degree + 1)])\n",
    "    print('X shape: {}'.format(X.shape))\n",
    "    m = np.linalg.inv((X.T@X))@X.T@ys\n",
    "    new = np.zeros(xs.size)\n",
    "    for i in range(degree + 1):\n",
    "        new += m[i]*x[i]**i\n",
    "    return new"
   ]
  },
  {
   "cell_type": "markdown",
   "metadata": {},
   "source": [
    "## Code Analysis\n",
    "<p>Here, we have two functions. <b>linearize</b> is just simple linear regression, while <b>quadrize</b> is a quadratic fit. It's not really all that much more complicated. The code below isn't anything special, just to make sure that everything works as intended.</p>"
   ]
  },
  {
   "cell_type": "code",
   "execution_count": 2,
   "metadata": {},
   "outputs": [
    {
     "data": {
      "image/png": "[encoded data removed]",
      "text/plain": [
       "<Figure size 432x288 with 1 Axes>"
      ]
     },
     "metadata": {
      "needs_background": "light"
     },
     "output_type": "display_data"
    }
   ],
   "source": [
    "%matplotlib inline\n",
    "x = np.linspace(0,10,100)\n",
    "y = x**2\n",
    "\n",
    "[m,b] = linearize(x,y)\n",
    "\n",
    "[m2,m1,m0] = quadrizeMultipliers(x,y)\n",
    "\n",
    "yLin = m*x + b\n",
    "\n",
    "yQuad = m2*x**2 + m1**x + m0\n",
    "\n",
    "plt.plot(x,y)\n",
    "plt.plot(x,yLin, color = 'red')\n",
    "plt.plot(x,yQuad,'orange', alpha = .7)\n",
    "plt.show()"
   ]
  },
  {
   "cell_type": "markdown",
   "metadata": {},
   "source": [
    "## Now, to apply it to a model"
   ]
  },
  {
   "cell_type": "code",
   "execution_count": 3,
   "metadata": {},
   "outputs": [],
   "source": [
    "def flow1D(heads):\n",
    "    queue = np.zeros(heads.shape)\n",
    "    queue[1: ] += (heads[:-1] - heads[1: ])*.1\n",
    "    queue[:-1] += (heads[1: ] - heads[:-1])*.1\n",
    "    \n",
    "    heads += queue\n",
    "    del queue\n"
   ]
  },
  {
   "cell_type": "code",
   "execution_count": 4,
   "metadata": {},
   "outputs": [],
   "source": [
    "length = 101\n",
    "heads = np.zeros(length)\n",
    "lengths = np.linspace(0,10,length)\n",
    "iters = 5000\n",
    "\n",
    "for i in range(iters):\n",
    "    heads[0]  = 1\n",
    "    heads[-1] = 0\n",
    "    flow1D(heads)"
   ]
  },
  {
   "cell_type": "code",
   "execution_count": 5,
   "metadata": {},
   "outputs": [
    {
     "data": {
      "image/png": "[encoded data removed]",
      "text/plain": [
       "<Figure size 432x288 with 1 Axes>"
      ]
     },
     "metadata": {
      "needs_background": "light"
     },
     "output_type": "display_data"
    }
   ],
   "source": [
    "yQuad = quadrize(lengths,heads)\n",
    "yCube = cubize(lengths,heads)\n",
    "\n",
    "plt.plot(heads)\n",
    "#plt.plot(yQuad, color = 'orange')\n",
    "plt.plot(yCube, color = 'red')\n",
    "plt.show()"
   ]
  },
  {
   "cell_type": "markdown",
   "metadata": {},
   "source": [
    "## Model Analysis\n",
    "<p>This seems to work pretty well. Given that the head value does not look like a right angle (such as when the model is evolving towards steady state), there seems to be some good agreement between the actual array and the calculated one. Using the cubic function gives even a closer model, especially at the end. It seems that I could just keep adding terms to get greater accuracy, but that's just more and more time spend.</p>\n",
    "<p>After spending some time checking the time for each element, I think I could add some more values if necessary because I think that it doesn't take too much time.</p>\n",
    "<p>Now, I want to split this up into a couple arrays. I'll split this up into 10 arrays that each represent 10 elements.</p>"
   ]
  },
  {
   "cell_type": "code",
   "execution_count": 21,
   "metadata": {},
   "outputs": [
    {
     "name": "stdout",
     "output_type": "stream",
     "text": [
      "A small test\n",
      "-0.0005687179116287133\n"
     ]
    }
   ],
   "source": [
    "sample = np.copy(heads[::10])\n",
    "sampleLengths = np.copy(lengths[::10])\n",
    "stride = 10\n",
    "\n",
    "# Now to get the multipliers for each of the boxes\n",
    "mult = []\n",
    "for i in range(10):\n",
    "    mult.append(quadrizeMultipliers(lengths[stride*i:stride*(i+1) + 1],\n",
    "                                    heads[stride*i:stride*(i+1) + 1]))\n",
    "# Now create the individual values\n",
    "pieces = []\n",
    "for i in range(len(mult)):\n",
    "    piece = np.zeros(stride + 1)\n",
    "    piece += mult[i][0]*lengths[stride*i:stride*(i+1) + 1]**2\n",
    "    piece += mult[i][1]*lengths[stride*i:stride*(i+1) + 1]\n",
    "    piece += mult[i][2]\n",
    "    pieces.append(piece)\n",
    "    \n",
    "print(\"A small test\")\n",
    "print(pieces[0][-1] - pieces[1][0])"
   ]
  },
  {
   "cell_type": "code",
   "execution_count": 24,
   "metadata": {},
   "outputs": [
    {
     "data": {
      "image/png": "[encoded data removed]",
      "text/plain": [
       "<Figure size 432x288 with 1 Axes>"
      ]
     },
     "metadata": {
      "needs_background": "light"
     },
     "output_type": "display_data"
    }
   ],
   "source": [
    "%matplotlib inline\n",
    "plt.plot(lengths[0:11], heads[0:11], color = 'green', alpha = .5)\n",
    "#plt.plot(sampleLengths, sample, color = 'red')\n",
    "\n",
    "for i in range(len(pieces)):\n",
    "    plt.plot(lengths[stride*i:stride*(i+1) + 1], pieces[i], color='blue')\n",
    "\n",
    "#plt.plot(lengths[0:11],pieces[0], color = 'blue')\n",
    "plt.show()"
   ]
  },
  {
   "cell_type": "markdown",
   "metadata": {},
   "source": [
    "## Model Analysis\n",
    "<p>Ok, so this seems to work really quite well. This model is made up of 10 smaller pieces, each described by it's own Taylor series. For this model, I cannot even tell any variation. I think this is a winning idea. The next step is implementing it in a function that will create the arrays dynamically.</p>"
   ]
  },
  {
   "cell_type": "code",
   "execution_count": 77,
   "metadata": {},
   "outputs": [
    {
     "name": "stdout",
     "output_type": "stream",
     "text": [
      "[9.75024647e-01 7.52656725e-01 5.28731934e-01 3.45121037e-01\n",
      " 2.08643596e-01 1.16572468e-01 6.01057608e-02 2.85427964e-02\n",
      " 1.23444270e-02 4.42750365e-03 4.09187951e-04]\n"
     ]
    }
   ],
   "source": [
    "class temporary:\n",
    "    def __init__(self):\n",
    "        self.length = 11\n",
    "        self.discSize = 10\n",
    "        self.lengths = np.linspace(0,10,101)\n",
    "        self.heads = np.zeros(11)\n",
    "        self.heads[0] = 1\n",
    "        #self.taylors = np.zeros((10,3)) # not used in this example\n",
    "        self.temp = np.linspace(1,0,10)\n",
    "        \n",
    "    def flow1D(self):\n",
    "        for i in range(10):\n",
    "            tempHeads = np.linspace(self.heads[i],self.heads[i+1],10)\n",
    "            queue = np.zeros(10)\n",
    "            queue[:-1] += (tempHeads[1: ] - tempHeads[:-1])*.01\n",
    "            queue[1: ] += (tempHeads[:-1] - tempHeads[1: ])*.01\n",
    "            self.heads[i] += queue[0]\n",
    "            self.heads[i + 1] += queue[-1]\n",
    "        self.heads[0] = 1\n",
    "        self.heads[-1] = 0\n",
    "            \n",
    "    \n",
    "t = temporary()\n",
    "\n",
    "length = 101\n",
    "heads = np.zeros(length)\n",
    "lengths = np.linspace(0,10,length)\n",
    "iters = 5000\n",
    "xRange = np.linspace(0,10,11)\n",
    "\n",
    "x\n",
    "\n",
    "for i in range(iters):\n",
    "    heads[0]  = 1\n",
    "    heads[-1] = 0\n",
    "    flow1D(heads)\n",
    "    t.flow1D()\n",
    "    \n",
    "length2 = 11\n",
    "heads2 = np.zeros(length2)\n",
    "lengths2 = np.linspace(0,10,length2)\n",
    "\n",
    "for i in range(50):\n",
    "    heads2[0] = 1\n",
    "    heads2[-1] = 0\n",
    "    flow1D(heads2)\n",
    "    \n",
    "print(heads2)"
   ]
  },
  {
   "cell_type": "code",
   "execution_count": 80,
   "metadata": {},
   "outputs": [
    {
     "data": {
      "image/png": "[encoded data removed]",
      "text/plain": [
       "<Figure size 432x288 with 1 Axes>"
      ]
     },
     "metadata": {
      "needs_background": "light"
     },
     "output_type": "display_data"
    }
   ],
   "source": [
    "%matplotlib inline\n",
    "plt.plot(xRange,t.heads, color = 'blue')\n",
    "plt.plot(lengths,heads, color = 'red')\n",
    "#plt.plot(xRange,heads2,color = 'green')\n",
    "plt.plot\n",
    "\n",
    "plt.show()"
   ]
  },
  {
   "cell_type": "markdown",
   "metadata": {},
   "source": [
    "## Model Analysis\n",
    "<p>This is an encouraging graph. A model of length 10, this model uses a <u>linear</u> estimate. I've just used a linear estimate between points instead of the quadratic forms that I've created. Even just a linear model is really quite accurate.</p>"
   ]
  },
  {
   "cell_type": "code",
   "execution_count": 31,
   "metadata": {},
   "outputs": [
    {
     "name": "stdout",
     "output_type": "stream",
     "text": [
      "made it\n"
     ]
    },
    {
     "ename": "IndexError",
     "evalue": "index 101 is out of bounds for axis 0 with size 101",
     "output_type": "error",
     "traceback": [
      "\u001b[1;31m---------------------------------------------------------------------------\u001b[0m",
      "\u001b[1;31mIndexError\u001b[0m                                Traceback (most recent call last)",
      "\u001b[1;32m<ipython-input-31-9a13ae3423ef>\u001b[0m in \u001b[0;36m<module>\u001b[1;34m\u001b[0m\n\u001b[0;32m     57\u001b[0m \u001b[0mprint\u001b[0m\u001b[1;33m(\u001b[0m\u001b[1;34m'made it'\u001b[0m\u001b[1;33m)\u001b[0m\u001b[1;33m\u001b[0m\u001b[1;33m\u001b[0m\u001b[0m\n\u001b[0;32m     58\u001b[0m \u001b[1;32mfor\u001b[0m \u001b[0mi\u001b[0m \u001b[1;32min\u001b[0m \u001b[0mrange\u001b[0m\u001b[1;33m(\u001b[0m\u001b[1;36m100\u001b[0m\u001b[1;33m)\u001b[0m\u001b[1;33m:\u001b[0m\u001b[1;33m\u001b[0m\u001b[1;33m\u001b[0m\u001b[0m\n\u001b[1;32m---> 59\u001b[1;33m     \u001b[0mvals\u001b[0m \u001b[1;33m=\u001b[0m \u001b[0mt2\u001b[0m\u001b[1;33m.\u001b[0m\u001b[0mflow1D\u001b[0m\u001b[1;33m(\u001b[0m\u001b[1;33m)\u001b[0m\u001b[1;33m\u001b[0m\u001b[1;33m\u001b[0m\u001b[0m\n\u001b[0m\u001b[0;32m     60\u001b[0m \u001b[1;33m\u001b[0m\u001b[0m\n\u001b[0;32m     61\u001b[0m \u001b[0mplt\u001b[0m\u001b[1;33m.\u001b[0m\u001b[0mplot\u001b[0m\u001b[1;33m(\u001b[0m\u001b[0mt2\u001b[0m\u001b[1;33m.\u001b[0m\u001b[0mheads\u001b[0m\u001b[1;33m)\u001b[0m\u001b[1;33m\u001b[0m\u001b[1;33m\u001b[0m\u001b[0m\n",
      "\u001b[1;32m<ipython-input-31-9a13ae3423ef>\u001b[0m in \u001b[0;36mflow1D\u001b[1;34m(self)\u001b[0m\n\u001b[0;32m     16\u001b[0m     \u001b[1;32mdef\u001b[0m \u001b[0mflow1D\u001b[0m\u001b[1;33m(\u001b[0m\u001b[0mself\u001b[0m\u001b[1;33m)\u001b[0m\u001b[1;33m:\u001b[0m\u001b[1;33m\u001b[0m\u001b[1;33m\u001b[0m\u001b[0m\n\u001b[0;32m     17\u001b[0m         \u001b[1;32mfor\u001b[0m \u001b[0mi\u001b[0m \u001b[1;32min\u001b[0m \u001b[0mrange\u001b[0m\u001b[1;33m(\u001b[0m\u001b[0mself\u001b[0m\u001b[1;33m.\u001b[0m\u001b[0mlength\u001b[0m\u001b[1;33m)\u001b[0m\u001b[1;33m:\u001b[0m\u001b[1;33m\u001b[0m\u001b[1;33m\u001b[0m\u001b[0m\n\u001b[1;32m---> 18\u001b[1;33m             \u001b[0mtempHeads\u001b[0m \u001b[1;33m=\u001b[0m \u001b[0mnp\u001b[0m\u001b[1;33m.\u001b[0m\u001b[0mlinspace\u001b[0m\u001b[1;33m(\u001b[0m\u001b[0mself\u001b[0m\u001b[1;33m.\u001b[0m\u001b[0mheads\u001b[0m\u001b[1;33m[\u001b[0m\u001b[0mi\u001b[0m\u001b[1;33m]\u001b[0m\u001b[1;33m,\u001b[0m\u001b[0mself\u001b[0m\u001b[1;33m.\u001b[0m\u001b[0mheads\u001b[0m\u001b[1;33m[\u001b[0m\u001b[0mi\u001b[0m\u001b[1;33m+\u001b[0m\u001b[1;36m1\u001b[0m\u001b[1;33m]\u001b[0m\u001b[1;33m,\u001b[0m\u001b[0mself\u001b[0m\u001b[1;33m.\u001b[0m\u001b[0mdiscSize\u001b[0m \u001b[1;33m+\u001b[0m \u001b[1;36m1\u001b[0m\u001b[1;33m)\u001b[0m\u001b[1;33m\u001b[0m\u001b[1;33m\u001b[0m\u001b[0m\n\u001b[0m\u001b[0;32m     19\u001b[0m             \u001b[0mqueue\u001b[0m \u001b[1;33m=\u001b[0m \u001b[0mnp\u001b[0m\u001b[1;33m.\u001b[0m\u001b[0mzeros\u001b[0m\u001b[1;33m(\u001b[0m\u001b[0mself\u001b[0m\u001b[1;33m.\u001b[0m\u001b[0mdiscSize\u001b[0m \u001b[1;33m+\u001b[0m \u001b[1;36m1\u001b[0m\u001b[1;33m)\u001b[0m\u001b[1;33m\u001b[0m\u001b[1;33m\u001b[0m\u001b[0m\n\u001b[0;32m     20\u001b[0m             \u001b[0mqueue\u001b[0m\u001b[1;33m[\u001b[0m\u001b[1;33m:\u001b[0m\u001b[1;33m-\u001b[0m\u001b[1;36m1\u001b[0m\u001b[1;33m]\u001b[0m \u001b[1;33m+=\u001b[0m \u001b[1;33m(\u001b[0m\u001b[0mtempHeads\u001b[0m\u001b[1;33m[\u001b[0m\u001b[1;36m1\u001b[0m\u001b[1;33m:\u001b[0m \u001b[1;33m]\u001b[0m \u001b[1;33m-\u001b[0m \u001b[0mtempHeads\u001b[0m\u001b[1;33m[\u001b[0m\u001b[1;33m:\u001b[0m\u001b[1;33m-\u001b[0m\u001b[1;36m1\u001b[0m\u001b[1;33m]\u001b[0m\u001b[1;33m)\u001b[0m\u001b[1;33m*\u001b[0m\u001b[0mself\u001b[0m\u001b[1;33m.\u001b[0m\u001b[0mdiscScale\u001b[0m\u001b[1;33m\u001b[0m\u001b[1;33m\u001b[0m\u001b[0m\n",
      "\u001b[1;31mIndexError\u001b[0m: index 101 is out of bounds for axis 0 with size 101"
     ]
    }
   ],
   "source": [
    "class temporary2D:\n",
    "    def __init__(self, length = 11, discSize = 10, realLifeLength = 10,):\n",
    "        self.length = length\n",
    "        self.discSize = discSize\n",
    "        self.lengths = np.linspace(0,realLifeLength,(length-1)*discSize + 1)\n",
    "        self.heads = np.zeros(self.length)\n",
    "        self.heads[0] = 1\n",
    "        self.taylors = np.zeros((self.discSize,3))\n",
    "        self.taylors[0,1] = -1\n",
    "        self.temp = np.linspace(1,0,self.length - 1)\n",
    "        self.stride = self.discSize\n",
    "        self.realLifeLength = realLifeLength\n",
    "        self.scale = self.realLifeLength/self.length\n",
    "        self.discScale = self.scale/self.discSize\n",
    "        \n",
    "    def flow1D(self):\n",
    "        for i in range(self.length):\n",
    "            tempHeads = np.linspace(self.heads[i],self.heads[i+1],self.discSize + 1)\n",
    "            queue = np.zeros(self.discSize + 1)\n",
    "            queue[:-1] += (tempHeads[1: ] - tempHeads[:-1])*self.discScale\n",
    "            queue[1: ] += (tempHeads[:-1] - tempHeads[1: ])*self.discScale\n",
    "            self.heads[i] += queue[0]\n",
    "            self.heads[i + 1] += queue[-1]\n",
    "        self.heads[0] = 1\n",
    "        self.heads[-1] = 0\n",
    "        \n",
    "    def flow1DQuad(self):\n",
    "        # Iterate over each box\n",
    "        for i in range(10):\n",
    "            # Determine the temporary queues\n",
    "            currentTaylor = self.taylors[i]\n",
    "            \n",
    "            '''\n",
    "            Something wrong in here:\n",
    "            Need a protocol if the taylor series is equal to zero\n",
    "            because it will just remain at zero.\n",
    "            '''\n",
    "            \n",
    "            tempHeads = (currentTaylor[0]*self.lengths[self.stride*i:self.stride*(i+1) + 1]**2 +\n",
    "                         currentTaylor[1]*self.lengths[self.stride*i:self.stride*(i+1) + 1] + \n",
    "                         currentTaylor[2])\n",
    "            queue = np.zeros(11)\n",
    "            queue[:-1] += (tempHeads[1: ] - tempHeads[:-1])*.01\n",
    "            queue[1: ] += (tempHeads[:-1] - tempHeads[1: ])*.01\n",
    "            self.heads[i] += queue[0]\n",
    "            self.heads[i + 1] += queue[-1]\n",
    "            self.taylors[i] = self.quad(self.lengths[self.stride*i:self.stride*(i+1) + 1],tempHeads)\n",
    "            del tempHeads\n",
    "        self.heads[0] = 1\n",
    "        self.heads[-1] = 0\n",
    "        \n",
    "    def quad(self,xs,ys):\n",
    "        X = np.array([xs**2,xs,np.ones(xs.size)]).T\n",
    "        return np.linalg.inv((X.T@X))@X.T@ys\n",
    "    \n",
    "t2 = temporary2D(length = 101, discSize = 10)\n",
    "print('made it')\n",
    "for i in range(100):\n",
    "    vals = t2.flow1D()\n",
    "\n",
    "plt.plot(t2.heads)\n",
    "plt.show()"
   ]
  },
  {
   "cell_type": "code",
   "execution_count": 32,
   "metadata": {},
   "outputs": [
    {
     "data": {
      "text/plain": [
       "100001"
      ]
     },
     "execution_count": 32,
     "metadata": {},
     "output_type": "execute_result"
    }
   ],
   "source": [
    "temp = temporary2D(length = 1001, discSize = 100)"
   ]
  },
  {
   "cell_type": "code",
   "execution_count": 29,
   "metadata": {},
   "outputs": [
    {
     "name": "stdout",
     "output_type": "stream",
     "text": [
      "Wall time: 1 ms\n"
     ]
    }
   ],
   "source": [
    "%%time\n",
    "temp.flow1D()"
   ]
  }
 ],
 "metadata": {
  "kernelspec": {
   "display_name": "Python 3",
   "language": "python",
   "name": "python3"
  },
  "language_info": {
   "codemirror_mode": {
    "name": "ipython",
    "version": 3
   },
   "file_extension": ".py",
   "mimetype": "text/x-python",
   "name": "python",
   "nbconvert_exporter": "python",
   "pygments_lexer": "ipython3",
   "version": "3.8.3"
  }
 },
 "nbformat": 4,
 "nbformat_minor": 4
}
