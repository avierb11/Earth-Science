{
 "cells": [
  {
   "cell_type": "markdown",
   "metadata": {},
   "source": [
    "# Linear Discretization Model\n",
    "<p>In this notebook, I'll work to clean up flow model class that I made in my first temporary discretization notebook.</p>"
   ]
  },
  {
   "cell_type": "code",
   "execution_count": 5,
   "metadata": {},
   "outputs": [],
   "source": [
    "import matplotlib.pyplot as plt\n",
    "import numpy as np"
   ]
  },
  {
   "cell_type": "code",
   "execution_count": 53,
   "metadata": {},
   "outputs": [],
   "source": [
    "class FlowModel:\n",
    "    def __init__(self, length = 11, discSize = 10, realLifeLength = 10):\n",
    "        self.length = length\n",
    "        self.discSize = discSize\n",
    "        #self.lengths = np.linspace(0,realLifeLength,(length-1)*discSize + 1)\n",
    "        self.plotLengths = np.linspace(0,realLifeLength,self.length)\n",
    "        self.heads = np.zeros(length)\n",
    "        self.heads[0] = 1\n",
    "        self.temp = np.linspace(1,0,discSize)\n",
    "        self.realLifeLength = realLifeLength\n",
    "        \n",
    "    def flow1D(self):\n",
    "        for i in range(self.length-1):\n",
    "            tempHeads = np.linspace(self.heads[i],self.heads[i+1],self.discSize)\n",
    "            queue = np.zeros(self.discSize)\n",
    "            queue[:-1] += (tempHeads[1: ] - tempHeads[:-1])*.01\n",
    "            queue[1: ] += (tempHeads[:-1] - tempHeads[1: ])*.01\n",
    "            self.heads[i] += queue[0]\n",
    "            self.heads[i + 1] += queue[-1]\n",
    "        self.heads[0] = 1\n",
    "        self.heads[-1] = 0"
   ]
  },
  {
   "cell_type": "markdown",
   "metadata": {},
   "source": [
    "## Test the Model"
   ]
  },
  {
   "cell_type": "code",
   "execution_count": 6,
   "metadata": {},
   "outputs": [
    {
     "ename": "NameError",
     "evalue": "name 'FlowModel' is not defined",
     "output_type": "error",
     "traceback": [
      "\u001b[1;31m---------------------------------------------------------------------------\u001b[0m",
      "\u001b[1;31mNameError\u001b[0m                                 Traceback (most recent call last)",
      "\u001b[1;32m<ipython-input-6-fa7f248d4195>\u001b[0m in \u001b[0;36m<module>\u001b[1;34m\u001b[0m\n\u001b[1;32m----> 1\u001b[1;33m \u001b[0mmod\u001b[0m \u001b[1;33m=\u001b[0m \u001b[0mFlowModel\u001b[0m\u001b[1;33m(\u001b[0m\u001b[0mlength\u001b[0m \u001b[1;33m=\u001b[0m \u001b[1;36m11\u001b[0m\u001b[1;33m,\u001b[0m \u001b[0mdiscSize\u001b[0m \u001b[1;33m=\u001b[0m \u001b[1;36m5\u001b[0m\u001b[1;33m)\u001b[0m\u001b[1;33m\u001b[0m\u001b[1;33m\u001b[0m\u001b[0m\n\u001b[0m\u001b[0;32m      2\u001b[0m \u001b[1;33m\u001b[0m\u001b[0m\n\u001b[0;32m      3\u001b[0m \u001b[1;33m\u001b[0m\u001b[0m\n\u001b[0;32m      4\u001b[0m \u001b[0miters\u001b[0m \u001b[1;33m=\u001b[0m \u001b[1;36m1000\u001b[0m\u001b[1;33m\u001b[0m\u001b[1;33m\u001b[0m\u001b[0m\n\u001b[0;32m      5\u001b[0m \u001b[1;32mfor\u001b[0m \u001b[0mi\u001b[0m \u001b[1;32min\u001b[0m \u001b[0mrange\u001b[0m\u001b[1;33m(\u001b[0m\u001b[0miters\u001b[0m\u001b[1;33m)\u001b[0m\u001b[1;33m:\u001b[0m\u001b[1;33m\u001b[0m\u001b[1;33m\u001b[0m\u001b[0m\n",
      "\u001b[1;31mNameError\u001b[0m: name 'FlowModel' is not defined"
     ]
    }
   ],
   "source": [
    "mod = FlowModel(length = 11, discSize = 5)\n",
    "\n",
    "\n",
    "iters = 1000\n",
    "for i in range(iters):\n",
    "    mod.flow1D()\n"
   ]
  },
  {
   "cell_type": "markdown",
   "metadata": {},
   "source": [
    "## Measure Time"
   ]
  },
  {
   "cell_type": "code",
   "execution_count": 59,
   "metadata": {},
   "outputs": [
    {
     "name": "stdout",
     "output_type": "stream",
     "text": [
      "Wall time: 5.02 ms\n"
     ]
    }
   ],
   "source": [
    "%%time\n",
    "mod.flow1D()"
   ]
  },
  {
   "cell_type": "markdown",
   "metadata": {},
   "source": [
    "## Plot Results"
   ]
  },
  {
   "cell_type": "code",
   "execution_count": 62,
   "metadata": {},
   "outputs": [
    {
     "data": {
      "text/plain": [
       "(0.0, 10.0)"
      ]
     },
     "execution_count": 62,
     "metadata": {},
     "output_type": "execute_result"
    },
    {
     "data": {
      "image/png": "[encoded data removed]",
      "text/plain": [
       "<Figure size 432x288 with 1 Axes>"
      ]
     },
     "metadata": {
      "needs_background": "light"
     },
     "output_type": "display_data"
    }
   ],
   "source": [
    "plt.plot(mod.plotLengths, mod.heads)\n",
    "plt.xlabel(\"Horizontal length\")\n",
    "plt.ylabel(\"Head\")\n",
    "plt.xlim(0,mod.realLifeLength)"
   ]
  },
  {
   "cell_type": "markdown",
   "metadata": {},
   "source": [
    "## Model Analysis\n",
    "<p>The model works great, I think. It does everything I need it to, at the base level for the moment at least.</p>\n",
    "<p>Now, the work to be done is to generalize this function to a 2D model. Following this, I think I should try to add a CUDA function to it.</p>"
   ]
  },
  {
   "cell_type": "code",
   "execution_count": 31,
   "metadata": {},
   "outputs": [],
   "source": [
    "class FlowModel2D:\n",
    "    def __init__(self, length = 11, depth = 11, discSize = 10, realLifeLength = 10, realLifeDepth = 10):\n",
    "        self.length = length\n",
    "        self.depth = depth\n",
    "        self.discSize = discSize\n",
    "        self.plotLengths = np.linspace(0,realLifeLength,self.length)\n",
    "        self.heads = np.zeros((depth,length))\n",
    "        self.heads[0,0] = 1\n",
    "        self.realLifeLength = realLifeLength\n",
    "        self.realLifeDepth = realLifeDepth\n",
    "        print(self.discSize)\n",
    "        \n",
    "    def flow2D(self):\n",
    "        try:\n",
    "            for i in range(self.depth-1):\n",
    "                for j in range(self.length - 1):\n",
    "                    # Create a square queue\n",
    "                    x = np.linspace(self.heads[i,j],self.heads[i,j+1],self.discSize)\n",
    "                    y = np.linspace(self.heads[i,j],self.heads[i+1,j],self.discSize)\n",
    "                    X,Y = np.meshgrid(x,y)\n",
    "                    tempHeads = .5*(X + Y)\n",
    "                    queue = np.zeros((self.discSize,self.discSize))\n",
    "                    queue[:-1,:] += (tempHeads[1: ,:] - tempHeads[:-1,:])*.01\n",
    "                    queue[1: ,:] += (tempHeads[:-1,:] - tempHeads[1: ,:])*.01\n",
    "                    queue[:,:-1] += (tempHeads[:,1: ] - tempHeads[:,:-1])*.01\n",
    "                    queue[:,1: ] += (tempHeads[:,:-1] - tempHeads[:,1: ])*.01\n",
    "                    self.heads[i, j] += queue[0,0]\n",
    "                    self.heads[i + 1, j] += queue[-1,0]\n",
    "                    self.heads[i, j + 1] += queue[0,-1]\n",
    "                    self.heads[i + 1, j + 1] += queue[-1,-1]\n",
    "                    del queue\n",
    "                    del tempHeads\n",
    "            self.heads[0,0] = 1\n",
    "            self.heads[-1,-1] = 0\n",
    "        except:\n",
    "            print(i,j)\n",
    "        "
   ]
  },
  {
   "cell_type": "code",
   "execution_count": null,
   "metadata": {},
   "outputs": [
    {
     "name": "stdout",
     "output_type": "stream",
     "text": [
      "10\n",
      "7 0\n",
      "2 9\n"
     ]
    }
   ],
   "source": [
    "mod2 = FlowModel2D()\n",
    "\n",
    "for i in range(5000):\n",
    "    mod2.flow2D()"
   ]
  },
  {
   "cell_type": "code",
   "execution_count": null,
   "metadata": {},
   "outputs": [],
   "source": [
    "plt.pcolormesh(mod2.heads,vmin=0,vmax = 1, cmap='Pastel1')"
   ]
  }
 ],
 "metadata": {
  "kernelspec": {
   "display_name": "Python 3",
   "language": "python",
   "name": "python3"
  },
  "language_info": {
   "codemirror_mode": {
    "name": "ipython",
    "version": 3
   },
   "file_extension": ".py",
   "mimetype": "text/x-python",
   "name": "python",
   "nbconvert_exporter": "python",
   "pygments_lexer": "ipython3",
   "version": "3.8.3"
  }
 },
 "nbformat": 4,
 "nbformat_minor": 4
}
