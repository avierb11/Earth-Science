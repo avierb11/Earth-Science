{
 "cells": [
  {
   "cell_type": "markdown",
   "metadata": {},
   "source": [
    "# Evolution to Steady State\n",
    "<p>This notebook will explore the methods to determining when a system is at steady state, given the boundary conditions. In order for steady state, the flux into the system must equal the flux out of it. During a system's evolution towards steady state, the amount of water in the system is not necessarily constant, as certain regions may fill up or empty somewhat, or any combination in between.</p>"
   ]
  },
  {
   "cell_type": "code",
   "execution_count": null,
   "metadata": {},
   "outputs": [],
   "source": [
    "import numpy as np\n",
    "import matplotlib.pyplot as plt\n",
    "\n",
    "def flow(heads,conductivity = .1,steps = 1):\n",
    "        for i in range(steps):\n",
    "            queue = np.zeros(self.heads.shape)\n",
    "            queue[1: ] += (heads[:-1] - heads[1: ])*conductivity\n",
    "            queue[:-1] += (heads[1: ] - heads[:-1])*conductivity\n",
    "\n",
    "            heads += queue\n",
    "            del queue"
   ]
  }
 ],
 "metadata": {
  "kernelspec": {
   "display_name": "Python 3",
   "language": "python",
   "name": "python3"
  },
  "language_info": {
   "codemirror_mode": {
    "name": "ipython",
    "version": 3
   },
   "file_extension": ".py",
   "mimetype": "text/x-python",
   "name": "python",
   "nbconvert_exporter": "python",
   "pygments_lexer": "ipython3",
   "version": "3.7.3"
  }
 },
 "nbformat": 4,
 "nbformat_minor": 2
}
