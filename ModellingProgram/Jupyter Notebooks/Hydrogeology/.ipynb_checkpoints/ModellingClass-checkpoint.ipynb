{
 "cells": [
  {
   "cell_type": "markdown",
   "metadata": {},
   "source": [
    "# Modelling Class\n",
    "<p>In this notebook, I am going to try to unify many of the hydrogeology concepts that I have already created. I'll create a <b>FlowModel</b> class to keep things a whole lot more organized. For now, it's just 1D.</p>"
   ]
  },
  {
   "cell_type": "code",
   "execution_count": 16,
   "metadata": {},
   "outputs": [],
   "source": [
    "class FlowModel:\n",
    "    def __init__(self, length = 10, scale = 1,conductivity = .1,Ss = 1, timeStep = 1):\n",
    "        import matplotlib.pyplot as plt\n",
    "        import numpy as np\n",
    "        global np\n",
    "        self.length = length\n",
    "        self.heads = np.zeros(length)\n",
    "        self.concentrations = np.zeros(length)\n",
    "        self.Ss = Ss\n",
    "        self.conductivity = conductivity\n",
    "        self.timeStep = timeStep\n",
    "        self.scale = scale\n",
    "        self.pointConstants = []\n",
    "        global plt\n",
    "        self.plt = plt\n",
    "        \n",
    "    def flow(self, steps = 1):\n",
    "        for i in range(steps):\n",
    "            for i in range(len(self.pointConstants)):\n",
    "                self.heads[self.pointConstants[i][0]] = self.pointConstants[i][1]\n",
    "            queue = np.zeros(self.heads.shape)\n",
    "            queue[1: ] += (self.heads[:-1] - self.heads[1: ])*self.conductivity\n",
    "            queue[:-1] += (self.heads[1: ] - self.heads[:-1])*self.conductivity\n",
    "\n",
    "            self.heads += queue\n",
    "            del queue\n",
    "        \n",
    "    def addPointConstant(self, pos, change):\n",
    "        '''\n",
    "        Used to add a source term to the model\n",
    "        '''\n",
    "        self.pointConstants.append((pos, change))\n",
    "    \n",
    "    def concentrationChange(self):\n",
    "        '''Dissolved solute transport'''\n",
    "        pass\n",
    "    \n",
    "    def showModel(self):\n",
    "        '''\n",
    "        Shows the queue for a given range.\n",
    "        The horizontal line marks positive and negative flux\n",
    "        for a given element\n",
    "        '''\n",
    "        self.plt.figure(1)\n",
    "        self.plt.subplot(111)\n",
    "        self.plt.plot(self.heads)\n",
    "        self.plt.xlabel(\"Element number\")\n",
    "        self.plt.ylabel(\"Head\")\n",
    "        self.plt.show()\n",
    "        \n",
    "    def showQueue(self):\n",
    "        queue = np.zeros(self.heads.shape)\n",
    "        queue[1: ] += (self.heads[:-1] - self.heads[1: ])*self.conductivity*self.timeStep\n",
    "        self.plt.figure(1)\n",
    "        self.plt.subplot(111)\n",
    "        self.plt.plot(queue)\n",
    "        self.plt.xlabel(\"Element\")\n",
    "        self.plt.ylabel(\"Queue at element\")\n",
    "        self.plt.title(\"Current queue\")\n",
    "        self.plt.axhline(y = 0, color = 'black', alpha = .5)\n",
    "        self.plt.show()\n",
    "\n",
    "    def __str__(self):\n",
    "        print(\"Model Size: {}\".format(self.length))\n",
    "        print(\"Model Scale: {} units per element\".format(self.scale))\n",
    "        print(\"Conductivity: {}\".format(self.conductivity))\n",
    "        print(\"Specific storage: {}\".format(self.Ss))\n",
    "        return \"\"\n",
    "        \n",
    "    def basicPointChanges(self):\n",
    "        '''\n",
    "        This is really just a time saver that will set the first\n",
    "        element equal to a value of 1 and the final equal to 0,\n",
    "        just for some boundary conditions\n",
    "        '''\n",
    "        self.addPointConstant(0,1)\n",
    "        self.addPointConstant(-1,0)"
   ]
  },
  {
   "cell_type": "markdown",
   "metadata": {},
   "source": [
    "## Now to test the model\n",
    "<p>Something that is important is that <u>all</u> of the values can be left alone during initialization. I'd really like this model to be as easy as possible for now.</p>"
   ]
  },
  {
   "cell_type": "code",
   "execution_count": 17,
   "metadata": {},
   "outputs": [
    {
     "data": {
      "image/png": "[encoded data removed]",
      "text/plain": [
       "<Figure size 432x288 with 1 Axes>"
      ]
     },
     "metadata": {
      "needs_background": "light"
     },
     "output_type": "display_data"
    }
   ],
   "source": [
    "%matplotlib inline\n",
    "model = FlowModel(length = 100)\n",
    "model.basicPointChanges()\n",
    "model.addPointConstant(49,2)\n",
    "model.flow(1000)\n",
    "model.showQueue()"
   ]
  },
  {
   "cell_type": "code",
   "execution_count": null,
   "metadata": {},
   "outputs": [],
   "source": []
  }
 ],
 "metadata": {
  "kernelspec": {
   "display_name": "Python 3",
   "language": "python",
   "name": "python3"
  },
  "language_info": {
   "codemirror_mode": {
    "name": "ipython",
    "version": 3
   },
   "file_extension": ".py",
   "mimetype": "text/x-python",
   "name": "python",
   "nbconvert_exporter": "python",
   "pygments_lexer": "ipython3",
   "version": "3.7.3"
  }
 },
 "nbformat": 4,
 "nbformat_minor": 2
}
