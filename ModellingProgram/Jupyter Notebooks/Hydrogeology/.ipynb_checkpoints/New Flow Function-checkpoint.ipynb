{
 "cells": [
  {
   "cell_type": "code",
   "execution_count": 3,
   "metadata": {},
   "outputs": [],
   "source": [
    "import numpy as np\n",
    "import matplotlib.pyplot as plt\n",
    "\n",
    "def flow(heads, K, t, Sy, scale):\n",
    "    queue = np.zeros(heads.size)\n",
    "    mult = (K*t)/(Sy*scale*scale)\n",
    "    queue[:-1] += mult*(heads[1: ] - heads[:-1])\n",
    "    queue[1: ] += mult*(heads[:-1] - heads[1: ])\n",
    "    heads += queue\n",
    "    del queue"
   ]
  },
  {
   "cell_type": "code",
   "execution_count": 50,
   "metadata": {},
   "outputs": [],
   "source": [
    "length = 1000\n",
    "elements = 100\n",
    "scale = length/elements\n",
    "\n",
    "heads = np.zeros(elements)\n",
    "heads[0] = 1\n",
    "K = .01\n",
    "t = .00001\n",
    "Sy = .005\n"
   ]
  },
  {
   "cell_type": "code",
   "execution_count": 51,
   "metadata": {},
   "outputs": [],
   "source": [
    "for i in range(100000):\n",
    "    heads[0] = 1\n",
    "    flow(heads,K,t,Sy,scale)"
   ]
  },
  {
   "cell_type": "code",
   "execution_count": 52,
   "metadata": {},
   "outputs": [
    {
     "data": {
      "image/png": "[encoded data removed]",
      "text/plain": [
       "<Figure size 432x288 with 1 Axes>"
      ]
     },
     "metadata": {
      "needs_background": "light"
     },
     "output_type": "display_data"
    }
   ],
   "source": [
    "plt.plot(heads)\n",
    "plt.show()"
   ]
  },
  {
   "cell_type": "code",
   "execution_count": 53,
   "metadata": {},
   "outputs": [
    {
     "name": "stdout",
     "output_type": "stream",
     "text": [
      "multiplier: 2.0000000000000002e-07\n"
     ]
    }
   ],
   "source": [
    "print(\"multiplier:\",(K*t)/(Sy*scale*scale))"
   ]
  }
 ],
 "metadata": {
  "kernelspec": {
   "display_name": "Python 3",
   "language": "python",
   "name": "python3"
  },
  "language_info": {
   "codemirror_mode": {
    "name": "ipython",
    "version": 3
   },
   "file_extension": ".py",
   "mimetype": "text/x-python",
   "name": "python",
   "nbconvert_exporter": "python",
   "pygments_lexer": "ipython3",
   "version": "3.7.3"
  }
 },
 "nbformat": 4,
 "nbformat_minor": 2
}
