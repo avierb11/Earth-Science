{
 "cells": [
  {
   "cell_type": "markdown",
   "metadata": {},
   "source": [
    "# Groundwater Flow Velocity\n",
    "<p>Determining the velocity of groundwater flow is important for describing solute transport, as advection occurs with the bulk motion groundwater flow. Flow is described using the <b>Darcy velocity</b> and <b>porosity</b>:</p>\n",
    "<h3><center>$ \\bar{u} = \\frac{q}{\\theta}$</center></h3>\n",
    "<p>This equation can be used to solve for the time that a contaminant spill would take to arrive at a well. In order to do so, we must know the path that groundwater would take, and therefore the distance of the path. If we knew, the distance, the time between a spill and chemicals showing up at the well would be:</p>\n",
    "<h3><center>$t = \\frac{d \\theta}{q} $</center></h3>\n",
    "<p>Where $d$ is distance, $\\theta$ is porosity, and $q$ is Darcy velocity.</p>"
   ]
  },
  {
   "cell_type": "code",
   "execution_count": 1,
   "metadata": {},
   "outputs": [],
   "source": [
    "def averageVelocity(q, theta):\n",
    "    '''\n",
    "    Returns the average velocity, for both single values and an array\n",
    "    '''\n",
    "    return q/theta\n",
    "\n",
    "def soluteTransportTime(q, theta, d):\n",
    "    '''\n",
    "    Returns the average solute transport time. \n",
    "    It does not take into account diffusion or dispersion\n",
    "    '''\n",
    "    return (d*theta)/q"
   ]
  },
  {
   "cell_type": "markdown",
   "metadata": {},
   "source": [
    "## Determining flow path\n",
    "<p>To find the flow path, I start at a single position. At this point, I take a step towards the direction of lowest descent. I keep doing this until I reach a point where all points around me are either less than or equal to the current value. Additionally, at each point along the path, I record the position of each subsequent step.</p>"
   ]
  },
  {
   "cell_type": "code",
   "execution_count": 62,
   "metadata": {},
   "outputs": [],
   "source": [
    "import numpy as np\n",
    "import matplotlib.pyplot as plt\n",
    "\n",
    "def flowPath(arr, Pos):\n",
    "    \"\"\"\n",
    "    - This function returns a list of tuples containing positions.\n",
    "    - At each step, each of the four directions is checked for the greatest descent. For each step, there is a\n",
    "        carryover, which takes into account some flow that isn't 3D.\n",
    "    - This function uses some helper functions to make the code a bit less daunting\n",
    "    \"\"\"\n",
    "    flowPath = [(Pos[1],Pos[0])]\n",
    "    #flowPathX = [Pos[1]]\n",
    "    #flowPathY = [Pos[0]]\n",
    "    carryOverX, carryOverY = 0, 0   # Used to model some type of radial flow, but not yet\n",
    "    finalHeight = arr.shape[0] - 1\n",
    "    finalWidth = arr.shape[1] - 1\n",
    "    x = pos[0]\n",
    "    y = pos[1]\n",
    "    atBottom = False  # Used for determining whether the point is at a local minimum\n",
    "    previous = (-1,-1)\n",
    "    currentHead = 10000000\n",
    "    \n",
    "    # Main loop\n",
    "    while not atBottom:\n",
    "        # Check to see if on edge or corner\n",
    "        if isBoundary(arr,pos):\n",
    "            print(\"Found a boundary\")\n",
    "            atBottom = True   # For now, just stop if you hit a boundary\n",
    "            break\n",
    "        \n",
    "        else:\n",
    "            #print(\"Took path 2\")\n",
    "            # Main function of the loop\n",
    "            up = (arr[y - 1, x], 'u', (x, y - 1))   # For numpy arrays, the top row is 0, so row number increses as you move down\n",
    "            down = (arr[y + 1, x], 'd', (x, y + 1))\n",
    "            left = (arr[y, x - 1], 'l', (x - 1, y))\n",
    "            right = (arr[y, x + 1], 'r', (x + 1, y))\n",
    "            \n",
    "            directions = [up, down, left, right]\n",
    "            #print(\"Directions: \",directions)\n",
    "            \n",
    "            # Order the directions from smallest to largest\n",
    "            while not (directions[0][0] <= directions[1][0] <= directions[2][0] <= directions[3][0]):\n",
    "                #print(\"Took path 3\")\n",
    "                for i in range(3):\n",
    "                    if directions[i][0] > directions[i + 1][0]:\n",
    "                        directions[i],directions[i + 1] = directions[i + 1],directions[i]\n",
    "            \n",
    "            # Determine if flow should stop, such as if\n",
    "            if previous == directions[0][1]:\n",
    "                #print(\"Took path 4\")\n",
    "                atBottom = True\n",
    "                break\n",
    "            \n",
    "            # Chose the best way to decrease\n",
    "            elif previous != directions[0][1]:\n",
    "                #print(\"Took path 5\")\n",
    "                if directions[0][2] not in flowPath:\n",
    "                    flowPath.append((directions[0][2]))\n",
    "                    #flowPathX.append(directions[0][2][0])\n",
    "                    #flowPathY.append(directions[0][2][1])\n",
    "                else:\n",
    "                    print(\"Path found\")\n",
    "                    return flowPath\n",
    "                x = directions[0][2][0]\n",
    "                y = directions[0][2][1]\n",
    "                \n",
    "                \n",
    "                \n",
    "    \n",
    "    \n",
    "    return flowPath #, flowPathX, flowPathY\n",
    "\n",
    "#-------------------------------------------------------------\n",
    "# Helper functions:\n",
    "# Just some functions to make things a bit easier to read\n",
    "#-------------------------------------------------------------\n",
    "def isBoundary(arr, pos):\n",
    "    \"\"\"\n",
    "    Checks to see if the given position is along a boundary\n",
    "    \"\"\"\n",
    "    xPos = pos[0]\n",
    "    yPos = pos[1]\n",
    "    finalLength = arr.shape[1] - 1\n",
    "    finalDepth = arr.shape[0] - 1\n",
    "    \n",
    "    if (xPos == 0) or (xPos == finalLength) or (yPos == 0) or (yPos == finalDepth):\n",
    "        return True\n",
    "    else:\n",
    "        return False\n",
    "    \n",
    "def isTopEdge(y):\n",
    "    if y == 0:\n",
    "        return True\n",
    "    else:\n",
    "        return False\n",
    "\n",
    "\n",
    "def isBottomEdge(depth,y):\n",
    "    if y == depth:\n",
    "        return True\n",
    "    else:\n",
    "        return False\n",
    "    \n",
    "\n",
    "def isLeftEdge(x):\n",
    "    if x == 0:\n",
    "        return True\n",
    "    else:\n",
    "        return False\n",
    "    \n",
    "\n",
    "def isRightEdge(width,x):\n",
    "    if x == width:\n",
    "        return True\n",
    "    else:\n",
    "        return False\n",
    "    \n",
    "\n",
    "def isTopLeftCorner(x,y):\n",
    "    if x == 0 and y == 0:\n",
    "        return True\n",
    "    else:\n",
    "        return False\n",
    "\n",
    "\n",
    "def isTopRightCorner(x,y,width):\n",
    "    if x == width and y == 0:\n",
    "        return True\n",
    "    else:\n",
    "        return False\n",
    "\n",
    "\n",
    "def isBottomLeftCorner(x,y,depth):\n",
    "    if x == 0 and y == depth:\n",
    "        return True\n",
    "    else:\n",
    "        return False\n",
    "    \n",
    "\n",
    "def isBottomRightCorner(x,y,width,depth):\n",
    "    if x == width and y == depth:\n",
    "        return True\n",
    "    else:\n",
    "        return False\n",
    "    \n",
    "    "
   ]
  },
  {
   "cell_type": "markdown",
   "metadata": {},
   "source": [
    "## Testing the first model"
   ]
  },
  {
   "cell_type": "code",
   "execution_count": 64,
   "metadata": {},
   "outputs": [
    {
     "name": "stdout",
     "output_type": "stream",
     "text": [
      "Path found\n",
      "path: [(3, 2), (2, 2), (1, 2)]\n",
      "Path: [(3, 2), (2, 2), (1, 2)]\n"
     ]
    },
    {
     "data": {
      "image/png": "[encoded data removed]",
      "text/plain": [
       "<Figure size 432x288 with 1 Axes>"
      ]
     },
     "metadata": {
      "needs_background": "light"
     },
     "output_type": "display_data"
    }
   ],
   "source": [
    "x = np.full((5,5),3)\n",
    "x[2,1] = 0\n",
    "x[2,2] = 1\n",
    "x[2,3] = 2\n",
    "pos = (2,3)\n",
    "\n",
    "path  = flowPath(x,pos)\n",
    "print(\"path:\",path)\n",
    "X = [path[i][0] for i in range(len(path))]\n",
    "Y = [path[i][1] for i in range(len(path))]\n",
    "print(\"Path:\",path)\n",
    "plt.pcolormesh(x)\n",
    "plt.plot(X,Y, color = 'red')\n",
    "plt.show()"
   ]
  },
  {
   "cell_type": "markdown",
   "metadata": {},
   "source": [
    "## More about diffusion and dispersion\n",
    "### Diffusion\n",
    "<p><b>Fick's Law</b> is the equation that describes the diffusion of solute over distance:</p>\n",
    "<h3><center>$ J = -D \\frac{dC}{dx} $</center></h3>\n",
    "<p>Where $J$ is <b>diffusion flux</b>, which is the amount of substance passing through a unit area per unit time, $D$ is diffusivity, with units $\\frac{A}{T}$, and $C$ is concentration. In a more general sense, the equation can be written as:</p>\n",
    "<h3><center>$J = -D \\nabla C$</center></h3>"
   ]
  },
  {
   "cell_type": "markdown",
   "metadata": {},
   "source": [
    "## Solute Transport\n",
    "<p>Solute transport in the ground occurs by three methods: advection, diffusion, and dispersion.</p>\n",
    "-<b>Advection</b> is the process of carrying the solute along with bulk fluid motion.<br>\n",
    "-<b>Diffusion</b> is the process of regions of higher solute concentration flowing to lower ones. It is a <u>microscopic</u> process that is the result of random molecular motion.<br>\n",
    "-<b>Dispersion</b> is similar to diffusion, but it is a <u>macroscopic</u> process. It is the result of <u>non-ideal</u> flow patterns, such as the flow between the grains within soil.\n",
    "\n",
    "<p>These three concepts are incorporated into the <b>Advection-dispersion Reaction (ADR) equation:</b></p>\n",
    "<h3><center>$\\frac{\\partial C}{\\partial t} = D_{x} \\frac{\\partial^{2} C}{\\partial x^{2}} + D_{y} \\frac{\\partial^{2} C}{\\partial y^{2}} + D_{z} \\frac{\\partial^{2} C}{\\partial z^{2}} - \\nu \\frac{\\partial C}{\\partial x} - \\lambda RC$</center></h3>\n",
    "<p>Where $D_{x}$, $D_{y}$, and $D_{z}$ are the hydrodynamic dispersive coefficients in each direction (how quickly solute disperses), $\\nu$ is the advective velocity  in the <b>x</b> direction, $lambda$ is a decay rate, which encompasses biotic and abiotic processes that decrease solute amount, and $R$ is the <u>linear</u> equilibrium retardation factor, which is something else that I don't really know.</p>"
   ]
  },
  {
   "cell_type": "markdown",
   "metadata": {},
   "source": [
    "### Dispersion coefficients\n",
    "<p>Each of the dispersion coefficients is covers both diffusion and dispersion, and can therefore be broken up into its components:</p>\n",
    "<h3><center>$D = D_{m} + \\nu \\alpha$</center></h3>\n",
    "<p>Where $D_{m}$ is the <b>molecular diffusion coefficient</b> and $\\alpha$ is the dispersivity, and is defined in the longitudinal, transverse, and vertical directions.</p>\n",
    "<p>In order to describe these things, though, we need information on the velocity of the flow at each point to describe stuff more</p>"
   ]
  },
  {
   "cell_type": "code",
   "execution_count": null,
   "metadata": {},
   "outputs": [],
   "source": []
  }
 ],
 "metadata": {
  "kernelspec": {
   "display_name": "Python 3",
   "language": "python",
   "name": "python3"
  },
  "language_info": {
   "codemirror_mode": {
    "name": "ipython",
    "version": 3
   },
   "file_extension": ".py",
   "mimetype": "text/x-python",
   "name": "python",
   "nbconvert_exporter": "python",
   "pygments_lexer": "ipython3",
   "version": "3.8.3"
  }
 },
 "nbformat": 4,
 "nbformat_minor": 2
}
