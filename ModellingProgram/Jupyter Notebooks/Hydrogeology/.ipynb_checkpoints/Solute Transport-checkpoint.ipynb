{
 "cells": [
  {
   "cell_type": "markdown",
   "metadata": {},
   "source": [
    "# Solute Transport\n",
    "<p>This is a second attempt at the solute transport notebook. I'm not sure what happened to the first one, but I guess it's not really working anymore. I didn't really get too far into it so that's ok.</p>\n"
   ]
  },
  {
   "cell_type": "markdown",
   "metadata": {},
   "source": [
    "<p>In this notebook, I hope to outline a method to model solute transport, including advection, diffusion, and dispersion. Solute/contaminant transport in an aquifer occurs by the combination of those three methods.</p>\n",
    "<p><b>Advection</b> is the process by which solute is carried along by the bulk motion of the fluid</p>\n",
    "<p><b>Diffusion</b> is the <u>microscopic</u> random motion of solute particles in the water.</p>\n",
    "<p><b>Dispersion</b> is the <u>macroscopic</u> process by which solute spreads out due to nonideal flow conditions. Solute can disperse longitudinall, transversely, and vertically.</p>"
   ]
  },
  {
   "cell_type": "markdown",
   "metadata": {},
   "source": [
    "## A solute transport model\n",
    "<p>I'll try to keep the model as simple as I can. To model tracer transport first with advection, I just need a second queue to monitor the concentration and amount of tracer in each element, which will then be carried by the motion of the water. For now, a 1D model will do.</p>"
   ]
  },
  {
   "cell_type": "code",
   "execution_count": null,
   "metadata": {},
   "outputs": [],
   "source": []
  }
 ],
 "metadata": {
  "kernelspec": {
   "display_name": "Python 3",
   "language": "python",
   "name": "python3"
  },
  "language_info": {
   "codemirror_mode": {
    "name": "ipython",
    "version": 3
   },
   "file_extension": ".py",
   "mimetype": "text/x-python",
   "name": "python",
   "nbconvert_exporter": "python",
   "pygments_lexer": "ipython3",
   "version": "3.8.3"
  }
 },
 "nbformat": 4,
 "nbformat_minor": 4
}
