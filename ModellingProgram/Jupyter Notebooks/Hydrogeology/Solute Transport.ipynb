{
 "cells": [
  {
   "cell_type": "markdown",
   "metadata": {},
   "source": [
    "# Solute Transport\n",
    "<p>This is a second attempt at the solute transport notebook. I'm not sure what happened to the first one, but I guess it's not really working anymore. I didn't really get too far into it so that's ok.</p>\n"
   ]
  },
  {
   "cell_type": "markdown",
   "metadata": {},
   "source": [
    "<p>In this notebook, I hope to outline a method to model solute transport, including advection, diffusion, and dispersion. Solute/contaminant transport in an aquifer occurs by the combination of those three methods.</p>\n",
    "<p><b>Advection</b> is the process by which solute is carried along by the bulk motion of the fluid</p>\n",
    "<p><b>Diffusion</b> is the <u>microscopic</u> random motion of solute particles in the water.</p>\n",
    "<p><b>Dispersion</b> is the <u>macroscopic</u> process by which solute spreads out due to nonideal flow conditions. Solute can disperse longitudinall, transversely, and vertically.</p>\n",
    "<p>The general equation that we use for solute transport modelling is the <b>Advection-Dispersion Relation (ADR) Equation:</b></p>\n",
    "<h3><center>$\\frac{\\partial C}{\\partial t} = D_{x} \\frac{\\partial^{2} C}{\\partial x^{2}} + D_{y} \\frac{\\partial^{2} C}{\\partial y^{2}} + D_{z} \\frac{\\partial^{2} C}{\\partial z^{2}} - v \\frac{\\partial C}{\\partial x} - \\lambda RC$</center></h3>"
   ]
  },
  {
   "cell_type": "markdown",
   "metadata": {},
   "source": [
    "## A solute transport model\n",
    "<p>I'll try to keep the model as simple as I can. To model tracer transport first with advection, I just need a second queue to monitor the concentration and amount of tracer in each element, which will then be carried by the motion of the water. For now, a 1D model will do.</p>\n",
    "<p>In this first function, the term we are concerned with is $v \\frac{\\partial C}{\\partial x}$, which is the advective term, where $v$ is groundwater velocity and $C$ is solute concentration.</p>\n",
    "<p>This equation shouldn't be too hard to work with. $\\frac{\\partial C}{\\partial x}$ is just equal to the difference in the concentration of two adjacent cells. The velocity $v$ can be determined just using the Darcy velocity and the porosity</p>\n",
    "<p>It would probably be a good idea to use the queue as an intermediate in order to determine average velocity: $\\bar{u} = \\frac{q}{\\theta}$</p>"
   ]
  },
  {
   "cell_type": "code",
   "execution_count": 2,
   "metadata": {},
   "outputs": [
    {
     "data": {
      "image/png": "[encoded data removed]",
      "text/plain": [
       "<Figure size 432x288 with 1 Axes>"
      ]
     },
     "metadata": {
      "needs_background": "light"
     },
     "output_type": "display_data"
    }
   ],
   "source": [
    "%matplotlib inline\n",
    "\n",
    "import matplotlib.pyplot as plt\n",
    "import numpy as np\n",
    "\n",
    "def steadyStateUpdate(heads,queue,conductivity):\n",
    "    queue[:-1] += (heads[1:] - heads[:-1])*conductivity\n",
    "    queue[1:] += (heads[:-1] - heads[1:])*conductivity\n",
    "    \n",
    "    heads += queue\n",
    "    \n",
    "    return heads\n",
    "\n",
    "def steadyStateHeads(heads,queue,conductivity):\n",
    "    queue = np.zeros(queue.size)\n",
    "    queue[:-1] += (heads[1:] - heads[:-1])*conductivity\n",
    "    queue[1:] += (heads[:-1] - heads[1:])*conductivity\n",
    "    \n",
    "    return queue\n",
    "    \n",
    "length = 51\n",
    "    \n",
    "heads = np.full(length,5.0)\n",
    "heads[0] = 10\n",
    "heads[-1] = 5\n",
    "queue = np.zeros(length)\n",
    "\n",
    "for i in range(10000):\n",
    "    queue = np.zeros(length)\n",
    "    heads = steadyStateUpdate(heads,queue,.1)\n",
    "    heads[0] = 10\n",
    "    heads[-1] = 5\n",
    "    '''\n",
    "    if heads[50] <= 0:\n",
    "        heads[50] = 0\n",
    "    else:\n",
    "        heads[50] -= .3\n",
    "    '''\n",
    "plt.plot(heads)\n",
    "plt.show()"
   ]
  },
  {
   "cell_type": "markdown",
   "metadata": {},
   "source": [
    "### Some Analysis\n",
    "<p>From this example, with some constant boundary conditions, the hydraulic head will evolve to be linear. This makes the equation for $\\frac{\\partial C}{\\partial x}$ pretty easy to determine because it's a constant. It will be the slope of the equation.</p>\n",
    "<p>However, this model makes a pretty difficult assumption. It assumes that the area that the discharge passes through is equal to 1. For this condition to be true, the aquifer must be confined and have a constant height throughout, so that the head differences are due to pressure differences along the aquifer. This isn't impossible, it just means that this model cannot be used for unconfined aquifers. As for some values, it assumes that the flow area is 1, as I have not put any dimensions in the function. That will suffice for now.</p>\n",
    "<p>Actually, the assumption that the aquifer is confined and that the flow area is constant makes things a bit easier: Darcy velocity is equal to discharge divided by flow area, but our function is already equal to the normalized value. So, I don't have to change any values. At steady state, all of the queue values should be zero, as the water flowing into and out of each cell is equal. Therefore, the velocity of the water into and out of each cell should be equal. The velocity of the water can be determined by:</p>\n",
    "<h3><center>$v = \\frac{q}{\\theta}$</center></h3>\n",
    "<p>For my dataset, I'll just take the average value of $q$ to use for this, which should be constant among each element. I'll use a $\\theta$ value of .25.</p>"
   ]
  },
  {
   "cell_type": "code",
   "execution_count": 15,
   "metadata": {},
   "outputs": [
    {
     "name": "stdout",
     "output_type": "stream",
     "text": [
      "The average velocity of the water through each element is 0.0063004\n"
     ]
    }
   ],
   "source": [
    "porosity = .25\n",
    "averageQ = np.average(queue[1:-1])  # Excluding the first and last values\n",
    "avgVelocity = averageQ/porosity\n",
    "avgVelocity *= 100\n",
    "\n",
    "print(\"The average velocity of the water through each element is {}\".format(round(avgVelocity,7)))"
   ]
  },
  {
   "cell_type": "markdown",
   "metadata": {},
   "source": [
    "<p>Since I assume that the length of each element is 1, $\\partial x$ will always be equal to 1. This simplifies the equation even further:</p>\n",
    "<h3><center>$\\frac{\\partial C}{\\partial t} = v \\frac{\\partial C}{\\partial x} = v \\Delta C = v(C_{i + 1} - C_{i})$</center></h3>\n",
    "<p>Where $C$ is the concentration of solute in an individual element.</p>\n",
    "<p>This equation can be simplified more somehow.</p>"
   ]
  },
  {
   "cell_type": "code",
   "execution_count": 24,
   "metadata": {},
   "outputs": [
    {
     "name": "stdout",
     "output_type": "stream",
     "text": [
      "[0.71013711 0.70452548 0.69343708 0.67713641 0.65600756 0.63053976\n",
      " 0.6013095  0.56896002 0.53417944 0.49767849 0.46016909 0.42234464\n",
      " 0.38486295 0.34833236 0.31330143 0.28025247 0.24959864 0.22168448\n",
      " 0.1967893  0.17513285 0.15688247 0.14216114 0.13105547 0.12362309\n",
      " 0.11989878]\n"
     ]
    },
    {
     "data": {
      "image/png": "[encoded data removed]",
      "text/plain": [
       "<Figure size 432x288 with 1 Axes>"
      ]
     },
     "metadata": {
      "needs_background": "light"
     },
     "output_type": "display_data"
    }
   ],
   "source": [
    "%matplotlib inline\n",
    "\n",
    "def soluteTransport(concentrations, velocity, timeStep = 1):\n",
    "    queue = np.zeros(concentrations.size)\n",
    "    queue[:-1] += (concentrations[1:] - concentrations[:-1])*timeStep*velocity\n",
    "    queue[1: ] += (concentrations[:-1] - concentrations[1:])*timeStep*velocity\n",
    "    \n",
    "    concentrations += queue\n",
    "    del queue\n",
    "    return concentrations\n",
    "\n",
    "concentrations = np.zeros(25)\n",
    "concentrations[0] = 10\n",
    "\n",
    "for i in range(10000):\n",
    "    concentrations = soluteTransport(concentrations, avgVelocity)\n",
    "    \n",
    "print(concentrations)\n",
    "plt.plot(concentrations)\n",
    "plt.ylim(0,10)\n",
    "plt.xlim(0,25)\n",
    "plt.show()"
   ]
  },
  {
   "cell_type": "markdown",
   "metadata": {},
   "source": [
    "### Model Analysis\n",
    "<p>This model works somewhat as intended. It models the flow from high concentration to low concentration, but doesn't take into account that the bulk fluid motion. For example, the bulk fluid is flowing from left to right, but the maximum concentration remains in the left edge.</p>\n",
    "\n",
    "#### Some solutions maybe\n",
    "<p>I may be looking at this incorrectly though. The advection may describe the movement of the peak rather than the dispersion of the solute contained within. I think, therefore, it may make sense for each time step to include the peak shifting over 1 element, or however many would make sense according to the model. I believe the diffusion and dispersion parts of the ADR equation may be more suited towards  modelling the flattening of the curve.</p>"
   ]
  },
  {
   "cell_type": "code",
   "execution_count": 32,
   "metadata": {},
   "outputs": [
    {
     "name": "stdout",
     "output_type": "stream",
     "text": [
      "[0. 0. 0. 0. 0. 0. 0. 0. 0. 0. 0. 0. 0. 0. 0. 0. 0. 0. 0. 0. 0. 0. 0. 1.\n",
      " 0.]\n"
     ]
    },
    {
     "data": {
      "image/png": "[encoded data removed]",
      "text/plain": [
       "<Figure size 432x288 with 1 Axes>"
      ]
     },
     "metadata": {
      "needs_background": "light"
     },
     "output_type": "display_data"
    }
   ],
   "source": [
    "%matplotlib inline\n",
    "\n",
    "def soluteTransportV2(concentrations):\n",
    "    queue = np.copy(concentrations[:-1])\n",
    "    concentrations[:-1] = 0\n",
    "    concentrations[1:] += queue\n",
    "    del queue\n",
    "    \n",
    "    return concentrations\n",
    "\n",
    "concentrations = np.zeros(25)\n",
    "concentrations[0] = 1\n",
    "for i in range(23):\n",
    "    concentrations = soluteTransportV2(concentrations)\n",
    "    \n",
    "print(concentrations)\n",
    "    \n",
    "plt.plot(concentrations)\n",
    "plt.xlim(0,25)\n",
    "plt.ylim(0,1)\n",
    "plt.show()"
   ]
  },
  {
   "cell_type": "markdown",
   "metadata": {},
   "source": [
    "### Model Analysis\n",
    "<p>Now this model <u>does</u> model the translational motion of the concentration peak. At the moment, I have not included actual time steps. There's no way to incorporate the average velocity of the groundwater, but that could soon. Maybe I should create a class for each of these so that all of the values would be incorporated together instead of separate within the script.</p>\n",
    "<p>I'll try creating a simple flow model class.</p>"
   ]
  },
  {
   "cell_type": "code",
   "execution_count": null,
   "metadata": {},
   "outputs": [],
   "source": []
  }
 ],
 "metadata": {
  "kernelspec": {
   "display_name": "Python 3",
   "language": "python",
   "name": "python3"
  },
  "language_info": {
   "codemirror_mode": {
    "name": "ipython",
    "version": 3
   },
   "file_extension": ".py",
   "mimetype": "text/x-python",
   "name": "python",
   "nbconvert_exporter": "python",
   "pygments_lexer": "ipython3",
   "version": "3.7.3"
  }
 },
 "nbformat": 4,
 "nbformat_minor": 4
}
