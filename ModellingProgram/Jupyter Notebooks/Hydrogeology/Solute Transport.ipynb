{
 "cells": [
  {
   "cell_type": "markdown",
   "metadata": {},
   "source": [
    "# Solute Transport\n",
    "<p>This is a second attempt at the solute transport notebook. I'm not sure what happened to the first one, but I guess it's not really working anymore. I didn't really get too far into it so that's ok.</p>\n"
   ]
  },
  {
   "cell_type": "markdown",
   "metadata": {},
   "source": [
    "<p>In this notebook, I hope to outline a method to model solute transport, including advection, diffusion, and dispersion. Solute/contaminant transport in an aquifer occurs by the combination of those three methods.</p>\n",
    "<p><b>Advection</b> is the process by which solute is carried along by the bulk motion of the fluid</p>\n",
    "<p><b>Diffusion</b> is the <u>microscopic</u> random motion of solute particles in the water.</p>\n",
    "<p><b>Dispersion</b> is the <u>macroscopic</u> process by which solute spreads out due to nonideal flow conditions. Solute can disperse longitudinall, transversely, and vertically.</p>\n",
    "<p>The general equation that we use for solute transport modelling is the <b>Advection-Dispersion Relation (ADR) Equation:</b></p>\n",
    "<h3><center>$\\frac{\\partial C}{\\partial t} = D_{x} \\frac{\\partial^{2} C}{\\partial x^{2}} + D_{y} \\frac{\\partial^{2} C}{\\partial y^{2}} + D_{z} \\frac{\\partial^{2} C}{\\partial z^{2}} - v \\frac{\\partial C}{\\partial x} - \\lambda RC$</center></h3>"
   ]
  },
  {
   "cell_type": "markdown",
   "metadata": {},
   "source": [
    "## A solute transport model\n",
    "<p>I'll try to keep the model as simple as I can. To model tracer transport first with advection, I just need a second queue to monitor the concentration and amount of tracer in each element, which will then be carried by the motion of the water. For now, a 1D model will do.</p>\n",
    "<p>In this first function, the term we are concerned with is $v \\frac{\\partial C}{\\partial x}$, which is the advective term, where $v$ is groundwater velocity and $C$ is solute concentration.</p>\n",
    "<p>This equation shouldn't be too hard to work with. $\\frac{\\partial C}{\\partial x}$ is just equal to the difference in the concentration of two adjacent cells. The velocity $v$ can be determined just using the Darcy velocity and the porosity</p>\n",
    "<p>It would probably be a good idea to use the queue as an intermediate in order to determine average velocity: $\\bar{u} = \\frac{q}{\\theta}$</p>"
   ]
  },
  {
   "cell_type": "code",
   "execution_count": 2,
   "metadata": {},
   "outputs": [
    {
     "data": {
      "image/png": "[encoded data removed]",
      "text/plain": [
       "<Figure size 432x288 with 1 Axes>"
      ]
     },
     "metadata": {
      "needs_background": "light"
     },
     "output_type": "display_data"
    }
   ],
   "source": [
    "%matplotlib inline\n",
    "\n",
    "import matplotlib.pyplot as plt\n",
    "import numpy as np\n",
    "\n",
    "def steadyStateUpdate(heads,queue,conductivity):\n",
    "    queue[:-1] += (heads[1:] - heads[:-1])*conductivity\n",
    "    queue[1:] += (heads[:-1] - heads[1:])*conductivity\n",
    "    \n",
    "    heads += queue\n",
    "    \n",
    "    return heads\n",
    "\n",
    "def steadyStateHeads(heads,queue,conductivity):\n",
    "    queue = np.zeros(queue.size)\n",
    "    queue[:-1] += (heads[1:] - heads[:-1])*conductivity\n",
    "    queue[1:] += (heads[:-1] - heads[1:])*conductivity\n",
    "    \n",
    "    return queue\n",
    "    \n",
    "length = 51\n",
    "    \n",
    "heads = np.full(length,5.0)\n",
    "heads[0] = 10\n",
    "heads[-1] = 5\n",
    "queue = np.zeros(length)\n",
    "\n",
    "for i in range(10000):\n",
    "    queue = np.zeros(length)\n",
    "    heads = steadyStateUpdate(heads,queue,.1)\n",
    "    heads[0] = 10\n",
    "    heads[-1] = 5\n",
    "    '''\n",
    "    if heads[50] <= 0:\n",
    "        heads[50] = 0\n",
    "    else:\n",
    "        heads[50] -= .3\n",
    "    '''\n",
    "plt.plot(heads)\n",
    "plt.show()"
   ]
  },
  {
   "cell_type": "markdown",
   "metadata": {},
   "source": [
    "### Some Analysis\n",
    "<p>From this example, with some constant boundary conditions, the hydraulic head will evolve to be linear. This makes the equation for $\\frac{\\partial C}{\\partial x}$ pretty easy to determine because it's a constant. It will be the slope of the equation.</p>\n",
    "<p>However, this model makes a pretty difficult assumption. It assumes that the area that the discharge passes through is equal to 1. For this condition to be true, the aquifer must be confined and have a constant height throughout, so that the head differences are due to pressure differences along the aquifer. This isn't impossible, it just means that this model cannot be used for unconfined aquifers. As for some values, it assumes that the flow area is 1, as I have not put any dimensions in the function. That will suffice for now.</p>\n",
    "<p>Actually, the assumption that the aquifer is confined and that the flow area is constant makes things a bit easier: Darcy velocity is equal to discharge divided by flow area, but our function is already equal to the normalized value. So, I don't have to change any values. At steady state, all of the queue values should be zero, as the water flowing into and out of each cell is equal. Therefore, the velocity of the water into and out of each cell should be equal. The velocity of the water can be determined by:</p>\n",
    "<h3><center>$v = \\frac{q}{\\theta}$</center></h3>\n",
    "<p>For my dataset, I'll just take the average value of $q$ to use for this, which should be constant among each element. I'll use a $\\theta$ value of .25.</p>"
   ]
  },
  {
   "cell_type": "code",
   "execution_count": 15,
   "metadata": {},
   "outputs": [
    {
     "name": "stdout",
     "output_type": "stream",
     "text": [
      "The average velocity of the water through each element is 0.0063004\n"
     ]
    }
   ],
   "source": [
    "porosity = .25\n",
    "averageQ = np.average(queue[1:-1])  # Excluding the first and last values\n",
    "avgVelocity = averageQ/porosity\n",
    "avgVelocity *= 100\n",
    "\n",
    "print(\"The average velocity of the water through each element is {}\".format(round(avgVelocity,7)))"
   ]
  },
  {
   "cell_type": "markdown",
   "metadata": {},
   "source": [
    "<p>I will start with advection because it is the simplest. For advection, I really just need to keep track of the velocity. A solute plume will stay mostly as a cohesive group under ONLY the influence of advection. To determine this, I need the average velocity over the array. For now, I'll use the steady state model where the groundwater velocity is constant throughout the model and just use a single value of velocity.</p>\n",
    "<h3><center>$ \\bar{u} = \\frac{q}{\\theta} = \\frac{K}{\\theta} \\frac{dh}{dx}$</center></h3>\n",
    "\n",
    "<h3>How the advection function will work</h3>\n",
    "<p>Basically, I need to track how far a single point would move in the system in a single timeDelta step. Using that, I determine how much solute flows out of a single element at one time step and how much would flow in by using the ratio of distance travelled to element scale.</p>"
   ]
  },
  {
   "cell_type": "code",
   "execution_count": 122,
   "metadata": {},
   "outputs": [],
   "source": [
    "import numpy as np\n",
    "import matplotlib.pyplot as plt\n",
    "\n",
    "def averageVelocity(heads, conductivity, porosity, scale):\n",
    "    q = (conductivity/scale) * (heads[:-1] - heads[1: ])\n",
    "    avgVelocity = abs(np.sum(q))/porosity\n",
    "    return avgVelocity\n",
    "\n",
    "    \n",
    "def advection(concentrations, avgVelocity, timeDelta, scale, carryOver):\n",
    "    distanceTravelled = avgVelocity * timeDelta\n",
    "    adjusted = distanceTravelled/scale\n",
    "    carryOver += adjusted\n",
    "    if carryOver >= 1:\n",
    "        change = int(carryOver // 1)\n",
    "        #print(\"Change: {}\".format(change))\n",
    "        concChanges = np.round(np.copy(concentrations[:-change]),3)\n",
    "        #print(\"concChanges: {}\".format(concChanges))\n",
    "        concentrations[:-change] -= concChanges\n",
    "        concentrations[change:] += concChanges\n",
    "        carryOver -= change\n",
    "        del concChanges\n",
    "    return carryOver\n"
   ]
  },
  {
   "cell_type": "code",
   "execution_count": 94,
   "metadata": {},
   "outputs": [],
   "source": [
    "scale = 1\n",
    "heads = np.linspace(1,0,11)\n",
    "concentrations = np.zeros(11)\n",
    "concentrations[0] = 1\n",
    "conductivity = .1\n",
    "porosity = .25\n",
    "avgVelocity = averageVelocity(heads, conductivity, porosity, scale)\n",
    "timeDelta = 1\n",
    "carryOver = 0\n"
   ]
  },
  {
   "cell_type": "code",
   "execution_count": 95,
   "metadata": {},
   "outputs": [
    {
     "name": "stdout",
     "output_type": "stream",
     "text": [
      "Total concentration in system: 1.0\n"
     ]
    }
   ],
   "source": [
    "avgVelocity = .5\n",
    "\n",
    "for i in range(10):\n",
    "    carryOver = advection(concentrations, avgVelocity, timeDelta, scale, carryOver)\n",
    "\n",
    "print(\"Total concentration in system: {}\".format(np.sum(concentrations)))"
   ]
  },
  {
   "cell_type": "markdown",
   "metadata": {},
   "source": [
    "### Plotting"
   ]
  },
  {
   "cell_type": "code",
   "execution_count": 96,
   "metadata": {},
   "outputs": [
    {
     "data": {
      "image/png": "[encoded data removed]",
      "text/plain": [
       "<Figure size 432x288 with 1 Axes>"
      ]
     },
     "metadata": {
      "needs_background": "light"
     },
     "output_type": "display_data"
    }
   ],
   "source": [
    "plt.plot(concentrations)\n",
    "plt.title(\"Concentrations\")\n",
    "plt.ylim(0,1)\n",
    "plt.show()"
   ]
  },
  {
   "cell_type": "markdown",
   "metadata": {},
   "source": [
    "## Analysis\n",
    "<p>The advection function works just fine. The only issue is that it requires a carryOver variable. Additionally, the average velocity must be the same at every point. I haven't figured out yet how to use a differential velocity over the model. It does conserve the total solute in the system, though.</p>\n",
    "<p>Now, I need a function for diffusion. This isn't too hard, I don't think. I think I can just use a fraction for how much solute wanders out of an element.</p>"
   ]
  },
  {
   "cell_type": "code",
   "execution_count": 128,
   "metadata": {},
   "outputs": [],
   "source": [
    "def diffusion(concentrations, diffusivity, timeDelta):\n",
    "    adjusted = np.round(np.copy(concentrations*diffusivity*timeDelta),3)\n",
    "    concentrations[1:-1] -= 2*adjusted[1:-1]\n",
    "    concentrations[0] -= adjusted[0]\n",
    "    concentrations[-1] -= adjusted[-1]\n",
    "    concentrations[1: ] += adjusted[:-1]\n",
    "    concentrations[:-1] += adjusted[1: ]\n",
    "    del adjusted\n"
   ]
  },
  {
   "cell_type": "code",
   "execution_count": 124,
   "metadata": {},
   "outputs": [],
   "source": [
    "diffusivity = .05\n",
    "diffusion(concentrations, diffusivity, timeDelta)"
   ]
  },
  {
   "cell_type": "code",
   "execution_count": 129,
   "metadata": {},
   "outputs": [
    {
     "name": "stdout",
     "output_type": "stream",
     "text": [
      "Sum of concentrations: 0.903\n"
     ]
    },
    {
     "data": {
      "image/png": "[encoded data removed]",
      "text/plain": [
       "<Figure size 432x288 with 1 Axes>"
      ]
     },
     "metadata": {
      "needs_background": "light"
     },
     "output_type": "display_data"
    }
   ],
   "source": [
    "print('Sum of concentrations: {}'.format(np.sum(concentrations)))\n",
    "plt.plot(concentrations)\n",
    "plt.title(\"Now with diffusion\")\n",
    "plt.ylim(0,1)\n",
    "plt.show()"
   ]
  },
  {
   "cell_type": "markdown",
   "metadata": {},
   "source": [
    "## Now, a test together"
   ]
  },
  {
   "cell_type": "code",
   "execution_count": 131,
   "metadata": {},
   "outputs": [
    {
     "name": "stdout",
     "output_type": "stream",
     "text": [
      "Total solute in system: 0.999999999999996\n"
     ]
    }
   ],
   "source": [
    "concentrations = np.zeros(11)\n",
    "concentrations[0] = 1\n",
    "carryOver = 0\n",
    "\n",
    "for i in range(105):\n",
    "    diffusion(concentrations, diffusivity, timeDelta)\n",
    "    carryOver = advection(concentrations, avgVelocity, timeDelta, scale, carryOver)\n",
    "    \n",
    "print(\"Total solute in system:\",np.sum(concentrations))"
   ]
  },
  {
   "cell_type": "code",
   "execution_count": 132,
   "metadata": {},
   "outputs": [
    {
     "data": {
      "image/png": "[encoded data removed]",
      "text/plain": [
       "<Figure size 432x288 with 1 Axes>"
      ]
     },
     "metadata": {
      "needs_background": "light"
     },
     "output_type": "display_data"
    }
   ],
   "source": [
    "plt.plot(concentrations)\n",
    "plt.ylim(0,1)\n",
    "plt.show()"
   ]
  },
  {
   "cell_type": "markdown",
   "metadata": {},
   "source": [
    "## Model Analysis\n",
    "<p>Originally, there was a problem with some of the solute getting lost at the edges, but I figured that out now. I was double counting the edges, so any in the edge was being removed twice, and therefore not being conserved. It totally works and conserves everything now.</p>  "
   ]
  }
 ],
 "metadata": {
  "kernelspec": {
   "display_name": "Python 3",
   "language": "python",
   "name": "python3"
  },
  "language_info": {
   "codemirror_mode": {
    "name": "ipython",
    "version": 3
   },
   "file_extension": ".py",
   "mimetype": "text/x-python",
   "name": "python",
   "nbconvert_exporter": "python",
   "pygments_lexer": "ipython3",
   "version": "3.7.3"
  }
 },
 "nbformat": 4,
 "nbformat_minor": 4
}
