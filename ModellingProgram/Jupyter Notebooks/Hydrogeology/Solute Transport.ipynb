{
 "cells": [
  {
   "cell_type": "markdown",
   "metadata": {},
   "source": [
    "# Solute Transport\n",
    "<p>This is a second attempt at the solute transport notebook. I'm not sure what happened to the first one, but I guess it's not really working anymore. I didn't really get too far into it so that's ok.</p>\n"
   ]
  },
  {
   "cell_type": "markdown",
   "metadata": {},
   "source": [
    "<p>In this notebook, I hope to outline a method to model solute transport, including advection, diffusion, and dispersion. Solute/contaminant transport in an aquifer occurs by the combination of those three methods.</p>\n",
    "<p><b>Advection</b> is the process by which solute is carried along by the bulk motion of the fluid</p>\n",
    "<p><b>Diffusion</b> is the <u>microscopic</u> random motion of solute particles in the water.</p>\n",
    "<p><b>Dispersion</b> is the <u>macroscopic</u> process by which solute spreads out due to nonideal flow conditions. Solute can disperse longitudinall, transversely, and vertically.</p>\n",
    "<p>The general equation that we use for solute transport modelling is the <b>Advection-Dispersion Relation (ADR) Equation:</b></p>\n",
    "<h3><center>$\\frac{\\partial C}{\\partial t} = D_{x} \\frac{\\partial^{2} C}{\\partial x^{2}} + D_{y} \\frac{\\partial^{2} C}{\\partial y^{2}} + D_{z} \\frac{\\partial^{2} C}{\\partial z^{2}} - v \\frac{\\partial C}{\\partial x} - \\lambda RC$</center></h3>"
   ]
  },
  {
   "cell_type": "markdown",
   "metadata": {},
   "source": [
    "## A solute transport model\n",
    "<p>I'll try to keep the model as simple as I can. To model tracer transport first with advection, I just need a second queue to monitor the concentration and amount of tracer in each element, which will then be carried by the motion of the water. For now, a 1D model will do.</p>\n",
    "<p>In this first function, the term we are concerned with is $v \\frac{\\partial C}{\\partial x}$, which is the advective term, where $v$ is groundwater velocity and $C$ is solute concentration.</p>\n",
    "<p>This equation shouldn't be too hard to work with. $\\frac{\\partial C}{\\partial x}$ is just equal to the difference in the concentration of two adjacent cells. The velocity $v$ can be determined just using the Darcy velocity and the porosity</p>\n",
    "<p>It would probably be a good idea to use the queue as an intermediate in order to determine average velocity: $\\bar{u} = \\frac{q}{\\theta}$</p>"
   ]
  },
  {
   "cell_type": "code",
   "execution_count": 55,
   "metadata": {},
   "outputs": [
    {
     "data": {
      "image/png": "[encoded data removed]",
      "text/plain": [
       "<Figure size 432x288 with 1 Axes>"
      ]
     },
     "metadata": {
      "needs_background": "light"
     },
     "output_type": "display_data"
    }
   ],
   "source": [
    "import matplotlib.pyplot as plt\n",
    "import numpy as np\n",
    "\n",
    "def steadyStateQueue(heads,queue,conductivity):\n",
    "    queue[:-1] += (heads[1:] - heads[:-1])*conductivity\n",
    "    queue[1:] += (heads[:-1] - heads[1:])*conductivity\n",
    "    \n",
    "    heads += queue\n",
    "    \n",
    "    return heads\n",
    "    \n",
    "length = 51\n",
    "    \n",
    "heads = np.full(length,5.0)\n",
    "heads[0] = 10\n",
    "heads[-1] = 5\n",
    "queue = np.zeros(length)\n",
    "\n",
    "for i in range(10000):\n",
    "    queue = np.zeros(length)\n",
    "    heads = steadyStateQueue(heads,queue,.1)\n",
    "    heads[0] = 10\n",
    "    heads[-1] = 5\n",
    "    '''\n",
    "    if heads[50] <= 0:\n",
    "        heads[50] = 0\n",
    "    else:\n",
    "        heads[50] -= .3\n",
    "    '''\n",
    "plt.plot(heads)\n",
    "plt.show()"
   ]
  },
  {
   "cell_type": "markdown",
   "metadata": {},
   "source": [
    "### Some Analysis\n",
    "<p>From this example, with some constant boundary conditions, the hydraulic head will evolve to be linear. This makes the equation for $\\frac{\\partial C}{\\partial x}$ pretty easy to determine because it's a constant. It will be the slope of the equation.</p>"
   ]
  }
 ],
 "metadata": {
  "kernelspec": {
   "display_name": "Python 3",
   "language": "python",
   "name": "python3"
  },
  "language_info": {
   "codemirror_mode": {
    "name": "ipython",
    "version": 3
   },
   "file_extension": ".py",
   "mimetype": "text/x-python",
   "name": "python",
   "nbconvert_exporter": "python",
   "pygments_lexer": "ipython3",
   "version": "3.8.3"
  }
 },
 "nbformat": 4,
 "nbformat_minor": 4
}
