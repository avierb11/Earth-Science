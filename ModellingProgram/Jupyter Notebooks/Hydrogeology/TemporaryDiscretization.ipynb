{
 "cells": [
  {
   "cell_type": "markdown",
   "metadata": {},
   "source": [
    "# Temporary Discretization\n",
    "<p>This notebook will explore the use of temporarily discretizing an array to simulate a higher resolution of flow. If it works, this method would save a lot of memory.</p>"
   ]
  },
  {
   "cell_type": "markdown",
   "metadata": {},
   "source": [
    "## Taylor Series\n",
    "<p>The crux of this method hinges on describing the shape of the heads between 2 values as a Taylor Series. For now, it will be a 1D series, but it could easily be expanded to have more terms and become nonlinear.</p>\n",
    "<p>Linear regression formula:</p>\n",
    "<h3><center>$A = \\frac{X^{T}y}{(X^{T}X)^{-1}}$</center></h3>\n",
    "<p>Where $A$ is a vector of multipliers. For the linear example, it will contain m and b from y = mx + b</p>"
   ]
  },
  {
   "cell_type": "code",
   "execution_count": 1,
   "metadata": {},
   "outputs": [],
   "source": [
    "import numpy as np\n",
    "import matplotlib.pyplot as plt\n",
    "\n",
    "def linearize(xs,ys):\n",
    "    '''\n",
    "    Returns an array with 2 elements: m and b.\n",
    "    '''\n",
    "    X = np.array([array,np.ones(xs.size)])\n",
    "    return np.linalg.inv((X.T@X))@X.T@ys"
   ]
  },
  {
   "cell_type": "code",
   "execution_count": 3,
   "metadata": {},
   "outputs": [
    {
     "data": {
      "image/png": "[encoded data removed]",
      "text/plain": [
       "<Figure size 432x288 with 1 Axes>"
      ]
     },
     "metadata": {
      "needs_background": "light"
     },
     "output_type": "display_data"
    }
   ],
   "source": [
    "%matplotlib inline\n",
    "x = np.linspace(0,10,100)\n",
    "y = x**2\n",
    "plt.plot(x,y)\n",
    "plt.show()"
   ]
  }
 ],
 "metadata": {
  "kernelspec": {
   "display_name": "Python 3",
   "language": "python",
   "name": "python3"
  },
  "language_info": {
   "codemirror_mode": {
    "name": "ipython",
    "version": 3
   },
   "file_extension": ".py",
   "mimetype": "text/x-python",
   "name": "python",
   "nbconvert_exporter": "python",
   "pygments_lexer": "ipython3",
   "version": "3.8.3"
  }
 },
 "nbformat": 4,
 "nbformat_minor": 4
}
