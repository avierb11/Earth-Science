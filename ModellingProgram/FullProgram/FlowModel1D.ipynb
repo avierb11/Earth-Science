{
 "cells": [
  {
   "cell_type": "markdown",
   "metadata": {},
   "source": [
    "# Flow Model\n",
    "<p>This notebook is the barebones solution to modelling a 1D groundwater model.</p>\n",
    "<p>The workflow for this project is:</p>\n",
    "1. Import modules <br>\n",
    "2. Define variables <br>\n",
    "3. Specify data to be collected <br>\n",
    "4. Run the model <br>\n",
    "5. Data analysis <br>\n",
    "6. Make graphs <br>\n",
    "7. Save/get rid of data<br>"
   ]
  },
  {
   "cell_type": "markdown",
   "metadata": {},
   "source": [
    "## 1. Importing Modules\n",
    "<p>The first thing that must be done is importing the necessary modules.</p>"
   ]
  },
  {
   "cell_type": "code",
   "execution_count": 1,
   "metadata": {},
   "outputs": [],
   "source": [
    "import numpy as np\n",
    "import pandas as pd\n",
    "import matplotlib.pyplot as plt\n",
    "from FlowFunctions import *\n",
    "scale = .1"
   ]
  },
  {
   "cell_type": "markdown",
   "metadata": {},
   "source": [
    "## Define variables"
   ]
  },
  {
   "cell_type": "markdown",
   "metadata": {},
   "source": [
    "### Model Length\n",
    "<p>For this one dimensional model, there is only a single dimension. Input the length of the model, in meters.</p>\n",
    "<p>The default length of the model is 1000m (1km)</p>"
   ]
  },
  {
   "cell_type": "code",
   "execution_count": null,
   "metadata": {},
   "outputs": [],
   "source": [
    "model_length = 1000"
   ]
  },
  {
   "cell_type": "markdown",
   "metadata": {},
   "source": [
    "### Number of Elements\n",
    "<p>The number of elements in the array is also quite important. The more elements the model has, the more continuous the model should behave, giving the model greater accuracy and resolution. The downside, though, is that a more accurate model requires more memory and time to compute.</p>\n",
    "<p>The default value is 1000 elements, giving each element a length of 1 meter, which is the <b>scale</b>.</p>"
   ]
  },
  {
   "cell_type": "code",
   "execution_count": null,
   "metadata": {},
   "outputs": [],
   "source": [
    "number_of_elements = 1000\n",
    "scale = model_length / number_of_elements"
   ]
  },
  {
   "cell_type": "markdown",
   "metadata": {},
   "source": [
    "### Time Delta\n",
    "<p>Enter a value for how many times the model will update per simulated day. This controls how often the model will run. The number that I use in the model is the inverse of this number.<br>\n",
    "    A more detailed model updates more frequently, but also takes longer to run.</p>"
   ]
  },
  {
   "cell_type": "code",
   "execution_count": null,
   "metadata": {},
   "outputs": [],
   "source": [
    "runs_per_day = 1\n",
    "time_delta = 1 / runs_per_day    # How often the model runs, in days"
   ]
  },
  {
   "cell_type": "markdown",
   "metadata": {},
   "source": [
    "### Hydraulic Conductivity\n",
    "<p>There is a lot of flexibility in this parameter. It can be a number or an array. For a <b>heterogeneous</b> model, set the hydraulic conductivity equal to a number. If hydraulic conductivity is not the same everywhere, things get a bit more difficult. If there is already a formatted database file that can easily be converted to a numpy array, that makes things easier, if not, figure something else.</p>\n",
    "<p>If the hydraulic conductivity used is variable (not a scalar), change the variable <b>variable_conductivity</b> to <b>True</b></p>"
   ]
  },
  {
   "cell_type": "code",
   "execution_count": null,
   "metadata": {},
   "outputs": [],
   "source": [
    "hydraulic_conductivity = .0001\n",
    "\n",
    "variable_hydraulic_conductivity = False  # Leave this alone if using constant hydraulic conductivity"
   ]
  },
  {
   "cell_type": "markdown",
   "metadata": {},
   "source": [
    "### Specific Yield\n",
    "<p>Like the hydraulic conductivity, this can be constant (for a heterogeneous system) or variable</p>"
   ]
  },
  {
   "cell_type": "code",
   "execution_count": null,
   "metadata": {},
   "outputs": [],
   "source": [
    "specific_yield = 10e-5\n",
    "\n",
    "variable_specific_yield = False  # Change to true if using an array"
   ]
  },
  {
   "cell_type": "markdown",
   "metadata": {},
   "source": [
    "### Model Run Time\n",
    "<p>In this model, input the numbers of days that you would like the model to run for. Using this time, the number of iterations that the flow model will run for is calculated.</p>"
   ]
  },
  {
   "cell_type": "code",
   "execution_count": null,
   "metadata": {},
   "outputs": [],
   "source": [
    "number_of_days = 365   # The run time, in days. The default is 1 year\n",
    "\n",
    "iterations = int(number_of_days*runs_per_day)"
   ]
  },
  {
   "cell_type": "markdown",
   "metadata": {},
   "source": [
    "## Creating the model array\n",
    "<p>At the moment, this array begins empty.</p>"
   ]
  },
  {
   "cell_type": "code",
   "execution_count": null,
   "metadata": {},
   "outputs": [],
   "source": [
    "hydraulic_heads = np.zeros(number_of_elements)"
   ]
  },
  {
   "cell_type": "markdown",
   "metadata": {},
   "source": [
    "## Set some initial values\n",
    "<p>We have the parametesr for running the model, be we need to set the initial conditions for the model.</p>\n",
    "<p>The values that must be set are:</p>\n",
    "<ul>\n",
    "    <li>Inputs</li>\n",
    "    <li>Outputs (wells)</li>\n",
    "    <li>Hydraulic head values</li>\n",
    "    <li>Constant head values</li>\n",
    "    <p><b>Not yet implemented</b></p>\n",
    "    <li>Precipitation patterns</li>\n",
    "    <li>Temperature patterns</li>\n",
    "    <li>Geography</li>\n",
    "    <li>Rivers, lakes</li>\n",
    "    <li>Initial concentration values</li>\n",
    "</ul>\n",
    "\n",
    "<p>I recommend that the end points be set as either a constant or a change. The constants are all stored in one list and the inputs and outputs are stored in another. Each point will have the following information:</p>\n",
    "<ul>\n",
    "    <li>Physical location in the model</li>\n",
    "    <li>The model element that it is associated with</li>\n",
    "    <li>The constant value at that element (for constants)</li>\n",
    "    <li>How much the an input/output changes an element.</li>\n",
    "    <li>Some additional identifier, like a name</li>\n",
    "</ul>\n",
    "\n",
    "<p>I store each point as a tuple, with the first element being the element and the second being the change/constant. The physical location is not exlicitly stored, but can easily be determined by the element. </p>\n",
    "<p>For the sign convenction on inputs an outputs, a <b><u>positive</u></b> value for a change is an input, and a <b><u>negative</u></b> value is an output.</p>"
   ]
  },
  {
   "cell_type": "code",
   "execution_count": 2,
   "metadata": {},
   "outputs": [],
   "source": [
    "constants = []\n",
    "changes = []"
   ]
  },
  {
   "cell_type": "markdown",
   "metadata": {},
   "source": [
    "### Adding Constants"
   ]
  },
  {
   "cell_type": "code",
   "execution_count": null,
   "metadata": {},
   "outputs": [],
   "source": [
    "x_position = None\n",
    "constant_value = None\n",
    "other_information = None\n",
    "\n",
    "addPoint(x_position,constant_value,other_information,constants)"
   ]
  },
  {
   "cell_type": "markdown",
   "metadata": {},
   "source": [
    "### Adding Outputs\n",
    "<p>The simulated wells. This value is the amount of water, in cubic meters, per time step. At the moment, this value must be constant</p>"
   ]
  },
  {
   "cell_type": "code",
   "execution_count": null,
   "metadata": {},
   "outputs": [],
   "source": [
    "x_position = None\n",
    "output_value = None\n",
    "other_information = None\n",
    "\n",
    "addPoint(x_position,output_value,other_information,changes, scale)"
   ]
  },
  {
   "cell_type": "markdown",
   "metadata": {},
   "source": [
    "### Adding Inputs\n",
    "<p>The simulated Inputs. This value is the amount of water, in cubic meters, per time step. At the moment, this value must be constant and it not given in terms of the time step. Because of that, you will need to determine the average rate per time step.</p>"
   ]
  },
  {
   "cell_type": "code",
   "execution_count": 5,
   "metadata": {},
   "outputs": [],
   "source": [
    "x_position = None\n",
    "input_value = None\n",
    "other_information = None\n",
    "\n",
    "addPoint(x_position,input_value,other_information,changes, scale)"
   ]
  },
  {
   "cell_type": "markdown",
   "metadata": {},
   "source": [
    "### Review of constants, inputs, and outputs\n",
    "<p>This shows all of the constant, intput, and output points that wil be used in the model. Look over these to make sure that all things look correct before running the model.</p>"
   ]
  },
  {
   "cell_type": "code",
   "execution_count": 6,
   "metadata": {},
   "outputs": [
    {
     "name": "stdout",
     "output_type": "stream",
     "text": [
      "xPos\tValue\tOther info\n",
      "4.0\t0.1\tThis is the first well\n",
      "6.0\t-0.6\tThis is the second well\n"
     ]
    }
   ],
   "source": [
    "printData(changes,scale)"
   ]
  },
  {
   "cell_type": "markdown",
   "metadata": {},
   "source": [
    "## Data collection\n",
    "<p>The model does not save the state at every time step along the function, but rather only at specified points in time. The variable <b>number_of_data_points</b> is the number of samples that the model will take, all at evenly spaced time intervals. The default is 2, which records the initial and final values of the array.</p>"
   ]
  },
  {
   "cell_type": "code",
   "execution_count": null,
   "metadata": {},
   "outputs": [],
   "source": [
    "number_of_data_points = 2\n",
    "\n",
    "step = int((number_of_elements) / number_of_data_points)\n",
    "\n"
   ]
  },
  {
   "cell_type": "markdown",
   "metadata": {},
   "source": [
    "### Data structure\n",
    "<p>The data collected at a model point will be a copy of the heads array at that given time. These times will be stored in a pandas dataframe for relatively easy data handling.</p>"
   ]
  },
  {
   "cell_type": "code",
   "execution_count": null,
   "metadata": {},
   "outputs": [],
   "source": [
    "data = pd.DataFrame(columns = ['Time','Data'])"
   ]
  },
  {
   "cell_type": "markdown",
   "metadata": {},
   "source": [
    "# Run the Model\n",
    "## Define some runtime variables"
   ]
  },
  {
   "cell_type": "code",
   "execution_count": 1,
   "metadata": {},
   "outputs": [],
   "source": [
    "time_since_start = 0  # Measures the time since the model started"
   ]
  },
  {
   "cell_type": "markdown",
   "metadata": {},
   "source": [
    "## Actually run the model\n",
    "<p>This cell is the purpose of the whole model. The model is actually run.</p>"
   ]
  },
  {
   "cell_type": "code",
   "execution_count": null,
   "metadata": {},
   "outputs": [],
   "source": [
    "for i in range(1,iterations + 1):\n",
    "    time += time_delta\n",
    "    flow(heads, conductivity, specific_yield, time_delta, scale, variable_parameters)\n",
    "    if i % step == 0:\n",
    "        data.append(pd.DataFrame(data = [[time, np.copy(heads)]] columns = ['Time','Data']))\n",
    "        \n",
    "        \n",
    "print(\"Model run finished.\")\n",
    "print(\"The model has run for {} days\".format(time_since_start))"
   ]
  },
  {
   "cell_type": "markdown",
   "metadata": {},
   "source": [
    "# Data analysis\n",
    "## Available Data"
   ]
  },
  {
   "cell_type": "code",
   "execution_count": null,
   "metadata": {},
   "outputs": [],
   "source": [
    "data['Time']"
   ]
  },
  {
   "cell_type": "markdown",
   "metadata": {},
   "source": [
    "## Make some graphs\n",
    "<p>I do not have an easy way to produce graphs easily here, so I hope that whoever is using this knows what they're doing with matplotlib. By default, this will just plot each of the values collected on a single plot.</p>"
   ]
  },
  {
   "cell_type": "code",
   "execution_count": null,
   "metadata": {},
   "outputs": [],
   "source": [
    "x_values = np.linspace(0,model_length, number_of_elements)\n",
    "\n",
    "for row in data.rows:\n",
    "    plt.plot(x_values, row['Data'], label = \"{} days\".format(row['Time']))"
   ]
  },
  {
   "cell_type": "markdown",
   "metadata": {},
   "source": [
    "## Additional data analysis?\n",
    "<p>At this point, all of the model data is stored in the <b>data</b> array. While important, I am not completely sure what else would be desired for some data analysis. So, it's really up to the user to decide what other analysis they want.</p>"
   ]
  },
  {
   "cell_type": "code",
   "execution_count": null,
   "metadata": {},
   "outputs": [],
   "source": []
  },
  {
   "cell_type": "markdown",
   "metadata": {},
   "source": [
    "# End model and save data\n",
    "## Choose data to save\n",
    "<p>By default, the whole dataframe is stored as a csv</p>"
   ]
  },
  {
   "cell_type": "code",
   "execution_count": null,
   "metadata": {},
   "outputs": [],
   "source": []
  },
  {
   "cell_type": "markdown",
   "metadata": {},
   "source": [
    "## Save data to given location"
   ]
  },
  {
   "cell_type": "code",
   "execution_count": null,
   "metadata": {},
   "outputs": [],
   "source": [
    "model_name = 'unnamed_model'\n",
    "\n",
    "model_name += '.csv'\n",
    "\n",
    "data.to_csv(model_name)"
   ]
  }
 ],
 "metadata": {
  "kernelspec": {
   "display_name": "Python 3",
   "language": "python",
   "name": "python3"
  },
  "language_info": {
   "codemirror_mode": {
    "name": "ipython",
    "version": 3
   },
   "file_extension": ".py",
   "mimetype": "text/x-python",
   "name": "python",
   "nbconvert_exporter": "python",
   "pygments_lexer": "ipython3",
   "version": "3.7.3"
  }
 },
 "nbformat": 4,
 "nbformat_minor": 2
}
