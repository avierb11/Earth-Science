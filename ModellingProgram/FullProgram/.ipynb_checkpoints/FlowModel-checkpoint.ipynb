{
 "cells": [
  {
   "cell_type": "code",
   "execution_count": 10,
   "metadata": {},
   "outputs": [],
   "source": [
    "import numpy as np\n",
    "import matplotlib as plt\n",
    "import pandas as pd\n",
    "import ipywidgets as w\n",
    "from IPython.display import display"
   ]
  },
  {
   "cell_type": "markdown",
   "metadata": {},
   "source": [
    "# The widgets GUI\n",
    "The values that need to be displayed are:\n",
    "- x length\n",
    "- y length\n",
    "- z length\n",
    "- x elements\n",
    "- y element\n",
    "- z elements\n",
    "- hydraulic conductivity\n",
    "- specific storage\n",
    "- "
   ]
  },
  {
   "cell_type": "markdown",
   "metadata": {},
   "source": [
    "## Dimensions and Elements"
   ]
  },
  {
   "cell_type": "code",
   "execution_count": 2,
   "metadata": {},
   "outputs": [],
   "source": [
    "xDim_widget = w.IntText(\n",
    "    value = 1000,\n",
    "    min = 100,\n",
    "    step = 100,\n",
    "    description = \"length\"\n",
    ")\n",
    "\n",
    "yDim_widget = w.IntText(\n",
    "    value = 1000,\n",
    "    min = 100,\n",
    "    step = 100,\n",
    "    description = \"length\"\n",
    ")\n",
    "\n",
    "zDim_widget = w.IntText(\n",
    "    value = 100,\n",
    "    step = 100,\n",
    "    description = \"length\"\n",
    ")\n",
    "\n",
    "xDim_label = w.HTML(\n",
    "    value = f\"<b>X Dimension</b>\")\n",
    "yDim_label = w.HTML(\n",
    "    value = f\"<b>Y Dimension</b>\")\n",
    "zDim_label = w.HTML(\n",
    "    value = f\"<b>Z Dimension</b>\")\n",
    "\n",
    "xElements_widget = w.IntText(\n",
    "    value = 1000,\n",
    "    min = 100,\n",
    "    max = 4000,\n",
    "    step = 100,\n",
    "    description = \"Elements\"\n",
    ")\n",
    "\n",
    "yElements_widget = w.IntText(\n",
    "    value = 1000,\n",
    "    min = 100,\n",
    "    max = 4000,\n",
    "    step = 100,\n",
    "    description = \"Elements\"\n",
    ")\n",
    "\n",
    "zElements_widget = w.IntText(value = 10, min = 100, max = 4000, step = 100, description = \"Elements\")\n",
    "\n",
    "xScale_widget = w.Label(value = \"Scale: {}\".format(str(xDim_widget.value / xElements_widget.value)))\n",
    "\n",
    "x = w.HBox([xDim_label, xDim_widget,w.HTML(f\"m\"), xElements_widget,])\n",
    "y = w.HBox([yDim_label, yDim_widget,w.HTML(f\"m\"), yElements_widget,])\n",
    "z = w.HBox([zDim_label, zDim_widget,w.HTML(f\"m\"),zElements_widget,])\n"
   ]
  },
  {
   "cell_type": "markdown",
   "metadata": {},
   "source": [
    "## Time Scale Stuff"
   ]
  },
  {
   "cell_type": "code",
   "execution_count": 3,
   "metadata": {},
   "outputs": [],
   "source": [
    "total_time_widget = w.IntText(value = 365)\n",
    "runs_per_day = w.IntText(value = 24,)\n",
    "time_title = w.HTML(value = f\"<b>Time</b>\")\n",
    "\n",
    "time = w.HBox([time_title,w.HTML(), total_time_widget, w.HTML(value = f\"days| \"), w.HTML(f\"Runs per day:\"),runs_per_day])"
   ]
  },
  {
   "cell_type": "markdown",
   "metadata": {},
   "source": [
    "## Data collection\n",
    "<p>Specify the number of data points (and later the type) that should be collected during the run.</p>"
   ]
  },
  {
   "cell_type": "code",
   "execution_count": 4,
   "metadata": {},
   "outputs": [],
   "source": [
    "total_data_points = w.IntText(value = 10)   # Determines the number of data points to collect\n",
    "\n",
    "#Add a well or something"
   ]
  },
  {
   "cell_type": "markdown",
   "metadata": {},
   "source": [
    "## Data storage\n",
    "<p>The data will be stored in a pandas dataframe for now (until I figure out a better way to store it</p>"
   ]
  },
  {
   "cell_type": "code",
   "execution_count": 5,
   "metadata": {},
   "outputs": [],
   "source": [
    "model_name_widget = w.Text(value=\"Unnamed model\",description = 'Model Name:')"
   ]
  },
  {
   "cell_type": "markdown",
   "metadata": {},
   "source": [
    "## Some model parameters"
   ]
  },
  {
   "cell_type": "code",
   "execution_count": 6,
   "metadata": {},
   "outputs": [],
   "source": [
    "hydraulic_conductivity_widget = w.FloatText(value = .00001)"
   ]
  },
  {
   "cell_type": "markdown",
   "metadata": {},
   "source": [
    "## Run button\n",
    "Just hit the button to run the model."
   ]
  },
  {
   "cell_type": "code",
   "execution_count": 7,
   "metadata": {},
   "outputs": [],
   "source": [
    "run_button = w.Button(description=\"Run Model\")"
   ]
  },
  {
   "cell_type": "markdown",
   "metadata": {},
   "source": [
    "## The actual GUI"
   ]
  },
  {
   "cell_type": "code",
   "execution_count": 8,
   "metadata": {
    "scrolled": false
   },
   "outputs": [
    {
     "data": {
      "application/vnd.jupyter.widget-view+json": {
       "model_id": "e2d464e201314b7cb625baeb85769d3a",
       "version_major": 2,
       "version_minor": 0
      },
      "text/plain": [
       "VBox(children=(HBox(children=(HTML(value='<b>X Dimension</b>'), IntText(value=1000, description='length', step…"
      ]
     },
     "metadata": {},
     "output_type": "display_data"
    },
    {
     "data": {
      "application/vnd.jupyter.widget-view+json": {
       "model_id": "1fe57f78e1e1461f8b56e10a8127b0f1",
       "version_major": 2,
       "version_minor": 0
      },
      "text/plain": [
       "Button(description='Run Model', style=ButtonStyle())"
      ]
     },
     "metadata": {},
     "output_type": "display_data"
    }
   ],
   "source": [
    "num_data_points = w.HBox([w.HTML(value = f\"Number of data points to collect:\"),total_data_points])\n",
    "\n",
    "model_name = w.HBox([model_name_widget])\n",
    "\n",
    "gui = w.VBox([\n",
    "    x,\n",
    "    y,\n",
    "    z,\n",
    "    time,\n",
    "    num_data_points,\n",
    "    model_name_widget\n",
    "])\n",
    "\n",
    "display(gui,run_button)"
   ]
  },
  {
   "cell_type": "code",
   "execution_count": 86,
   "metadata": {},
   "outputs": [],
   "source": [
    "gui.close()\n",
    "del gui"
   ]
  }
 ],
 "metadata": {
  "kernelspec": {
   "display_name": "Python 3",
   "language": "python",
   "name": "python3"
  },
  "language_info": {
   "codemirror_mode": {
    "name": "ipython",
    "version": 3
   },
   "file_extension": ".py",
   "mimetype": "text/x-python",
   "name": "python",
   "nbconvert_exporter": "python",
   "pygments_lexer": "ipython3",
   "version": "3.8.3"
  }
 },
 "nbformat": 4,
 "nbformat_minor": 4
}
