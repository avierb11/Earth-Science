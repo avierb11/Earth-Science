{
 "cells": [
  {
   "cell_type": "markdown",
   "metadata": {},
   "source": [
    "# 1-D Framework\n",
    "<p>This notebook represents the cumulative and current state of the 1D functions that I have yet created.</p>"
   ]
  },
  {
   "cell_type": "code",
   "execution_count": 44,
   "metadata": {},
   "outputs": [],
   "source": [
    "import numpy as np\n",
    "import matplotlib.pyplot as plt\n",
    "\n",
    "class FlowModel:\n",
    "    \n",
    "    def __init__(self, length = 10, numElements = 10, conductivity = .1, diffusivity = .05):\n",
    "        self.length = length\n",
    "        self.numElements = numElements\n",
    "        self.conductivity = conductivity\n",
    "        self.heads = np.zeros(numElements)\n",
    "        self.scale = length/numElements\n",
    "        self.plt = plt\n",
    "        self.diffusivity = diffusivity\n",
    "        self.solutePeak = 0   # Accurate tracker for the solute peak\n",
    "        self.concentrations = np.zeros(numElements)\n",
    "        self.totalSolute = 0\n",
    "        self.totalWater = 0\n",
    "        \n",
    "    # Flow Functions\n",
    "    #---------------------------------------------------------------------------\n",
    "    def flow(self, runs = 1):\n",
    "        '''\n",
    "        Normal 1D flow equation\n",
    "        '''\n",
    "        for i in range(runs):\n",
    "            queue = np.zeros(self.numElements)\n",
    "            queue[:-1] += conductivity*(self.heads[1: ] - self.heads[:-1])/self.scale\n",
    "            queue[1: ] += conductivity*(self.heads[:-1] - self.heads[1: ])/self.scale\n",
    "            heads += queue\n",
    "            del queue\n",
    "        \n",
    "    def averageVelocity(self):\n",
    "        '''\n",
    "        Determines the average velocity for each element of the array\n",
    "        '''\n",
    "        pass\n",
    "\n",
    "    # Solute Transport\n",
    "    #---------------------------------------------------------------------------\n",
    "    def advection(self):\n",
    "        '''\n",
    "        Models advection, the transport of solute with the bulk fluid motion\n",
    "        - Follows the motion of the largest\n",
    "        '''\n",
    "        new = self.solutePeak + self.averageVelocity()\n",
    "        if new > int(self.solutePeak):\n",
    "            queue = np.zeros(self.numElements)   # Need to determine the direction of flow, because this flows to the right,\n",
    "            queue[:-1] += (self.concentrations[:-1] - self.concentrations[1: ])  # but it isn't necessarily that direction.\n",
    "            queue[1: ] += (self.concentrations[1: ] - self.concentrations[:-1])\n",
    "            self.concentrations += queue\n",
    "            del queue\n",
    "            \n",
    "    def forceAdvection(self):\n",
    "        queue = np.copy(self.concentrations[:-1])\n",
    "        self.concentrations[:-1] -= queue\n",
    "        self.concentrations[1:] += queue\n",
    "        del queue\n",
    "    \n",
    "    def diffusion(self):\n",
    "        pass\n",
    "    \n",
    "    def forceDiffusion(self, runs = 1):\n",
    "        for i in range(runs):\n",
    "            queue = self.concentrations*self.diffusivity\n",
    "            self.concentrations -= 2*queue\n",
    "            self.concentrations[:-1] += queue[1: ]\n",
    "            self.concentrations[1: ] += queue[:-1]\n",
    "\n",
    "    def dispersion(self):\n",
    "        pass\n",
    "        \n",
    "    # Plotting things\n",
    "    #---------------------------------------------------------------------------\n",
    "    def plotHeads(self):\n",
    "        self.plt.plot(self.heads)\n",
    "        self.plt.xlim(0,self.length)\n",
    "        self.plt.xlabel(\"Length\")\n",
    "        self.plt.ylabel(\"Hydraulic head\")\n",
    "        self.plt.title(\"Hydraulic head over the model\")\n",
    "        self.plt.show()\n",
    "        \n",
    "    def plotConc(self):\n",
    "        self.plt.plot(self.concentrations)\n",
    "        self.plt.xlim(0,self.length)\n",
    "        self.plt.xlabel(\"X position\")\n",
    "        self.plt.ylabel(\"Solute Concentration\")\n",
    "        self.plt.title(\"Solute Concentration in the model\")\n",
    "        self.plt.ylim(0,1)\n",
    "        self.plt.show()\n",
    "        \n",
    "    # Printing information and things\n",
    "    #---------------------------------------------------------------------------     \n",
    "    def __str__(self):\n",
    "        print(\"Flow Model\")\n",
    "        print(\"--------------\")\n",
    "        print(\"Number of elements:\",self.numElements)\n",
    "        print(\"Model Length:\",self.length, \"meters\")\n",
    "        print(\"Scale\", self.scale, (\"meters per element\"))\n",
    "        print(\"Hydraulic conductivity:\", self.conductivity)\n",
    "        return \"--------------\"\n",
    "    \n",
    "    def checkSums(self):\n",
    "        if self.totalSolute != self.getSoluteTotal():\n",
    "            print('Something wrong with solute:')\n",
    "            print(\"Expected: \", self.soluteTotal)\n",
    "            print(\"Current: \", self.getSoluteTotal())\n",
    "    \n",
    "    # Some ease of use stuff here\n",
    "    #---------------------------------------------------------------------------\n",
    "    def setDefaults(self):\n",
    "        self.heads[0] = 1\n",
    "        self.heads[-1] = 0\n",
    "        self.concentrations[int(self.length/2)] = 1\n",
    "        self.totalSolute = np.sum(self.concentrations)\n",
    "        self.totalWater = np.sum(self.heads)\n",
    "        \n",
    "    def getSoluteTotal(self):\n",
    "        return np.sum(self.concentrations)\n",
    "    \n",
    "    def getWaterTotal(self):\n",
    "        return np.sum(self.heads)"
   ]
  },
  {
   "cell_type": "markdown",
   "metadata": {},
   "source": [
    "## Testing the model"
   ]
  },
  {
   "cell_type": "code",
   "execution_count": 49,
   "metadata": {},
   "outputs": [
    {
     "data": {
      "image/png": "[encoded data removed]",
      "text/plain": [
       "<Figure size 432x288 with 1 Axes>"
      ]
     },
     "metadata": {
      "needs_background": "light"
     },
     "output_type": "display_data"
    },
    {
     "data": {
      "image/png": "[encoded data removed]",
      "text/plain": [
       "<Figure size 432x288 with 1 Axes>"
      ]
     },
     "metadata": {
      "needs_background": "light"
     },
     "output_type": "display_data"
    }
   ],
   "source": [
    "mod = FlowModel()\n",
    "mod.setDefaults()\n",
    "mod.plotConc()\n",
    "mod.forceDiffusion()\n",
    "mod.plotConc()\n",
    "mod.checkSums()"
   ]
  },
  {
   "cell_type": "code",
   "execution_count": 46,
   "metadata": {},
   "outputs": [
    {
     "name": "stdout",
     "output_type": "stream",
     "text": [
      "1.0\n"
     ]
    }
   ],
   "source": [
    "print(mod.getSoluteTotal())"
   ]
  }
 ],
 "metadata": {
  "kernelspec": {
   "display_name": "Python 3",
   "language": "python",
   "name": "python3"
  },
  "language_info": {
   "codemirror_mode": {
    "name": "ipython",
    "version": 3
   },
   "file_extension": ".py",
   "mimetype": "text/x-python",
   "name": "python",
   "nbconvert_exporter": "python",
   "pygments_lexer": "ipython3",
   "version": "3.8.3"
  }
 },
 "nbformat": 4,
 "nbformat_minor": 2
}
