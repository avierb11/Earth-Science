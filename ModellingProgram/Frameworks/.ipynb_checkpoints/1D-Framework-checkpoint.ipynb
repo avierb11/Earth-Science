{
 "cells": [
  {
   "cell_type": "markdown",
   "metadata": {},
   "source": [
    "# 1-D Framework\n",
    "<p>This notebook represents the cumulative and current state of the 1D functions that I have yet created.</p>"
   ]
  },
  {
   "cell_type": "code",
   "execution_count": null,
   "metadata": {},
   "outputs": [],
   "source": [
    "import numpy as np\n",
    "import matplotlib.pyplot as plt\n",
    "-\n",
    "class FlowModel:\n",
    "    \n",
    "    def __init__(self, length = 10, numElements = 10, self.conductivity = .1):\n",
    "        self.length = length\n",
    "        self.numElements = numElements\n",
    "        self.conductivity = conductivity\n",
    "        self.heads = np.zeros(numElements)\n",
    "        self.scale = length/numElements\n",
    "        \n",
    "    def flow(self):\n",
    "        '''\n",
    "        Normal 1D flow equation\n",
    "        '''\n",
    "        queue = np.zeros(self.numElements)\n",
    "        queue[:-1] += conductivity*(self.heads[1: ] - self.heads[:-1])/self.scale\n",
    "        queue[1: ] += conductivity*(self.heads[:-1] - self.heads[1: ])/self.scale\n",
    "        heads += queue\n",
    "        del queue"
   ]
  }
 ],
 "metadata": {
  "kernelspec": {
   "display_name": "Python 3",
   "language": "python",
   "name": "python3"
  },
  "language_info": {
   "codemirror_mode": {
    "name": "ipython",
    "version": 3
   },
   "file_extension": ".py",
   "mimetype": "text/x-python",
   "name": "python",
   "nbconvert_exporter": "python",
   "pygments_lexer": "ipython3",
   "version": "3.7.3"
  }
 },
 "nbformat": 4,
 "nbformat_minor": 2
}
