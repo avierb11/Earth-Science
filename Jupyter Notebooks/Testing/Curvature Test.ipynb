{
 "cells": [
  {
   "cell_type": "code",
   "execution_count": 31,
   "metadata": {},
   "outputs": [],
   "source": [
    "import numpy as np\n",
    "import matplotlib.pyplot as plt"
   ]
  },
  {
   "cell_type": "markdown",
   "metadata": {},
   "source": [
    "## Curvature\n",
    "<p> According to a website, the curvature of a function can be expressed as: </p>\n",
    " <h2><center>$\\kappa = \\frac{|x'y\" - y'x\"|}{[(x')^{2} + (y')^{2}]^{3/2}}$</center></h2>"
   ]
  },
  {
   "cell_type": "code",
   "execution_count": 32,
   "metadata": {},
   "outputs": [],
   "source": [
    "def firstDeriv(arr, pos, scale = 1):\n",
    "    '''\n",
    "    Returns the derivative by taking the average slope\n",
    "    across the points on either side\n",
    "    '''\n",
    "    return (arr[pos+1] - arr[pos-1])/(2*scale)\n",
    "\n",
    "def secondDeriv(arr, pos, scale = 1):\n",
    "    '''\n",
    "    Returns the second derivative by calculating the derivative on \n",
    "    either side of the given point and averages those\n",
    "    '''\n",
    "    high = (arr[pos+2] - arr[pos])/(2*scale)\n",
    "    low = (arr[pos] - arr[pos-2])/(2*scale)\n",
    "    return (high-low)/(2*scale)\n",
    "    "
   ]
  },
  {
   "cell_type": "markdown",
   "metadata": {},
   "source": [
    "### Testing these functions\n",
    "\n",
    "<p>Using the function $y = 3x^{3} - 4x^{2} - 2x + 10$ over the range [-50,50]</p> "
   ]
  },
  {
   "cell_type": "code",
   "execution_count": 35,
   "metadata": {},
   "outputs": [
    {
     "name": "stdout",
     "output_type": "stream",
     "text": [
      "First deriv:  18419.78999999963\n"
     ]
    }
   ],
   "source": [
    "x = np.linspace(-50, 50, 1001)\n",
    "y = 3*x**3 - 4*x**2 - 2*x + 10\n",
    "y1 = []\n",
    "yPrimeActual = 9*x**2 - 8*x - 2\n",
    "y2 = []\n",
    "yDoublePrimeActual = 18*x - 8\n",
    "\n",
    "for i in range(1, 1000, 1):\n",
    "    y1.append(firstDeriv(y, i, .1))\n",
    "    \n",
    "for j in range(2, 999, 1):\n",
    "    y2.append(secondDeriv(y,j, .1))\n",
    "    \n",
    "print(\"First deriv: \", y1[51])"
   ]
  },
  {
   "cell_type": "code",
   "execution_count": 36,
   "metadata": {},
   "outputs": [
    {
     "data": {
      "text/plain": [
       "[<matplotlib.lines.Line2D at 0x570b9f0>]"
      ]
     },
     "execution_count": 36,
     "metadata": {},
     "output_type": "execute_result"
    },
    {
     "data": {
      "image/png": "[encoded data removed]",
      "text/plain": [
       "<Figure size 432x288 with 1 Axes>"
      ]
     },
     "metadata": {
      "needs_background": "light"
     },
     "output_type": "display_data"
    }
   ],
   "source": [
    "plt.plot(x[1:-1], y1, 'r')\n",
    "plt.plot(x, yPrimeActual, 'r--', alpha = .5)\n",
    "plt.plot(x[2:-2], y2, 'b')\n",
    "plt.plot(x, yDoublePrimeActual, 'b--', alpha = .5)"
   ]
  },
  {
   "cell_type": "markdown",
   "metadata": {},
   "source": [
    "### Error Analysis\n",
    "<p>On this graph, the red curve is the first derivative, and the blue one is the second derivative. I can't even see any errors on the graph, so I'll quantify it numerically</p>\n",
    "\n",
    "- Calculate difference between calculated and analytical derivatives"
   ]
  },
  {
   "cell_type": "code",
   "execution_count": null,
   "metadata": {},
   "outputs": [],
   "source": []
  }
 ],
 "metadata": {
  "kernelspec": {
   "display_name": "Python 3",
   "language": "python",
   "name": "python3"
  },
  "language_info": {
   "codemirror_mode": {
    "name": "ipython",
    "version": 3
   },
   "file_extension": ".py",
   "mimetype": "text/x-python",
   "name": "python",
   "nbconvert_exporter": "python",
   "pygments_lexer": "ipython3",
   "version": "3.7.3"
  }
 },
 "nbformat": 4,
 "nbformat_minor": 2
}
