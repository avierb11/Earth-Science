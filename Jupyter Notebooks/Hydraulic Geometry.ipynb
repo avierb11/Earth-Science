{
 "cells": [
  {
   "cell_type": "markdown",
   "metadata": {},
   "source": [
    "# Hydraulic Geometry\n",
    "<p>The dimensions of a river have been experimentally determined to be related to the river dishcarge. The following three relations hold for rivers: <br> \n",
    "    - $W = a Q^{b}$ <br>\n",
    "    - $H = c Q^{f}$ <br>\n",
    "    - $U = k Q^{m}$ <br>\n",
    "    \n",
    "When multiplied together, $WHU = Q$, and therefore $b + f + m = 1$ and $a * c * k = 1$.\n",
    "In practice, the coefficients are: $a = .5, b = .4, and U = .1$. While the standard values given for the exponents of W, H, and U are .5, .4, and .1, they can vary significantly between stations. <br>\n",
    "When rivers overflow, they typically respond by scouring in the main channel in order to accomodate a higher discharge</p>\n",
    "\n",
    "\n",
    "### Remaining to do\n",
    "- I'm not sure what functions should go into this"
   ]
  },
  {
   "cell_type": "code",
   "execution_count": 1,
   "metadata": {},
   "outputs": [],
   "source": [
    "def getHydraulicExponenets():\n",
    "    '''\n",
    "    Returns the exponents b, f, and m somehow\n",
    "    '''\n",
    "    pass"
   ]
  },
  {
   "cell_type": "markdown",
   "metadata": {},
   "source": [
    "## Relation between flood stage and sediment transport\n",
    "<p>Large floods are the most effective at transporting sediment but are infrequent, while small floods are the most frequent, but relatively ineffectivce at sediment transport. A flood with a recurrence period of ~2 years is the most effective at sediment transport by balancing those two factors.</p>"
   ]
  },
  {
   "cell_type": "markdown",
   "metadata": {},
   "source": [
    "## Braided Rivers\n",
    "<p>Braided rivers are found near glaciers or other regions where river banks  have low cohesion and can be easily eroded. Because of their generally massive size, they can be difficult to gauge. However, by setting the bed shear stress equal to that of the critical shear stress for the banks, the average river depth can be determined given just a few parameters about the river</p>"
   ]
  },
  {
   "cell_type": "markdown",
   "metadata": {},
   "source": [
    "## Meandering Rivers\n",
    "<p>The meandering of a river is the snaking motion it makes over a landscape. Quantitatively, meandering is known as <b>sinuosity</b>, which is defined as:   $\\frac{length_{channel}}{length_{valley}}$, and is therefore always greater than 1</p>\n",
    "\n",
    "### Corners\n",
    "<p> At the corner of a river, the water experiences a centrifugal acceleration. The acceleration is proportional square of velocity divided by the radius of curvature of the bend: $\\frac{v^2}{R}$</p>\n",
    "\n",
    "<p>Curvature poses a trickier problem. It cannot be quickly quantified. Curavature describes the radius of a circle that would fit a function at a small region, representing how quickly the function (or river in our case) changes direction. The formula for curvature is: </p>\n",
    " <h2><center> $\\kappa = ||\\frac{dT}{ds}||$</center></h2>\n",
    "<p>Where $dT$ is the derivative of the unit tangent vector and $ds$ is arc length. Radius of curvature is defined as $R = \\frac{1}{\\kappa}$. As for the other variables in the function, we already have T, the tangent vectors. All of the river path array are tangent to the flow direction.</p>\n",
    "    \n",
    "    \n",
    "<p>However, there is a simpler equation for solving for curvature: </p>\n",
    "<h2><center>$\\kappa = \\frac{|x'y\" - y'x\"|}{[(x')^{2} + (y')^{2}]^{3/2}}$</center></h2>\n",
    "\n",
    "<p>Simply inverting this will give the radius of curvature: </p>\n",
    "<h2><center>$\\kappa = \\frac{[(x')^{2} + (y')^{2}]^{3/2}}{|x'y\" - y'x\"|}$</center></h2>\n",
    "\n",
    "<p>In order to calculate the curvature, I require the first and second derivatives. I only used a simple average to calculate the first derivative, and then the average of two first derivatives to get the second derivative. It may not provide an extremely accurate value, but I think it will do the job for now, as I don't expect the streams to be changing course significantly.</p>"
   ]
  },
  {
   "cell_type": "code",
   "execution_count": 1,
   "metadata": {},
   "outputs": [],
   "source": [
    "def sinuosity(channelLength, valleyLength):\n",
    "    '''\n",
    "    Returns the sinuosity of a channel if\n",
    "    both channel and valley length are known.\n",
    "    '''\n",
    "    return channelLength/valleyLength\n",
    "\n",
    "def channelLength(channelPath, scale):\n",
    "    '''\n",
    "    Takes as parameters a 1D array of points in 3D space.\n",
    "    It keeps a running total of the distance between each \n",
    "    point than then multiplies that total by the scaling \n",
    "    factor, which is related to the dimensions of each box\n",
    "    in the model.\n",
    "    '''\n",
    "    \n",
    "    differences = channelPath[:,1:] - channelPath[:,0:-1] # Matrix of differences b/w each point\n",
    "    \n",
    "    return scale * np.sqrt(np.sum(differences[0])**2 + np.sum(differences[1])**2 + np.sum(differences[2])**2)\n",
    "\n",
    "\n",
    "def bendCurvatureAverage(x, y, scale):\n",
    "    '''\n",
    "    Returns the average radius of curvature for a river bend.\n",
    "    Requires that the firstDeriv function and secondDeriv function\n",
    "    must be imported\n",
    "    \n",
    "    **Note that the second derivative requires a padding of two values, so the first two\n",
    "    and final two values are not used in the calculation.\n",
    "    \n",
    "    The first two values are set equal to the third value\n",
    "    The final two values are set equal to the third to last value\n",
    "    ^Both of these things save some difficulties later in array size.\n",
    "    '''\n",
    "    xPrime = np.zeros(x.shape[0]-3)\n",
    "    yPrime = np.zeros(y.shape[0]-3)\n",
    "    for i in range(2, x.shape[0] - 2):\n",
    "        xPrime[i-2] = firstDeriv(x, i, scale)\n",
    "        yPrime[i-2] = firstDeriv(y, i, scale)\n",
    "        \n",
    "    xDoublePrime = np.zeros(x.shape[0]-5)\n",
    "    yDoublePrime = np.zeros(x,shape[0]-5)\n",
    "    for i in range(2, x.shape[0]-2):\n",
    "        xDoublePrime[i-2] = secondDeriv(x,i,scale)\n",
    "        yDoublePrime[i-2] = secondDeriv(y,i,scale)\n",
    "    top = np.power((np.power(xPrime, 2) + np.power(yPrime, 2)), 1.5)\n",
    "    bottom = np.abs(xPrime*yDoublePrime - yPrime * xDoublePrime)\n",
    "    \n",
    "    curvature = np.zeros(x.shape[0]-1)\n",
    "    curvature[2:-2] = top/bottom\n",
    "    curvature[0:2] = curvature[2]\n",
    "    curvature[-2:] = curavture[-3]\n",
    "    \n",
    "    return curvature\n",
    "\n"
   ]
  },
  {
   "cell_type": "markdown",
   "metadata": {},
   "source": [
    "## Oxbow Lakes\n",
    "<p>Oxbow lakes form by meander cutoffs. Their size is related to the sinuosity of river they form from. The distribution is log-normal, with the mean described by: </p>\n",
    "<h2><center>$3.0e^{.82S}$</center></h2>\n",
    "<p>Where $S$ is the channel sinuosity."
   ]
  },
  {
   "cell_type": "code",
   "execution_count": 2,
   "metadata": {},
   "outputs": [],
   "source": [
    "def meanOxbowLength(S):\n",
    "    return np.exp(S)"
   ]
  },
  {
   "cell_type": "markdown",
   "metadata": {},
   "source": [
    "## Channel Profiles\n",
    "<p><b>The Backwater Effect</b> is the increase in river level near a larger body of water due to water suddenly slowing down upon reaching the body. The backwater effect is defined as: </p>\n",
    "<h2><center> some equation here</center></h2>\n",
    "\n",
    "### Graded Rivers\n",
    "<p> Graded rivers are rivers that have adjusted their slopes to carry the sediment load supplied to them. The <b>stream gradient index</b> is one term to help describe graded rivers, being the local slope multiplied by distance from the river's head: $SL = \\frac{\\partial z}{\\partial x} x$ <br>\n",
    "Integrating this equation gives the height profile along the river: \n",
    "    $z = -SL ln(\\frac{x}{L})$, giving the river profile a shape of a negative log graph.</p>"
   ]
  },
  {
   "cell_type": "code",
   "execution_count": 1,
   "metadata": {},
   "outputs": [],
   "source": [
    "def streamGradientIndex(x, z):\n",
    "    '''\n",
    "    Determines the stream gradient index at each point for an ARRAY\n",
    "    '''\n",
    "    pass\n",
    "\n",
    "def gradedRiverProfile(SL, x, L):\n",
    "    '''\n",
    "    Returns an array of height values when given an\n",
    "    array of x values and SL values (and L)\n",
    "    - x: array or constant\n",
    "    - SL: array or constant\n",
    "    - L: constant\n",
    "    '''\n",
    "    return - SL*np.log(x/L)\n",
    "    "
   ]
  },
  {
   "cell_type": "markdown",
   "metadata": {},
   "source": [
    "## Baselevel\n",
    "<p><b>Baselevel</b> marks the elevation at which a river or stream can no longer erode, often a large body of water like an ocean or lake. Alluvial rivers deposit sediment when baselevel rises and erode sediment when baselevel drops. In an entirely alluvial system, the sediment transport can be represented as: </p>\n",
    "<h3><center>$\\frac{\\partial z}{\\partial t} = -\\frac{1}{\\rho_{b}} \\frac{\\partial Q_{s}}{\\partial x}$ </center></h3>\n",
    "<p>Where $Q_{s}$ is specific sediment discharge and $\\rho_{b}$ is the bulk bed density. <br>\n",
    "To determine $Q_{s}$, use the following equation:\n",
    "</p>\n",
    "<h3><center>$Q_{s} = -\\alpha Q \\frac{\\partial z}{\\partial x}$ </center></h3>\n",
    "<p>Where $Q$ is the water discharge and $\\alpha$ is a coefficient representing the efficiency of sediment transport. Combining those two equations gives the following, which represents the change in height of the bed with respect to time: </p>\n",
    "<h3><center>$\\frac{\\partial z}{\\partial t} = \\frac{\\alpha}{\\rho_{b}} [ Q \\frac{\\partial^{2} z}{\\partial x^{2}} + \\frac{\\partial Q}{\\partial x} \\frac{\\partial z}{\\partial x}]$</center></h3>\n",
    "\n",
    "<p>At a stretch of river with relatively constant discharge, $\\frac{\\partial Q}{\\partial x} = 0$, so the second term in the above equation vanishes, leaving just: </p>\n",
    "<h3><center>$\\frac{\\partial z}{\\partial t} = \\frac{\\alpha Q}{\\rho_{b}} \\frac{\\partial^{2} z}{\\partial x^{2}} = \\kappa \\frac{\\partial^{2} z}{\\partial x^{s}}$</center></h3>\n",
    "\n",
    "<p>The channel diffusion equation is now equal to the hillslope diffusion equation.</p>"
   ]
  },
  {
   "cell_type": "code",
   "execution_count": null,
   "metadata": {},
   "outputs": [],
   "source": [
    "'''\n",
    "I'm not too sure what functions I can put here.\n",
    "'''"
   ]
  }
 ],
 "metadata": {
  "kernelspec": {
   "display_name": "Python 3",
   "language": "python",
   "name": "python3"
  },
  "language_info": {
   "codemirror_mode": {
    "name": "ipython",
    "version": 3
   },
   "file_extension": ".py",
   "mimetype": "text/x-python",
   "name": "python",
   "nbconvert_exporter": "python",
   "pygments_lexer": "ipython3",
   "version": "3.7.3"
  }
 },
 "nbformat": 4,
 "nbformat_minor": 2
}
