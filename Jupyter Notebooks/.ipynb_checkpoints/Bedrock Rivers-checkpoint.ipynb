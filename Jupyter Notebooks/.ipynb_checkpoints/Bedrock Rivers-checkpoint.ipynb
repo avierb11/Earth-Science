{
 "cells": [
  {
   "cell_type": "markdown",
   "metadata": {},
   "source": [
    "# Bedrock Rivers"
   ]
  },
  {
   "cell_type": "markdown",
   "metadata": {},
   "source": [
    "<p><b>Bedrock rivers</b> are characterized by their beds being comprised of bedrock, indicating that their stream power is more than enough to move the sediment provided to them. Their remaining stream power goes into eroding the bedrock. <b>Uplift</b> is the driving force in creating a bedrock river.</p>\n",
    "<br>\n",
    "<p><b>Strath terraces</b> are bedrock river formations are caused by rivers cutting horizontally into bedrock. Often, straths are marked by potholes.</p>\n",
    "<br>\n",
    "<p><b>Caves</b> can form during incision. Sediment contained inside can be used for dating through paleomagnetism, speleothem basal age, or isotope analysis (cosmogenic radionuclides). <sup>26</sup>Al/<sup>10</sup>Be is a ratio used for this. Another application of cosmogenic radionuclide dating concerns the bedrock floor. A piece of bedrock on the bed can be dated by its concentration of radionuclides, indicating the length of time it has been exposed to the surface. This time can be represented by the following equation:</p>\n",
    "<h3><center>$C = P_{eff} T = \\frac{P_{eff} z_{*}}{E}$</center></h3>\n",
    "<p>Where $C$ is the concentration of radionuclides, $P_{eff}$ is the effective production rate, $z_{*}$ is the production length scale (~60cm in rock), and $E$ is the erosion rate. $P_{eff}$ is the difficult parameter to calculate in this equation. In order to do so, use a probability distribution of flow depths and water density to account for <b>water shielding</b>, which is when water blocks some radiation from reaching the bed. The shielding due to water can be represented as: </p>\n",
    "<h3><center>$F = e^{-(H-z)/z_{*_{w}}}$</center></h3>\n",
    "<p>Where $(H-z)$ is the thickness of the water above sample at elevation $z$, and $z_{*_{w}}$ is a length scale relating to how well cosmogenic rays penetrate through water, and has a value of 1.6m.</p>\n",
    "<p>Note that by the above equations, $T = \\frac{z_{*_{w}}}{E}$</p>"
   ]
  },
  {
   "cell_type": "code",
   "execution_count": 1,
   "metadata": {},
   "outputs": [],
   "source": [
    "def bedrockRadionuclideConcentration(Peff, E, z = .60):\n",
    "    '''\n",
    "    Returns the expected concentration of radionuclides\n",
    "    for a given effective production rate, erosion rate, \n",
    "    and production length.\n",
    "    z* is assumed to be .60m.\n",
    "    '''\n",
    "    return Peff * z / E\n",
    "\n",
    "def radioNuclideWaterShielding(H, z, z0 = 1.6):\n",
    "    '''\n",
    "    Returns the water shielding at a given height\n",
    "    '''\n",
    "    return np.exp(-(H-z)/z0)"
   ]
  },
  {
   "cell_type": "markdown",
   "metadata": {},
   "source": [
    "## Stream Power\n",
    "<p>I have used the term <b>stream power</b> in the previous section, but I haven't yet given a definition. <b>Stream power</b> is a measure of the work done by a stream of water in moving sediment, eroding bedrock, thermal energy, etc.</p>\n",
    "<p>Water in a stream has gravitational potential energy, as water flows down slopes to base level. However, this energy is not continually converted to kinetic energy, as rivers do not flow very quickly, despite a downward motion. Instead, some of this energy goes to other means. A mass of water has potential energy:</p>\n",
    "<h3><center>$U_{g} = mgH$</center></h3>\n",
    "<p>Separating $m$ into $\\rho V$ gives:</p>\n",
    "<h3><center>$U_{g} = \\rho VgH$</center></h3>\n",
    "<p>This potential energy is determined by how quickly the $H$ changes, meaning the rate of drop of the water. This value is determined by the velocity ($V$) of the water and the slope ($S$) that the water flows on. (In the Anderson and Anderson textbook, velocity is represented as U, but I use that as potential energy). What we want is the rate of potential energy loss per unit length of the channel. To do so, break up the volume of the mass of water into its dimensions:</p>\n",
    "<h3><center>$V = HWL$</center></h3>\n",
    "<p>Where $H$ is the depth of the water, $W$ is the width of the channel, and $L$ is the length of the mass of water. Divide the potential energy equation by $L$ to get the potential energy decrease per unit length:</p>\n",
    "<h3><center>$\\Omega = \\rho g H W V S$</center></h3>\n",
    "<p>This equation can be simplified further. The term for discharge is embedded within this term:</p>\n",
    "<h3><center>$Q = A_{stream} * V = HWV$</center></h3>\n",
    "<p>So, the final equation for decrease in potential energy per unit length is: </p>\n",
    "<h3><center>$\\Omega = \\rho g Q S$</center></h3>\n",
    "<p>Often, this term is normalized the channel width:</p>\n",
    "<h3><center>$\\omega = \\frac{\\rho g Q S}{W}$</center></h3>\n",
    "<p>Bed shear stress is another method to describe $\\omega$.</p>\n",
    "<h3><center>$\\tau_{b} = \\rho g H S$</center></h3>\n",
    "<h3><center>$\\omega = \\tau_{b} V$</center></h3>\n",
    "<p>If the width of the channel is relatively constant, the rate of change of the bed height can be expressed in terms of stream power.</p>\n",
    "<h3><center>$\\frac{dz}{dt} = k\\omega = \\frac{k \\rho g Q S}{W}$</center></h3>\n",
    "<p>Where k represents the erodibility of the underlying rock.</p>"
   ]
  },
  {
   "cell_type": "code",
   "execution_count": null,
   "metadata": {},
   "outputs": [],
   "source": []
  }
 ],
 "metadata": {
  "kernelspec": {
   "display_name": "Python 3",
   "language": "python",
   "name": "python3"
  },
  "language_info": {
   "codemirror_mode": {
    "name": "ipython",
    "version": 3
   },
   "file_extension": ".py",
   "mimetype": "text/x-python",
   "name": "python",
   "nbconvert_exporter": "python",
   "pygments_lexer": "ipython3",
   "version": "3.7.3"
  }
 },
 "nbformat": 4,
 "nbformat_minor": 2
}
