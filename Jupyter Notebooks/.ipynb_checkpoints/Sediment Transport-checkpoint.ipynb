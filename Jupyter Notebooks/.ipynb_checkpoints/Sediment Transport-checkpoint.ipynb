{
 "cells": [
  {
   "cell_type": "markdown",
   "metadata": {},
   "source": [
    "# Sediment Transport in Rivers\n"
   ]
  },
  {
   "cell_type": "markdown",
   "metadata": {},
   "source": [
    "## Bed Shear Stress\n",
    "<p><b>Bed shear stress</b> is one of the most important topics in river sediment transport. This equation does not hold for glaciers, as they are non-Newtonian fluids.</p>\n",
    "<h3><center>$\\tau_{b} = \\rho g h S$</center></h3>\n",
    "<p>Where $\\tau_{b}$ is the bed shear stress, $\\rho$ is the density of water, $g$ is the acceleration due to gravity, and $S$ is the slope of the region."
   ]
  },
  {
   "cell_type": "code",
   "execution_count": null,
   "metadata": {},
   "outputs": [],
   "source": [
    "def bedShear(h, S, rho = 1000, g = 9.81):\n",
    "    '''\n",
    "    Returns the bed shear stress for a given fluid depth and slope\n",
    "    for a Newtonian fluid\n",
    "    '''\n",
    "    return rho * g * h * S"
   ]
  },
  {
   "cell_type": "markdown",
   "metadata": {},
   "source": [
    "## Sediment Size Change\n",
    "<p>Over the course of its travel, sediment grains experience abrasion and become smaller. According to Sternberg (1875), the sediment decreases in weight according to the following function: </p>\n",
    "<h3><center>$W = W_{0}e^{-x/x_{0}}$</center></h3>\n",
    "<p>Where $W_{0}$ is the original clast weight and $x$ is the distance downstream. Note that in this function, the exponential is $e$.</p>\n",
    "    \n",
    "<p>It is important to note that the sand-gravel transition in both large and small rivers is relatively small, and the large transition in sediment weight would not be reflected in this equation. At a gravel bed, sand will be located under the gravel and therefore not be transported. After the transition on a sand bed, however, the gravel, having a larger grain size, would move be pushed upwards by the finer grained sand, and therefore be exposed to the flow.</p>"
   ]
  },
  {
   "cell_type": "code",
   "execution_count": 2,
   "metadata": {},
   "outputs": [],
   "source": [
    "def riverComminution(W0, x, x0):\n",
    "    '''\n",
    "    Returns the sediment grain size at a given distance\n",
    "    with a given x0 value\n",
    "    '''\n",
    "    return W0*np.exp(-x/x0)\n"
   ]
  },
  {
   "cell_type": "markdown",
   "metadata": {},
   "source": [
    "## The Exner Equation\n",
    "<p>The Exner equation describes sediment transport in rivers: </p>\n",
    "<h3><center>$c_{0} \\frac{\\partial \\eta}{\\partial t} + \\frac{\\partial q_{s}}{\\partial x} + \\frac{\\partial}{\\partial t}\\int_{\\eta}^{\\eta + h} c(y)dy = 0$</center></h3>\n",
    "<p>$c_{0} \\frac{\\partial \\eta}{\\partial t}$ represents the change in bed elevation. $c_{0}$ is the concentration of suspended sediment in the water.</p>\n",
    "<p>$\\frac{\\partial q_{s}}{\\partial x}$ is the change in the specific sediment flux over the course of the river.\n",
    "<p>$\\frac{\\partial}{\\partial t}\\int_{\\eta}^{\\eta + h} c(y)dy$ represents the sediment flow in and out of the region.\n",
    "</p>"
   ]
  },
  {
   "cell_type": "code",
   "execution_count": null,
   "metadata": {},
   "outputs": [],
   "source": []
  }
 ],
 "metadata": {
  "kernelspec": {
   "display_name": "Python 3",
   "language": "python",
   "name": "python3"
  },
  "language_info": {
   "codemirror_mode": {
    "name": "ipython",
    "version": 3
   },
   "file_extension": ".py",
   "mimetype": "text/x-python",
   "name": "python",
   "nbconvert_exporter": "python",
   "pygments_lexer": "ipython3",
   "version": "3.7.3"
  }
 },
 "nbformat": 4,
 "nbformat_minor": 2
}
