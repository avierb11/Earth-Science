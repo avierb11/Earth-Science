{
 "cells": [
  {
   "cell_type": "markdown",
   "metadata": {},
   "source": [
    "# River Velocity Equations\n",
    "<p> This notebook aims to put various equations relating to the velocity of a river into forms that can be used for computation</p>"
   ]
  },
  {
   "cell_type": "markdown",
   "metadata": {},
   "source": [
    "## The Law of the Wall\n",
    "<p> The Law of the Wall describes flow velocity in a channel as a function of depth, a characteristic turbulent length, and shear velocity\n",
    "</p>\n",
    "\n",
    "$\\bar{U} = \\frac{u_{*}}{k}\\ln(\\frac{z}{z_{0}})$\n",
    "\n",
    "<p> Where $\\bar{U}$ is velocity, $u_{*}$ is shear velocity, $k$ is the von Karman constant, which is equal to .4, $z$ is an arbitrary river height (with 0 at the bottom), and $z_{0}$ is the characteristic roughness term.\n",
    "</p>\n",
    "\n",
    "<p>Shear velocity can be calculated as $u_{*} = \\sqrt{\\frac{\\tau_{0}}{\\rho}}$</p>\n",
    "    \n",
    "<p>Where $\\tau_{0} = \\rho g h S$ </p>\n",
    "\n",
    "<p>From these equations, the Law of the Wall can be reduced to the equation that I use in my equations, $\\frac{\\sqrt{g h S}}{k} ln(\\frac{z}{z_{0}})$ </p>\n",
    "    \n",
    "    \n",
    "#### Things to add to the section\n",
    "- Equation that uses a general equation of shear velocity\n",
    "- Functions that can take an array"
   ]
  },
  {
   "cell_type": "code",
   "execution_count": 1,
   "metadata": {},
   "outputs": [],
   "source": [
    "def wallU(h, S, z, z0):\n",
    "    '''\n",
    "    This function calculates only at a single point and not at an array\n",
    "    '''\n",
    "    return ((9.81 * h * S)/.4) * math.log(z/z0)"
   ]
  },
  {
   "cell_type": "markdown",
   "metadata": {},
   "source": [
    "### Average Values\n",
    "<p> For certain calculations, the average value of the velocity over a given point may be more useful. To get the average value, use the mean value theorem to solve for the equation: \\n $\\bar{U} = h (ln(\\frac{h}{z_{0}}) - 1)$\n",
    "    \n",
    " This equation is somewhat simplified in that some terms involving $z_{0}$ are ignored because they have a negligible impact on velocity, therefore reducing the calculation price</p>\n",
    " \n",
    " \n",
    " #### Remaining parts for this section\n",
    " - Include the shear velocity and von Karman constant that I forgot\n",
    " - Point value that does NOT simplify terms\n",
    " - Definition that uses general shear veloctiy term"
   ]
  },
  {
   "cell_type": "code",
   "execution_count": null,
   "metadata": {},
   "outputs": [],
   "source": [
    "def averageWallU(h, S, z0):\n",
    "    '''\n",
    "    Calculates the average velocity over a given point\n",
    "    '''\n",
    "    return h * (log(h/z0) - 1)"
   ]
  }
 ],
 "metadata": {
  "kernelspec": {
   "display_name": "Python 3",
   "language": "python",
   "name": "python3"
  },
  "language_info": {
   "codemirror_mode": {
    "name": "ipython",
    "version": 3
   },
   "file_extension": ".py",
   "mimetype": "text/x-python",
   "name": "python",
   "nbconvert_exporter": "python",
   "pygments_lexer": "ipython3",
   "version": "3.8.3"
  }
 },
 "nbformat": 4,
 "nbformat_minor": 4
}
