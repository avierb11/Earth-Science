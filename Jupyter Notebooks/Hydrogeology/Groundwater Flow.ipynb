{
 "cells": [
  {
   "cell_type": "markdown",
   "metadata": {},
   "source": [
    "# Groundwater Flow"
   ]
  },
  {
   "cell_type": "markdown",
   "metadata": {},
   "source": [
    "## Bernoulli's Equation\n",
    "<p>Bernoulli's equation is an equation that describes the energy that a fluid has. The energy of a fluid can be contained in kinetic energy, gravitation potential energy, and pressure energy: </p>\n",
    "<h3><center>$E = \\frac{1}{2}mv^{2} + mgz + P$</center></h3>\n",
    "<p>This equation is also used in modelling the flow of water through an aquifer. By dividing each term by $m$ and $g$, the equation for <b>hydraulic head</b> is obtained: </p>\n",
    "<h3><center>$h = \\frac{v^{2}}{2g} + z + \\frac{P}{\\rho g}$</center></h3>\n",
    "<p>Where $h$ is the <b>hydraulic head</b>, given in units of length. In the ground, the water flows so slowly that the velocity term is negligible, and can therefore be taken away. In the equation, each of the terms on the right side of the equation are referred to as the <b>velocity head</b>, <b>elevation head</b>, and <b>pressure head</b>. The equation that I use for my equations is then:</p>\n",
    "<h3><center>$h = h_{z} + h_{P} = z + \\frac{P}{\\rho g}$</center></h3>\n",
    "<p>Hydraulic head is described in terms of a <b>datum</b>, and is therefore relative. The differences between head at points does NOT change, however. By this equation, it is shown that if the water is at hydrostatic equilibrium, the head is equal at any point in it. Additionally, for an unconfined aquifer, the pressure at the top of the aquifer is equal to atmosphereic pressure, which is set to zero. Hydraulic head can be measured using a piezometer.</p>\n",
    "<p>The pressure head can be calculated by rearranging this equation: </p>\n",
    "<h3><center>$P = \\rho g(h - z)$</center></h3>"
   ]
  },
  {
   "cell_type": "code",
   "execution_count": 1,
   "metadata": {},
   "outputs": [],
   "source": [
    "def calculateHydraulicHead(z, P):\n",
    "    '''\n",
    "    Calculates the hydraulic head for a given elevation and pressure.\n",
    "    '''\n",
    "    return z + P/(1000 * 9.81)\n",
    "\n",
    "def calculatePressureHead(h, z):\n",
    "    '''\n",
    "    Calculates the pressure head for a given hydraulic\n",
    "    head and elevation head\n",
    "    '''\n",
    "    return (9810)*(h - z)"
   ]
  },
  {
   "cell_type": "markdown",
   "metadata": {},
   "source": [
    "## Darcy's Law\n",
    "<p><b>Darcy's law</b> is the central equation that I use in this library. It describes the flow of groundwater between two points in terms of the head gradient between the two points and scaled by the <b>hydraulic conductivity</b>, which is a property of the medium through which the water passes, and represents the ease by which water can flow through it. Coarse grained materials like sand and gravel have high conductivities, while fine-grained materials like silt and clay have quite low values. Darcy's equation: </p>\n",
    "<h3><center>$Q = KA \\frac{dh}{dL}$ </center></h3>\n",
    "<p>Where $Q$ is the discharge passing through the two points, $K$ is the hydraulic conductivity, $A$ is the area that water flows through, $dh$ is the difference in head between the two points, and $dL$ is the distance between the two points.</p>\n",
    "<p>Dividing this equation by $A$ normalizes it to be discharge per unit area:</p>\n",
    "<h3><center>$q = -K \\frac{dh}{dL}$</center></h3>\n",
    "<p>Where $q$ is the <b>specific discharge</b> or <b>Darcy velocity</b>, but does not actually represent a real velocity. In order to determine the average velocity of the flow, divide Darcy velocity by <b>porosity</b> (the ratio of void to total space in the medium): </p>\n",
    "<h3><center>$\\bar{u} = \\frac{q}{\\theta}$</center></h3>\n",
    "<p>Since porosity is ALWAYS less than or equal to 1, the average velocity of the groundwater flow will ALWAYS be greater than or equal to Darcy velocity.</p>\n"
   ]
  },
  {
   "cell_type": "code",
   "execution_count": null,
   "metadata": {},
   "outputs": [],
   "source": [
    "def dischargeDarcy(K, length, width, h1, h2, L):\n",
    "    '''\n",
    "    returns the discharge. \n",
    "    -K is hydraulic conductivity\n",
    "    -Length and width are the dimensions of the flow area\n",
    "    -h1 and h2 are the hydraulic head values\n",
    "    -L is the distance between the two points\n",
    "    '''\n",
    "    return K*A*(h2-h1)/L\n",
    "\n",
    "def specificDischarge(K, h1, h2, L):\n",
    "    '''\n",
    "    Returns the specific discharge (Darcy velocity)\n",
    "    '''\n",
    "    return (K/L)*(h2-h1)\n",
    "\n",
    "def avgVelocity(q, theta):\n",
    "    '''\n",
    "    Returns the average velocity of flow given a Darcy velocity and porosity\n",
    "    '''\n",
    "    return q/theta"
   ]
  }
 ],
 "metadata": {
  "kernelspec": {
   "display_name": "Python 3",
   "language": "python",
   "name": "python3"
  },
  "language_info": {
   "codemirror_mode": {
    "name": "ipython",
    "version": 3
   },
   "file_extension": ".py",
   "mimetype": "text/x-python",
   "name": "python",
   "nbconvert_exporter": "python",
   "pygments_lexer": "ipython3",
   "version": "3.8.3"
  }
 },
 "nbformat": 4,
 "nbformat_minor": 4
}
