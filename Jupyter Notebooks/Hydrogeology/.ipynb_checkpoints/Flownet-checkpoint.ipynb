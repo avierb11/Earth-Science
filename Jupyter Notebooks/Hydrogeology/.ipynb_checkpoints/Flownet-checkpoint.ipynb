{
 "cells": [
  {
   "cell_type": "markdown",
   "metadata": {},
   "source": [
    "# Flownets\n",
    "<p>Flownets are a method of determining groundwater flow that follows a nonuniform path, such as flow down and under a dam. Unlike in the first formulations of groundwater flow, vertical flow is incorporated into this model. The purpose of a flownet is to display equipotential lines on a graph and separate the flow into separate stream tubes.</p>\n",
    "<br>\n",
    "<p>For this example, I use a vertical cross-section with a dam in the center. The hydraulic head is higher on one side than the other, and flow is directed down and under the dam. Just like before, groundwater flows from regions of high hydraulic head to low, though now it may also flow downward. This means that the hydraulic head in a single column is not the same, which causes water to flow downwards on the region with higher head and downwards in the region with lower head.</p>"
   ]
  },
  {
   "cell_type": "code",
   "execution_count": 179,
   "metadata": {},
   "outputs": [],
   "source": [
    "import matplotlib.pyplot as plt\n",
    "import numpy as np\n",
    "\n",
    "# The format of impermeable is: (lowerX, upperX, lowerY, upperY)\n",
    "def check(i,j, impermeable):\n",
    "    '''\n",
    "    If this function returns True, it means that the given indices are NOT\n",
    "    part of an impermeable barrier. In the flow function, this function is called\n",
    "    to check if the given cell is a barrier, as well as before the queue is calculated\n",
    "    for each element.\n",
    "    '''\n",
    "    if not ((impermeable[0] <= j <=impermeable[1]) and (impermeable[2] <= i <=impermeable[3])):\n",
    "        return True\n",
    "    else:\n",
    "        #print(\"Caught a barrier: {} {}\".format(i,j))\n",
    "        return False\n",
    "    \n",
    "\n",
    "\n",
    "def verticalFlowSimple(heads, impermeable, conductivity):\n",
    "    queue = np.zeros(heads.shape)\n",
    "    length = heads.shape[1]\n",
    "    depth = heads.shape[0]\n",
    "    corners = ((0,0),(0, length-1), (depth-1, 0),(depth-1,length-1))\n",
    "    \n",
    "    for i in range(depth):\n",
    "        for j in range(length):\n",
    "            # Check if corner\n",
    "            if not check(i,j,impermeable):\n",
    "                pass\n",
    "            elif (i,j) in corners:\n",
    "                \n",
    "                # Top left corner\n",
    "                if (i,j) == corners[0]:\n",
    "                    # Check to see if the index is in the bad range of numbers\n",
    "                    if check(i + 1,j,impermeable):\n",
    "                        queue[0,0] += heads[1,0] - heads[0,0]   # Down\n",
    "                    if check(i + 1,j,impermeable):\n",
    "                        queue[0,0] += heads[0,1] - heads[0,0]   # Left\n",
    "                        \n",
    "                # Top right corner\n",
    "                elif (i,j) == corners[1]:\n",
    "                    if check(i + 1, j, impermeable):\n",
    "                        queue[i,j] += heads[1,j] - heads[0,j]   # Down\n",
    "                    if check(i, j - 1, impermeable):\n",
    "                        queue[i,j] += heads[i,j - 1] - heads[i,j] # Left\n",
    "                        \n",
    "                # Bottom left corner\n",
    "                elif (i,j) == corners[2]:\n",
    "                    if check(i - 1,j,impermeable):\n",
    "                        queue[i,j] += heads[i - 1,j] - heads[i,j]   # Up\n",
    "                    if check(i, j + 1, impermeable):\n",
    "                        queue[i,j] += heads[i,j + 1] - heads[i,j]   # Right\n",
    "                        \n",
    "                else:\n",
    "                    if check(i - 1, j, impermeable):\n",
    "                        queue[i,j] += heads[i - 1,j] - heads[i,j]   # Up\n",
    "                    if check(i, j - 1, impermeable):\n",
    "                        queue[i,j] += heads[i, j - 1] - heads[i,j]  # Left\n",
    "                    \n",
    "                \n",
    "            # Check if on edge\n",
    "            elif ((i == 0 or i == depth - 1) or (j == 0 or j == length - 1)):\n",
    "                # Top edge\n",
    "                if i == 0:\n",
    "                    if check(i + 1,j, impermeable):\n",
    "                        queue[i,j] += heads[i + 1,j] - heads[i,j]  # Down\n",
    "                    if check(i,j - 1, impermeable):\n",
    "                        queue[i,j] += heads[i,j - 1] - heads[i,j]  # Left\n",
    "                    if check(i, j + 1, impermeable):\n",
    "                        queue[i,j] += heads[i,j + 1] - heads[i,j]  # Right\n",
    "                        \n",
    "                # Bottom edge\n",
    "                elif i == depth - 1:\n",
    "                    if check(i - 1,j, impermeable):\n",
    "                        queue[i,j] += heads[i - 1,j] - heads[i,j]  # Up\n",
    "                    if check(i,j - 1, impermeable):\n",
    "                        queue[i,j] += heads[i,j - 1] - heads[i,j]  # Left\n",
    "                    if check(i, j + 1, impermeable):\n",
    "                        queue[i,j] += heads[i,j + 1] - heads[i,j]  # Right\n",
    "                        \n",
    "                # Left edge\n",
    "                elif j == 0:\n",
    "                    if check(i - 1,j, impermeable):\n",
    "                        queue[i,j] += heads[i - 1,j] - heads[i,j]  # Up\n",
    "                    if check(i + 1,j, impermeable):\n",
    "                        queue[i,j] += heads[i + 1,j] - heads[i,j]  # Down\n",
    "                    if check(i, j + 1, impermeable):\n",
    "                        queue[i,j] += heads[i,j + 1] - heads[i,j]  # Right\n",
    "                \n",
    "                # Right edge\n",
    "                else:\n",
    "                    if check(i - 1,j, impermeable):\n",
    "                        queue[i,j] += heads[i - 1,j] - heads[i,j]  # Up\n",
    "                    if check(i + 1,j, impermeable):\n",
    "                        queue[i,j] += heads[i + 1,j] - heads[i,j]  # Down\n",
    "                    if check(i, j + 1, impermeable):\n",
    "                        queue[i,j] += heads[i,j - 1] - heads[i,j]  # Left\n",
    "                        \n",
    "            # Execute main function\n",
    "            else:\n",
    "                if check(i - 1,j, impermeable):\n",
    "                    queue[i,j] += heads[i - 1,j] - heads[i,j]  # Up\n",
    "                if check(i + 1,j, impermeable):\n",
    "                    queue[i,j] += heads[i + 1,j] - heads[i,j]  # Down\n",
    "                if check(i, j + 1, impermeable):\n",
    "                    queue[i,j] += heads[i,j + 1] - heads[i,j]  # Right\n",
    "                if check(i,j - 1, impermeable):\n",
    "                    queue[i,j] += heads[i,j - 1] - heads[i,j]  # Left\n",
    "    \n",
    "    heads += queue*conductivity\n",
    "    return heads\n",
    "\n",
    "\n",
    "\n",
    "                "
   ]
  },
  {
   "cell_type": "markdown",
   "metadata": {},
   "source": [
    "### Explanation of the function\n",
    "<p>In this new (really quite ugly) function, I am doing essentially what the previous function does: Calculate the head difference between adjacent cells and store that difference in a queue. Following this, the function then multiplies the queue by the hydraulic conductivity and applies the changes to the surrounding hydraulic heads. In order for this present formulation to work, the medium must be both heterogeneous and isotropic. I have neglected any time step or specific storage for the moment. The variable <b>impermeable</b> represents the impermeable region. At the moment, it an only represent rectangles.</p>\n",
    "<p>When plotting the head values on a colormap, some formulations show a good gradient flowing around the barrier, but sometimes they show a weird gradient pattern that I think happens because the differences don't differ enough.</p>\n",
    "<p>Things to improve:</p>\n",
    "\n",
    "- Take into account pressure or saturation of blocks.\n",
    "- Create custom color maps\n",
    "- Create equipotential lines\n",
    "\n",
    "<p>While the colors are useful, I cannot totally see what the shape of the flow is. I can see that flow is fastest just around the edge of the barrier, but I can't tell by how much. In order to do so, I'll need some equipotential lines.\n",
    "</p>"
   ]
  },
  {
   "cell_type": "code",
   "execution_count": 86,
   "metadata": {},
   "outputs": [],
   "source": [
    "import matplotlib.pyplot as plt\n",
    "import numpy as np\n",
    "\n",
    "def\n",
    "\n"
   ]
  },
  {
   "cell_type": "code",
   "execution_count": 174,
   "metadata": {},
   "outputs": [
    {
     "name": "stdout",
     "output_type": "stream",
     "text": [
      "Wall time: 950 ms\n"
     ]
    }
   ],
   "source": [
    "%%time\n",
    "length = 11\n",
    "heads = np.zeros((length,length))\n",
    "heads[:,:int(length/2)] = 10\n",
    "heads[:,int(length/2)] = 7\n",
    "heads[:,int(length/2) + 1:] = 4\n",
    "heads[0:int(length/2) + 1,int(length/2) + 1] = 10\n",
    "\n",
    "#print(\"Heads before: \")\n",
    "#print(heads)\n",
    "\n",
    "impermeable = (int(length/2),int(length/2),0,int(length/2))\n",
    "\n",
    "conductivity = .05\n",
    "\n",
    "for i in range(1000):\n",
    "    heads = verticalFlowSimple(heads, impermeable, conductivity)\n",
    "    heads[0,0] += 1\n",
    "    if heads[0,-1] <= 1:\n",
    "        heads[0,-1] = 0\n",
    "    else:\n",
    "        heads[0,-1] -= 1\n",
    "\n",
    "#print(\"\\n-------------------------------------------\\n\")\n",
    "\n",
    "#print(\"Heads after: \")\n",
    "#print(heads)"
   ]
  },
  {
   "cell_type": "code",
   "execution_count": 178,
   "metadata": {},
   "outputs": [
    {
     "data": {
      "image/png": "[encoded data removed]",
      "text/plain": [
       "<Figure size 432x288 with 1 Axes>"
      ]
     },
     "metadata": {
      "needs_background": "light"
     },
     "output_type": "display_data"
    }
   ],
   "source": [
    "x = [i for i in range(length + 1)]\n",
    "y = [i for i in range(length, -1, -1)]\n",
    "\n",
    "\n",
    "\n",
    "plt.pcolormesh(x,y, heads)\n",
    "plt.show()"
   ]
  },
  {
   "cell_type": "code",
   "execution_count": null,
   "metadata": {},
   "outputs": [],
   "source": []
  }
 ],
 "metadata": {
  "kernelspec": {
   "display_name": "Python 3",
   "language": "python",
   "name": "python3"
  },
  "language_info": {
   "codemirror_mode": {
    "name": "ipython",
    "version": 3
   },
   "file_extension": ".py",
   "mimetype": "text/x-python",
   "name": "python",
   "nbconvert_exporter": "python",
   "pygments_lexer": "ipython3",
   "version": "3.7.3"
  }
 },
 "nbformat": 4,
 "nbformat_minor": 4
}
