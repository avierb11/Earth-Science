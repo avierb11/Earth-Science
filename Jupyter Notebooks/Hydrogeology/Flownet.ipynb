{
 "cells": [
  {
   "cell_type": "markdown",
   "metadata": {},
   "source": [
    "# Flownets\n",
    "<p>Flownets are a method of determining groundwater flow that follows a nonuniform path, such as flow down and under a dam. Unlike in the first formulations of groundwater flow, vertical flow is incorporated into this model. The purpose of a flownet is to display equipotential lines on a graph and separate the flow into separate stream tubes.</p>\n",
    "<br>\n",
    "<p>For this example, I use a vertical cross-section with a dam in the center. The hydraulic head is higher on one side than the other, and flow is directed down and under the dam. Just like before, groundwater flows from regions of high hydraulic head to low, though now it may also flow downward. This means that the hydraulic head in a single column is not the same, which causes water to flow downwards on the region with higher head and downwards in the region with lower head.</p>"
   ]
  },
  {
   "cell_type": "code",
   "execution_count": null,
   "metadata": {},
   "outputs": [],
   "source": [
    "import matplotlib.pyplot as plt\n",
    "import numpy as np"
   ]
  }
 ],
 "metadata": {
  "kernelspec": {
   "display_name": "Python 3",
   "language": "python",
   "name": "python3"
  },
  "language_info": {
   "codemirror_mode": {
    "name": "ipython",
    "version": 3
   },
   "file_extension": ".py",
   "mimetype": "text/x-python",
   "name": "python",
   "nbconvert_exporter": "python",
   "pygments_lexer": "ipython3",
   "version": "3.8.3"
  }
 },
 "nbformat": 4,
 "nbformat_minor": 4
}
